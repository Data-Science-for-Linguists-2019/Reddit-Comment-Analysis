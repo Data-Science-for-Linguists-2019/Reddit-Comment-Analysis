{
 "cells": [
  {
   "cell_type": "markdown",
   "metadata": {},
   "source": [
    "<h1>Progress Report 1 Notebook</h1>"
   ]
  },
  {
   "cell_type": "code",
   "execution_count": 1,
   "metadata": {},
   "outputs": [],
   "source": [
    "import numpy as np\n",
    "import pandas as pd\n",
    "import json\n",
    "import lzma\n",
    "from pandas.io.json import json_normalize"
   ]
  },
  {
   "cell_type": "markdown",
   "metadata": {},
   "source": [
    "<a id=\"toc\"></a>\n",
    "<h2>Table of Contents</h2>\n",
    "<ol>\n",
    "    <li><a href=\"#explore\">Project Exploration</a></li>\n",
    "    <li><a href=\"#corpus\">Reading in the Corpus</a></li>\n",
    "    <li><a href=\"#save\">Saving the data</a></li>\n",
    "    <li><a href=\"#dexplore\">Data Exploration</a></li>\n",
    "    <li><a href=\"#cleaning\">Cleaning the data and Publication</a></li>\n",
    "</ol>"
   ]
  },
  {
   "cell_type": "markdown",
   "metadata": {},
   "source": [
    "<a id=\"explore\"></a>\n",
    "<h2>Project Exploration</h2>\n",
    "<p>This file will mostly be about attempting to open up my huge corpus. Uncompressed it's about 40 GB, while compressed about 3 GB. The corpus is a generic file type that holds json objects on every single line. After discussing with both Na Rae and Dan on how to proceed, we decided that attempting to read the data from it's compressed state would be best for disk space.</p>\n",
    "<p>Below is some code I used to poke the corpus, and some commented out code to indicate previous attempts. They're commented out either because of errors, or they attempt to read the whole file (which is unhealthy)</p>"
   ]
  },
  {
   "cell_type": "code",
   "execution_count": null,
   "metadata": {},
   "outputs": [],
   "source": [
    "#testframe = pd.read_csv(\"data/69M_reddit_accounts.csv\")\n",
    "testfile = open(\"data/RS_2018-10\", \"r\")"
   ]
  },
  {
   "cell_type": "code",
   "execution_count": null,
   "metadata": {},
   "outputs": [],
   "source": [
    "testread = testfile.readline()"
   ]
  },
  {
   "cell_type": "code",
   "execution_count": null,
   "metadata": {},
   "outputs": [],
   "source": [
    "testread\n",
    "testfile.close()"
   ]
  },
  {
   "cell_type": "code",
   "execution_count": null,
   "metadata": {},
   "outputs": [],
   "source": [
    "#chunksize = 10\n",
    "#foodf = pd.read_json(\"data/RS_2018-10\", chunksize=chunksize)"
   ]
  },
  {
   "cell_type": "code",
   "execution_count": null,
   "metadata": {},
   "outputs": [],
   "source": [
    "#testjson = pd.read_json(testread)"
   ]
  },
  {
   "cell_type": "markdown",
   "metadata": {},
   "source": [
    "<a id=\"corpus\"></a>\n",
    "<h2>Reading in the corpus</h2>\n",
    "<p>So this is where the magic happens of acquiring a subreddit's data. I (unfortunately) have to read every line using a for loop since the data is not sorted by subreddit. I load the json object from each object. I then check it's subreddit attribute. If it matches the subreddit I am looking for, Add it to the dataframe. It took a few tries to get this right, so there's a bit of commented code here to indicate debugging and such. This wa soriginally intended for a much larger file, but now that I'm working with smaller sample, I might not need to do this to get other subreddits. The first couple lines of this markdown were written when I originally tried to open a file containing a month's worth of content.</p>\n",
    "<p>The lzma.open is the magic word of this function here. It allows me to open the .xz files without uncompressing them on my disk drive, nor blowing up my ram by putting all of the contents in RAM. Even though I am not debugging, I left the counter in to see how many lines the function parsed.</p>"
   ]
  },
  {
   "cell_type": "code",
   "execution_count": 3,
   "metadata": {
    "scrolled": true
   },
   "outputs": [
    {
     "name": "stdout",
     "output_type": "stream",
     "text": [
      "2929215\n"
     ]
    }
   ],
   "source": [
    "#linedict = {}\n",
    "#testlist = []\n",
    "testframe = pd.DataFrame()\n",
    "counter = 0\n",
    "with lzma.open(\"data/RC_2017-12-21.xz\", mode=\"rt\") as uncompressed:\n",
    "    for line in uncompressed:\n",
    "        counter += 1\n",
    "        #print(line)\n",
    "        linedict = json.loads(line)\n",
    "        #if linedict[subreddit] = \"television\" append to dataframe\n",
    "        if linedict[\"subreddit\"] == \"AskReddit\" :\n",
    "            new_df = pd.DataFrame(json_normalize(linedict))\n",
    "            #print(new_df)\n",
    "            testframe = testframe.append(new_df, ignore_index=True, sort=False)\n",
    "            #testlist.append(linedict)\n",
    "            #print(len(testframe))\n",
    "        #if counter == 100002:\n",
    "        #    break\n",
    "        #if counter % 100000 == 0:\n",
    "        #    print(counter)\n",
    "print(counter)"
   ]
  },
  {
   "cell_type": "markdown",
   "metadata": {},
   "source": [
    "<a id=\"save\"></a>\n",
    "<h1>Saving the Data</h1>\n",
    "<p>Naturally, after finishing the compilation of the data, I wanted to save it so that I would not have to go through the process again. So, I immediately tried saving the data and then reloading it to confirm it works. Also, the fact that the above function takes a long time complete is why I will not be restarting the kernel to make those numbers on the left side have a clean order. First, the original dataframe to present the original data.</p>"
   ]
  },
  {
   "cell_type": "code",
   "execution_count": 7,
   "metadata": {},
   "outputs": [
    {
     "data": {
      "text/html": [
       "<div>\n",
       "<style scoped>\n",
       "    .dataframe tbody tr th:only-of-type {\n",
       "        vertical-align: middle;\n",
       "    }\n",
       "\n",
       "    .dataframe tbody tr th {\n",
       "        vertical-align: top;\n",
       "    }\n",
       "\n",
       "    .dataframe thead th {\n",
       "        text-align: right;\n",
       "    }\n",
       "</style>\n",
       "<table border=\"1\" class=\"dataframe\">\n",
       "  <thead>\n",
       "    <tr style=\"text-align: right;\">\n",
       "      <th></th>\n",
       "      <th>author</th>\n",
       "      <th>author_flair_css_class</th>\n",
       "      <th>author_flair_text</th>\n",
       "      <th>body</th>\n",
       "      <th>can_gild</th>\n",
       "      <th>controversiality</th>\n",
       "      <th>created_utc</th>\n",
       "      <th>distinguished</th>\n",
       "      <th>edited</th>\n",
       "      <th>gilded</th>\n",
       "      <th>...</th>\n",
       "      <th>link_id</th>\n",
       "      <th>parent_id</th>\n",
       "      <th>permalink</th>\n",
       "      <th>retrieved_on</th>\n",
       "      <th>score</th>\n",
       "      <th>stickied</th>\n",
       "      <th>subreddit</th>\n",
       "      <th>subreddit_id</th>\n",
       "      <th>subreddit_type</th>\n",
       "      <th>author_cakeday</th>\n",
       "    </tr>\n",
       "  </thead>\n",
       "  <tbody>\n",
       "    <tr>\n",
       "      <th>0</th>\n",
       "      <td>capnhist</td>\n",
       "      <td>None</td>\n",
       "      <td>None</td>\n",
       "      <td>IIRC they listed a huge number of civilians as...</td>\n",
       "      <td>True</td>\n",
       "      <td>0</td>\n",
       "      <td>1513814400</td>\n",
       "      <td>None</td>\n",
       "      <td>1513814614</td>\n",
       "      <td>0</td>\n",
       "      <td>...</td>\n",
       "      <td>t3_7l4tr5</td>\n",
       "      <td>t1_drjk8iu</td>\n",
       "      <td>/r/AskReddit/comments/7l4tr5/serious_reddit_wh...</td>\n",
       "      <td>1514928812</td>\n",
       "      <td>2</td>\n",
       "      <td>False</td>\n",
       "      <td>AskReddit</td>\n",
       "      <td>t5_2qh1i</td>\n",
       "      <td>public</td>\n",
       "      <td>NaN</td>\n",
       "    </tr>\n",
       "    <tr>\n",
       "      <th>1</th>\n",
       "      <td>ISIS_Schmisis</td>\n",
       "      <td>None</td>\n",
       "      <td>None</td>\n",
       "      <td>“I may be only 3 inches long, but I’m shaped l...</td>\n",
       "      <td>True</td>\n",
       "      <td>0</td>\n",
       "      <td>1513814402</td>\n",
       "      <td>None</td>\n",
       "      <td>0</td>\n",
       "      <td>0</td>\n",
       "      <td>...</td>\n",
       "      <td>t3_7l5j02</td>\n",
       "      <td>t3_7l5j02</td>\n",
       "      <td>/r/AskReddit/comments/7l5j02/you_just_went_vir...</td>\n",
       "      <td>1514928813</td>\n",
       "      <td>1</td>\n",
       "      <td>False</td>\n",
       "      <td>AskReddit</td>\n",
       "      <td>t5_2qh1i</td>\n",
       "      <td>public</td>\n",
       "      <td>NaN</td>\n",
       "    </tr>\n",
       "    <tr>\n",
       "      <th>2</th>\n",
       "      <td>CrankyMcCranky</td>\n",
       "      <td>None</td>\n",
       "      <td>None</td>\n",
       "      <td>I would love to see pictures!</td>\n",
       "      <td>True</td>\n",
       "      <td>0</td>\n",
       "      <td>1513814403</td>\n",
       "      <td>None</td>\n",
       "      <td>0</td>\n",
       "      <td>0</td>\n",
       "      <td>...</td>\n",
       "      <td>t3_7l17lz</td>\n",
       "      <td>t1_drj6cj8</td>\n",
       "      <td>/r/AskReddit/comments/7l17lz/whats_your_best_t...</td>\n",
       "      <td>1514928813</td>\n",
       "      <td>1</td>\n",
       "      <td>False</td>\n",
       "      <td>AskReddit</td>\n",
       "      <td>t5_2qh1i</td>\n",
       "      <td>public</td>\n",
       "      <td>NaN</td>\n",
       "    </tr>\n",
       "    <tr>\n",
       "      <th>3</th>\n",
       "      <td>Jimz0r</td>\n",
       "      <td>None</td>\n",
       "      <td>None</td>\n",
       "      <td>\"I like to travel and have fun\"\\n\\nYeah no shi...</td>\n",
       "      <td>True</td>\n",
       "      <td>0</td>\n",
       "      <td>1513814403</td>\n",
       "      <td>None</td>\n",
       "      <td>0</td>\n",
       "      <td>0</td>\n",
       "      <td>...</td>\n",
       "      <td>t3_7l3bwl</td>\n",
       "      <td>t3_7l3bwl</td>\n",
       "      <td>/r/AskReddit/comments/7l3bwl/online_daters_wha...</td>\n",
       "      <td>1514928813</td>\n",
       "      <td>2</td>\n",
       "      <td>False</td>\n",
       "      <td>AskReddit</td>\n",
       "      <td>t5_2qh1i</td>\n",
       "      <td>public</td>\n",
       "      <td>NaN</td>\n",
       "    </tr>\n",
       "    <tr>\n",
       "      <th>4</th>\n",
       "      <td>Tog149</td>\n",
       "      <td>None</td>\n",
       "      <td>None</td>\n",
       "      <td>Marrage.</td>\n",
       "      <td>True</td>\n",
       "      <td>0</td>\n",
       "      <td>1513814404</td>\n",
       "      <td>None</td>\n",
       "      <td>0</td>\n",
       "      <td>0</td>\n",
       "      <td>...</td>\n",
       "      <td>t3_7l3d93</td>\n",
       "      <td>t3_7l3d93</td>\n",
       "      <td>/r/AskReddit/comments/7l3d93/whats_a_tradition...</td>\n",
       "      <td>1514928814</td>\n",
       "      <td>1</td>\n",
       "      <td>False</td>\n",
       "      <td>AskReddit</td>\n",
       "      <td>t5_2qh1i</td>\n",
       "      <td>public</td>\n",
       "      <td>NaN</td>\n",
       "    </tr>\n",
       "  </tbody>\n",
       "</table>\n",
       "<p>5 rows × 22 columns</p>\n",
       "</div>"
      ],
      "text/plain": [
       "           author author_flair_css_class author_flair_text  \\\n",
       "0        capnhist                   None              None   \n",
       "1   ISIS_Schmisis                   None              None   \n",
       "2  CrankyMcCranky                   None              None   \n",
       "3          Jimz0r                   None              None   \n",
       "4          Tog149                   None              None   \n",
       "\n",
       "                                                body  can_gild  \\\n",
       "0  IIRC they listed a huge number of civilians as...      True   \n",
       "1  “I may be only 3 inches long, but I’m shaped l...      True   \n",
       "2                      I would love to see pictures!      True   \n",
       "3  \"I like to travel and have fun\"\\n\\nYeah no shi...      True   \n",
       "4                                           Marrage.      True   \n",
       "\n",
       "   controversiality  created_utc distinguished      edited  gilded  \\\n",
       "0                 0   1513814400          None  1513814614       0   \n",
       "1                 0   1513814402          None           0       0   \n",
       "2                 0   1513814403          None           0       0   \n",
       "3                 0   1513814403          None           0       0   \n",
       "4                 0   1513814404          None           0       0   \n",
       "\n",
       "       ...          link_id   parent_id  \\\n",
       "0      ...        t3_7l4tr5  t1_drjk8iu   \n",
       "1      ...        t3_7l5j02   t3_7l5j02   \n",
       "2      ...        t3_7l17lz  t1_drj6cj8   \n",
       "3      ...        t3_7l3bwl   t3_7l3bwl   \n",
       "4      ...        t3_7l3d93   t3_7l3d93   \n",
       "\n",
       "                                           permalink retrieved_on score  \\\n",
       "0  /r/AskReddit/comments/7l4tr5/serious_reddit_wh...   1514928812     2   \n",
       "1  /r/AskReddit/comments/7l5j02/you_just_went_vir...   1514928813     1   \n",
       "2  /r/AskReddit/comments/7l17lz/whats_your_best_t...   1514928813     1   \n",
       "3  /r/AskReddit/comments/7l3bwl/online_daters_wha...   1514928813     2   \n",
       "4  /r/AskReddit/comments/7l3d93/whats_a_tradition...   1514928814     1   \n",
       "\n",
       "   stickied  subreddit  subreddit_id subreddit_type author_cakeday  \n",
       "0     False  AskReddit      t5_2qh1i         public            NaN  \n",
       "1     False  AskReddit      t5_2qh1i         public            NaN  \n",
       "2     False  AskReddit      t5_2qh1i         public            NaN  \n",
       "3     False  AskReddit      t5_2qh1i         public            NaN  \n",
       "4     False  AskReddit      t5_2qh1i         public            NaN  \n",
       "\n",
       "[5 rows x 22 columns]"
      ]
     },
     "execution_count": 7,
     "metadata": {},
     "output_type": "execute_result"
    }
   ],
   "source": [
    "testframe.head()"
   ]
  },
  {
   "cell_type": "markdown",
   "metadata": {},
   "source": [
    "<h2>CSV</h2>\n",
    "<p>First, I tried csv since we've been working with that one in class. Since I haven't replaced the None values, I expect a little quikiness...</p>"
   ]
  },
  {
   "cell_type": "code",
   "execution_count": 25,
   "metadata": {},
   "outputs": [],
   "source": [
    "testframe.to_csv(\"data/AskReddit.csv\")"
   ]
  },
  {
   "cell_type": "code",
   "execution_count": 26,
   "metadata": {},
   "outputs": [
    {
     "name": "stderr",
     "output_type": "stream",
     "text": [
      "C:\\Users\\Matt\\Anaconda3\\lib\\site-packages\\IPython\\core\\interactiveshell.py:3020: DtypeWarning: Columns (0,5,7,9,10,12,16,17,18) have mixed types. Specify dtype option on import or set low_memory=False.\n",
      "  interactivity=interactivity, compiler=compiler, result=result)\n"
     ]
    }
   ],
   "source": [
    "csvframe = pd.read_csv(\"data/AskReddit.csv\")"
   ]
  },
  {
   "cell_type": "code",
   "execution_count": 27,
   "metadata": {},
   "outputs": [
    {
     "data": {
      "text/html": [
       "<div>\n",
       "<style scoped>\n",
       "    .dataframe tbody tr th:only-of-type {\n",
       "        vertical-align: middle;\n",
       "    }\n",
       "\n",
       "    .dataframe tbody tr th {\n",
       "        vertical-align: top;\n",
       "    }\n",
       "\n",
       "    .dataframe thead th {\n",
       "        text-align: right;\n",
       "    }\n",
       "</style>\n",
       "<table border=\"1\" class=\"dataframe\">\n",
       "  <thead>\n",
       "    <tr style=\"text-align: right;\">\n",
       "      <th></th>\n",
       "      <th>Unnamed: 0</th>\n",
       "      <th>author</th>\n",
       "      <th>author_flair_css_class</th>\n",
       "      <th>author_flair_text</th>\n",
       "      <th>body</th>\n",
       "      <th>can_gild</th>\n",
       "      <th>controversiality</th>\n",
       "      <th>created_utc</th>\n",
       "      <th>distinguished</th>\n",
       "      <th>edited</th>\n",
       "      <th>...</th>\n",
       "      <th>link_id</th>\n",
       "      <th>parent_id</th>\n",
       "      <th>permalink</th>\n",
       "      <th>retrieved_on</th>\n",
       "      <th>score</th>\n",
       "      <th>stickied</th>\n",
       "      <th>subreddit</th>\n",
       "      <th>subreddit_id</th>\n",
       "      <th>subreddit_type</th>\n",
       "      <th>author_cakeday</th>\n",
       "    </tr>\n",
       "  </thead>\n",
       "  <tbody>\n",
       "    <tr>\n",
       "      <th>0</th>\n",
       "      <td>0</td>\n",
       "      <td>capnhist</td>\n",
       "      <td>NaN</td>\n",
       "      <td>NaN</td>\n",
       "      <td>IIRC they listed a huge number of civilians as...</td>\n",
       "      <td>True</td>\n",
       "      <td>0.0</td>\n",
       "      <td>1513814400</td>\n",
       "      <td>NaN</td>\n",
       "      <td>1513814614</td>\n",
       "      <td>...</td>\n",
       "      <td>t3_7l4tr5</td>\n",
       "      <td>t1_drjk8iu</td>\n",
       "      <td>/r/AskReddit/comments/7l4tr5/serious_reddit_wh...</td>\n",
       "      <td>1514928812</td>\n",
       "      <td>2</td>\n",
       "      <td>False</td>\n",
       "      <td>AskReddit</td>\n",
       "      <td>t5_2qh1i</td>\n",
       "      <td>public</td>\n",
       "      <td>NaN</td>\n",
       "    </tr>\n",
       "    <tr>\n",
       "      <th>1</th>\n",
       "      <td>1</td>\n",
       "      <td>ISIS_Schmisis</td>\n",
       "      <td>NaN</td>\n",
       "      <td>NaN</td>\n",
       "      <td>“I may be only 3 inches long, but I’m shaped l...</td>\n",
       "      <td>True</td>\n",
       "      <td>0.0</td>\n",
       "      <td>1513814402</td>\n",
       "      <td>NaN</td>\n",
       "      <td>0</td>\n",
       "      <td>...</td>\n",
       "      <td>t3_7l5j02</td>\n",
       "      <td>t3_7l5j02</td>\n",
       "      <td>/r/AskReddit/comments/7l5j02/you_just_went_vir...</td>\n",
       "      <td>1514928813</td>\n",
       "      <td>1</td>\n",
       "      <td>False</td>\n",
       "      <td>AskReddit</td>\n",
       "      <td>t5_2qh1i</td>\n",
       "      <td>public</td>\n",
       "      <td>NaN</td>\n",
       "    </tr>\n",
       "    <tr>\n",
       "      <th>2</th>\n",
       "      <td>2</td>\n",
       "      <td>CrankyMcCranky</td>\n",
       "      <td>NaN</td>\n",
       "      <td>NaN</td>\n",
       "      <td>I would love to see pictures!</td>\n",
       "      <td>True</td>\n",
       "      <td>0.0</td>\n",
       "      <td>1513814403</td>\n",
       "      <td>NaN</td>\n",
       "      <td>0</td>\n",
       "      <td>...</td>\n",
       "      <td>t3_7l17lz</td>\n",
       "      <td>t1_drj6cj8</td>\n",
       "      <td>/r/AskReddit/comments/7l17lz/whats_your_best_t...</td>\n",
       "      <td>1514928813</td>\n",
       "      <td>1</td>\n",
       "      <td>False</td>\n",
       "      <td>AskReddit</td>\n",
       "      <td>t5_2qh1i</td>\n",
       "      <td>public</td>\n",
       "      <td>NaN</td>\n",
       "    </tr>\n",
       "    <tr>\n",
       "      <th>3</th>\n",
       "      <td>3</td>\n",
       "      <td>Jimz0r</td>\n",
       "      <td>NaN</td>\n",
       "      <td>NaN</td>\n",
       "      <td>\"I like to travel and have fun\"\\r\\n\\r\\nYeah no...</td>\n",
       "      <td>True</td>\n",
       "      <td>0.0</td>\n",
       "      <td>1513814403</td>\n",
       "      <td>NaN</td>\n",
       "      <td>0</td>\n",
       "      <td>...</td>\n",
       "      <td>t3_7l3bwl</td>\n",
       "      <td>t3_7l3bwl</td>\n",
       "      <td>/r/AskReddit/comments/7l3bwl/online_daters_wha...</td>\n",
       "      <td>1514928813</td>\n",
       "      <td>2</td>\n",
       "      <td>False</td>\n",
       "      <td>AskReddit</td>\n",
       "      <td>t5_2qh1i</td>\n",
       "      <td>public</td>\n",
       "      <td>NaN</td>\n",
       "    </tr>\n",
       "    <tr>\n",
       "      <th>4</th>\n",
       "      <td>4</td>\n",
       "      <td>Tog149</td>\n",
       "      <td>NaN</td>\n",
       "      <td>NaN</td>\n",
       "      <td>Marrage.</td>\n",
       "      <td>True</td>\n",
       "      <td>0.0</td>\n",
       "      <td>1513814404</td>\n",
       "      <td>NaN</td>\n",
       "      <td>0</td>\n",
       "      <td>...</td>\n",
       "      <td>t3_7l3d93</td>\n",
       "      <td>t3_7l3d93</td>\n",
       "      <td>/r/AskReddit/comments/7l3d93/whats_a_tradition...</td>\n",
       "      <td>1514928814</td>\n",
       "      <td>1</td>\n",
       "      <td>False</td>\n",
       "      <td>AskReddit</td>\n",
       "      <td>t5_2qh1i</td>\n",
       "      <td>public</td>\n",
       "      <td>NaN</td>\n",
       "    </tr>\n",
       "  </tbody>\n",
       "</table>\n",
       "<p>5 rows × 23 columns</p>\n",
       "</div>"
      ],
      "text/plain": [
       "  Unnamed: 0          author  author_flair_css_class  author_flair_text  \\\n",
       "0          0        capnhist                     NaN                NaN   \n",
       "1          1   ISIS_Schmisis                     NaN                NaN   \n",
       "2          2  CrankyMcCranky                     NaN                NaN   \n",
       "3          3          Jimz0r                     NaN                NaN   \n",
       "4          4          Tog149                     NaN                NaN   \n",
       "\n",
       "                                                body can_gild  \\\n",
       "0  IIRC they listed a huge number of civilians as...     True   \n",
       "1  “I may be only 3 inches long, but I’m shaped l...     True   \n",
       "2                      I would love to see pictures!     True   \n",
       "3  \"I like to travel and have fun\"\\r\\n\\r\\nYeah no...     True   \n",
       "4                                           Marrage.     True   \n",
       "\n",
       "   controversiality created_utc distinguished      edited      ...        \\\n",
       "0               0.0  1513814400           NaN  1513814614      ...         \n",
       "1               0.0  1513814402           NaN           0      ...         \n",
       "2               0.0  1513814403           NaN           0      ...         \n",
       "3               0.0  1513814403           NaN           0      ...         \n",
       "4               0.0  1513814404           NaN           0      ...         \n",
       "\n",
       "     link_id   parent_id                                          permalink  \\\n",
       "0  t3_7l4tr5  t1_drjk8iu  /r/AskReddit/comments/7l4tr5/serious_reddit_wh...   \n",
       "1  t3_7l5j02   t3_7l5j02  /r/AskReddit/comments/7l5j02/you_just_went_vir...   \n",
       "2  t3_7l17lz  t1_drj6cj8  /r/AskReddit/comments/7l17lz/whats_your_best_t...   \n",
       "3  t3_7l3bwl   t3_7l3bwl  /r/AskReddit/comments/7l3bwl/online_daters_wha...   \n",
       "4  t3_7l3d93   t3_7l3d93  /r/AskReddit/comments/7l3d93/whats_a_tradition...   \n",
       "\n",
       "  retrieved_on score stickied  subreddit subreddit_id subreddit_type  \\\n",
       "0   1514928812     2    False  AskReddit     t5_2qh1i         public   \n",
       "1   1514928813     1    False  AskReddit     t5_2qh1i         public   \n",
       "2   1514928813     1    False  AskReddit     t5_2qh1i         public   \n",
       "3   1514928813     2    False  AskReddit     t5_2qh1i         public   \n",
       "4   1514928814     1    False  AskReddit     t5_2qh1i         public   \n",
       "\n",
       "  author_cakeday  \n",
       "0            NaN  \n",
       "1            NaN  \n",
       "2            NaN  \n",
       "3            NaN  \n",
       "4            NaN  \n",
       "\n",
       "[5 rows x 23 columns]"
      ]
     },
     "execution_count": 27,
     "metadata": {},
     "output_type": "execute_result"
    }
   ],
   "source": [
    "csvframe.head()"
   ]
  },
  {
   "cell_type": "code",
   "execution_count": 29,
   "metadata": {},
   "outputs": [
    {
     "name": "stdout",
     "output_type": "stream",
     "text": [
      "198472 vs. 198482\n"
     ]
    }
   ],
   "source": [
    "print(len(testframe), \"vs.\", len(csvframe2))"
   ]
  },
  {
   "cell_type": "markdown",
   "metadata": {},
   "source": [
    "<p>Except now there's an extra column, not to mention 10 entries magically appeared out of nowhere. Yikes.</p>\n",
    "<h2>JSON</h2>\n",
    "<p>Moving on, I thought I would actually test repackaging it by json, like the way the file originally came (uncompressed anyway).</p>"
   ]
  },
  {
   "cell_type": "code",
   "execution_count": 39,
   "metadata": {},
   "outputs": [],
   "source": [
    "testframe.to_json(\"data/AskRedditJson\")"
   ]
  },
  {
   "cell_type": "code",
   "execution_count": 31,
   "metadata": {},
   "outputs": [],
   "source": [
    "jsonframe = pd.read_json(\"data/AskRedditJson\")"
   ]
  },
  {
   "cell_type": "code",
   "execution_count": 35,
   "metadata": {},
   "outputs": [
    {
     "data": {
      "text/html": [
       "<div>\n",
       "<style scoped>\n",
       "    .dataframe tbody tr th:only-of-type {\n",
       "        vertical-align: middle;\n",
       "    }\n",
       "\n",
       "    .dataframe tbody tr th {\n",
       "        vertical-align: top;\n",
       "    }\n",
       "\n",
       "    .dataframe thead th {\n",
       "        text-align: right;\n",
       "    }\n",
       "</style>\n",
       "<table border=\"1\" class=\"dataframe\">\n",
       "  <thead>\n",
       "    <tr style=\"text-align: right;\">\n",
       "      <th></th>\n",
       "      <th>author</th>\n",
       "      <th>author_flair_css_class</th>\n",
       "      <th>author_flair_text</th>\n",
       "      <th>body</th>\n",
       "      <th>can_gild</th>\n",
       "      <th>controversiality</th>\n",
       "      <th>created_utc</th>\n",
       "      <th>distinguished</th>\n",
       "      <th>edited</th>\n",
       "      <th>gilded</th>\n",
       "      <th>...</th>\n",
       "      <th>link_id</th>\n",
       "      <th>parent_id</th>\n",
       "      <th>permalink</th>\n",
       "      <th>retrieved_on</th>\n",
       "      <th>score</th>\n",
       "      <th>stickied</th>\n",
       "      <th>subreddit</th>\n",
       "      <th>subreddit_id</th>\n",
       "      <th>subreddit_type</th>\n",
       "      <th>author_cakeday</th>\n",
       "    </tr>\n",
       "  </thead>\n",
       "  <tbody>\n",
       "    <tr>\n",
       "      <th>0</th>\n",
       "      <td>capnhist</td>\n",
       "      <td>NaN</td>\n",
       "      <td>NaN</td>\n",
       "      <td>IIRC they listed a huge number of civilians as...</td>\n",
       "      <td>True</td>\n",
       "      <td>0</td>\n",
       "      <td>1513814400</td>\n",
       "      <td>None</td>\n",
       "      <td>1513814614</td>\n",
       "      <td>0</td>\n",
       "      <td>...</td>\n",
       "      <td>t3_7l4tr5</td>\n",
       "      <td>t1_drjk8iu</td>\n",
       "      <td>/r/AskReddit/comments/7l4tr5/serious_reddit_wh...</td>\n",
       "      <td>1514928812</td>\n",
       "      <td>2</td>\n",
       "      <td>False</td>\n",
       "      <td>AskReddit</td>\n",
       "      <td>t5_2qh1i</td>\n",
       "      <td>public</td>\n",
       "      <td>NaN</td>\n",
       "    </tr>\n",
       "    <tr>\n",
       "      <th>1</th>\n",
       "      <td>ISIS_Schmisis</td>\n",
       "      <td>NaN</td>\n",
       "      <td>NaN</td>\n",
       "      <td>“I may be only 3 inches long, but I’m shaped l...</td>\n",
       "      <td>True</td>\n",
       "      <td>0</td>\n",
       "      <td>1513814402</td>\n",
       "      <td>None</td>\n",
       "      <td>0</td>\n",
       "      <td>0</td>\n",
       "      <td>...</td>\n",
       "      <td>t3_7l5j02</td>\n",
       "      <td>t3_7l5j02</td>\n",
       "      <td>/r/AskReddit/comments/7l5j02/you_just_went_vir...</td>\n",
       "      <td>1514928813</td>\n",
       "      <td>1</td>\n",
       "      <td>False</td>\n",
       "      <td>AskReddit</td>\n",
       "      <td>t5_2qh1i</td>\n",
       "      <td>public</td>\n",
       "      <td>NaN</td>\n",
       "    </tr>\n",
       "    <tr>\n",
       "      <th>10</th>\n",
       "      <td>bossmanpb</td>\n",
       "      <td>NaN</td>\n",
       "      <td>NaN</td>\n",
       "      <td>Pika....</td>\n",
       "      <td>True</td>\n",
       "      <td>0</td>\n",
       "      <td>1513814406</td>\n",
       "      <td>None</td>\n",
       "      <td>0</td>\n",
       "      <td>0</td>\n",
       "      <td>...</td>\n",
       "      <td>t3_7l1oz0</td>\n",
       "      <td>t3_7l1oz0</td>\n",
       "      <td>/r/AskReddit/comments/7l1oz0/who_wouldve_been_...</td>\n",
       "      <td>1514928815</td>\n",
       "      <td>1</td>\n",
       "      <td>False</td>\n",
       "      <td>AskReddit</td>\n",
       "      <td>t5_2qh1i</td>\n",
       "      <td>public</td>\n",
       "      <td>NaN</td>\n",
       "    </tr>\n",
       "    <tr>\n",
       "      <th>100</th>\n",
       "      <td>MNCPA</td>\n",
       "      <td>NaN</td>\n",
       "      <td>NaN</td>\n",
       "      <td>Really any question would work. Asking no ques...</td>\n",
       "      <td>True</td>\n",
       "      <td>0</td>\n",
       "      <td>1513814463</td>\n",
       "      <td>None</td>\n",
       "      <td>0</td>\n",
       "      <td>0</td>\n",
       "      <td>...</td>\n",
       "      <td>t3_7l5jjs</td>\n",
       "      <td>t3_7l5jjs</td>\n",
       "      <td>/r/AskReddit/comments/7l5jjs/job_interviewers_...</td>\n",
       "      <td>1514928840</td>\n",
       "      <td>1</td>\n",
       "      <td>False</td>\n",
       "      <td>AskReddit</td>\n",
       "      <td>t5_2qh1i</td>\n",
       "      <td>public</td>\n",
       "      <td>NaN</td>\n",
       "    </tr>\n",
       "    <tr>\n",
       "      <th>1000</th>\n",
       "      <td>Some_dude_in_reddit</td>\n",
       "      <td>NaN</td>\n",
       "      <td>NaN</td>\n",
       "      <td>You ask them nicely.</td>\n",
       "      <td>True</td>\n",
       "      <td>0</td>\n",
       "      <td>1513814930</td>\n",
       "      <td>None</td>\n",
       "      <td>0</td>\n",
       "      <td>0</td>\n",
       "      <td>...</td>\n",
       "      <td>t3_7l2khw</td>\n",
       "      <td>t3_7l2khw</td>\n",
       "      <td>/r/AskReddit/comments/7l2khw/you_are_canada_ho...</td>\n",
       "      <td>1514929053</td>\n",
       "      <td>1</td>\n",
       "      <td>False</td>\n",
       "      <td>AskReddit</td>\n",
       "      <td>t5_2qh1i</td>\n",
       "      <td>public</td>\n",
       "      <td>NaN</td>\n",
       "    </tr>\n",
       "  </tbody>\n",
       "</table>\n",
       "<p>5 rows × 22 columns</p>\n",
       "</div>"
      ],
      "text/plain": [
       "                   author  author_flair_css_class  author_flair_text  \\\n",
       "0                capnhist                     NaN                NaN   \n",
       "1           ISIS_Schmisis                     NaN                NaN   \n",
       "10              bossmanpb                     NaN                NaN   \n",
       "100                 MNCPA                     NaN                NaN   \n",
       "1000  Some_dude_in_reddit                     NaN                NaN   \n",
       "\n",
       "                                                   body  can_gild  \\\n",
       "0     IIRC they listed a huge number of civilians as...      True   \n",
       "1     “I may be only 3 inches long, but I’m shaped l...      True   \n",
       "10                                             Pika....      True   \n",
       "100   Really any question would work. Asking no ques...      True   \n",
       "1000                               You ask them nicely.      True   \n",
       "\n",
       "      controversiality  created_utc distinguished      edited  gilded  \\\n",
       "0                    0   1513814400          None  1513814614       0   \n",
       "1                    0   1513814402          None           0       0   \n",
       "10                   0   1513814406          None           0       0   \n",
       "100                  0   1513814463          None           0       0   \n",
       "1000                 0   1513814930          None           0       0   \n",
       "\n",
       "          ...          link_id   parent_id  \\\n",
       "0         ...        t3_7l4tr5  t1_drjk8iu   \n",
       "1         ...        t3_7l5j02   t3_7l5j02   \n",
       "10        ...        t3_7l1oz0   t3_7l1oz0   \n",
       "100       ...        t3_7l5jjs   t3_7l5jjs   \n",
       "1000      ...        t3_7l2khw   t3_7l2khw   \n",
       "\n",
       "                                              permalink retrieved_on score  \\\n",
       "0     /r/AskReddit/comments/7l4tr5/serious_reddit_wh...   1514928812     2   \n",
       "1     /r/AskReddit/comments/7l5j02/you_just_went_vir...   1514928813     1   \n",
       "10    /r/AskReddit/comments/7l1oz0/who_wouldve_been_...   1514928815     1   \n",
       "100   /r/AskReddit/comments/7l5jjs/job_interviewers_...   1514928840     1   \n",
       "1000  /r/AskReddit/comments/7l2khw/you_are_canada_ho...   1514929053     1   \n",
       "\n",
       "      stickied  subreddit  subreddit_id subreddit_type author_cakeday  \n",
       "0        False  AskReddit      t5_2qh1i         public            NaN  \n",
       "1        False  AskReddit      t5_2qh1i         public            NaN  \n",
       "10       False  AskReddit      t5_2qh1i         public            NaN  \n",
       "100      False  AskReddit      t5_2qh1i         public            NaN  \n",
       "1000     False  AskReddit      t5_2qh1i         public            NaN  \n",
       "\n",
       "[5 rows x 22 columns]"
      ]
     },
     "execution_count": 35,
     "metadata": {},
     "output_type": "execute_result"
    }
   ],
   "source": [
    "jsonframe.head()"
   ]
  },
  {
   "cell_type": "code",
   "execution_count": 34,
   "metadata": {},
   "outputs": [
    {
     "name": "stdout",
     "output_type": "stream",
     "text": [
      "198472 vs. 198472\n"
     ]
    }
   ],
   "source": [
    "print(len(testframe), \"vs.\", len(jsonframe))"
   ]
  },
  {
   "cell_type": "markdown",
   "metadata": {},
   "source": [
    "<p>Well, it seems mostly right, but there's this weird indexing thing going on. Maybe there's a setting to fix this, but since I was desparate to save my data so that I wouldn't lose progress, I moved on to the next format.</p>\n",
    "<h2>Pickling!</h2>\n",
    "<p>After googling if there were alternatives, I found pandas has a pickling function specifically for dataframes. Given my positive experiences with pickling in the past, I tried this next.</p>"
   ]
  },
  {
   "cell_type": "code",
   "execution_count": 36,
   "metadata": {},
   "outputs": [],
   "source": [
    "testframe.to_pickle(\"data/AskRedditPickle.pkl\")"
   ]
  },
  {
   "cell_type": "code",
   "execution_count": 37,
   "metadata": {},
   "outputs": [],
   "source": [
    "pickleframe = pd.read_pickle(\"data/AskRedditPickle.pkl\")"
   ]
  },
  {
   "cell_type": "code",
   "execution_count": 38,
   "metadata": {},
   "outputs": [
    {
     "data": {
      "text/html": [
       "<div>\n",
       "<style scoped>\n",
       "    .dataframe tbody tr th:only-of-type {\n",
       "        vertical-align: middle;\n",
       "    }\n",
       "\n",
       "    .dataframe tbody tr th {\n",
       "        vertical-align: top;\n",
       "    }\n",
       "\n",
       "    .dataframe thead th {\n",
       "        text-align: right;\n",
       "    }\n",
       "</style>\n",
       "<table border=\"1\" class=\"dataframe\">\n",
       "  <thead>\n",
       "    <tr style=\"text-align: right;\">\n",
       "      <th></th>\n",
       "      <th>author</th>\n",
       "      <th>author_flair_css_class</th>\n",
       "      <th>author_flair_text</th>\n",
       "      <th>body</th>\n",
       "      <th>can_gild</th>\n",
       "      <th>controversiality</th>\n",
       "      <th>created_utc</th>\n",
       "      <th>distinguished</th>\n",
       "      <th>edited</th>\n",
       "      <th>gilded</th>\n",
       "      <th>...</th>\n",
       "      <th>link_id</th>\n",
       "      <th>parent_id</th>\n",
       "      <th>permalink</th>\n",
       "      <th>retrieved_on</th>\n",
       "      <th>score</th>\n",
       "      <th>stickied</th>\n",
       "      <th>subreddit</th>\n",
       "      <th>subreddit_id</th>\n",
       "      <th>subreddit_type</th>\n",
       "      <th>author_cakeday</th>\n",
       "    </tr>\n",
       "  </thead>\n",
       "  <tbody>\n",
       "    <tr>\n",
       "      <th>0</th>\n",
       "      <td>capnhist</td>\n",
       "      <td>None</td>\n",
       "      <td>None</td>\n",
       "      <td>IIRC they listed a huge number of civilians as...</td>\n",
       "      <td>True</td>\n",
       "      <td>0</td>\n",
       "      <td>1513814400</td>\n",
       "      <td>None</td>\n",
       "      <td>1513814614</td>\n",
       "      <td>0</td>\n",
       "      <td>...</td>\n",
       "      <td>t3_7l4tr5</td>\n",
       "      <td>t1_drjk8iu</td>\n",
       "      <td>/r/AskReddit/comments/7l4tr5/serious_reddit_wh...</td>\n",
       "      <td>1514928812</td>\n",
       "      <td>2</td>\n",
       "      <td>False</td>\n",
       "      <td>AskReddit</td>\n",
       "      <td>t5_2qh1i</td>\n",
       "      <td>public</td>\n",
       "      <td>NaN</td>\n",
       "    </tr>\n",
       "    <tr>\n",
       "      <th>1</th>\n",
       "      <td>ISIS_Schmisis</td>\n",
       "      <td>None</td>\n",
       "      <td>None</td>\n",
       "      <td>“I may be only 3 inches long, but I’m shaped l...</td>\n",
       "      <td>True</td>\n",
       "      <td>0</td>\n",
       "      <td>1513814402</td>\n",
       "      <td>None</td>\n",
       "      <td>0</td>\n",
       "      <td>0</td>\n",
       "      <td>...</td>\n",
       "      <td>t3_7l5j02</td>\n",
       "      <td>t3_7l5j02</td>\n",
       "      <td>/r/AskReddit/comments/7l5j02/you_just_went_vir...</td>\n",
       "      <td>1514928813</td>\n",
       "      <td>1</td>\n",
       "      <td>False</td>\n",
       "      <td>AskReddit</td>\n",
       "      <td>t5_2qh1i</td>\n",
       "      <td>public</td>\n",
       "      <td>NaN</td>\n",
       "    </tr>\n",
       "    <tr>\n",
       "      <th>2</th>\n",
       "      <td>CrankyMcCranky</td>\n",
       "      <td>None</td>\n",
       "      <td>None</td>\n",
       "      <td>I would love to see pictures!</td>\n",
       "      <td>True</td>\n",
       "      <td>0</td>\n",
       "      <td>1513814403</td>\n",
       "      <td>None</td>\n",
       "      <td>0</td>\n",
       "      <td>0</td>\n",
       "      <td>...</td>\n",
       "      <td>t3_7l17lz</td>\n",
       "      <td>t1_drj6cj8</td>\n",
       "      <td>/r/AskReddit/comments/7l17lz/whats_your_best_t...</td>\n",
       "      <td>1514928813</td>\n",
       "      <td>1</td>\n",
       "      <td>False</td>\n",
       "      <td>AskReddit</td>\n",
       "      <td>t5_2qh1i</td>\n",
       "      <td>public</td>\n",
       "      <td>NaN</td>\n",
       "    </tr>\n",
       "    <tr>\n",
       "      <th>3</th>\n",
       "      <td>Jimz0r</td>\n",
       "      <td>None</td>\n",
       "      <td>None</td>\n",
       "      <td>\"I like to travel and have fun\"\\n\\nYeah no shi...</td>\n",
       "      <td>True</td>\n",
       "      <td>0</td>\n",
       "      <td>1513814403</td>\n",
       "      <td>None</td>\n",
       "      <td>0</td>\n",
       "      <td>0</td>\n",
       "      <td>...</td>\n",
       "      <td>t3_7l3bwl</td>\n",
       "      <td>t3_7l3bwl</td>\n",
       "      <td>/r/AskReddit/comments/7l3bwl/online_daters_wha...</td>\n",
       "      <td>1514928813</td>\n",
       "      <td>2</td>\n",
       "      <td>False</td>\n",
       "      <td>AskReddit</td>\n",
       "      <td>t5_2qh1i</td>\n",
       "      <td>public</td>\n",
       "      <td>NaN</td>\n",
       "    </tr>\n",
       "    <tr>\n",
       "      <th>4</th>\n",
       "      <td>Tog149</td>\n",
       "      <td>None</td>\n",
       "      <td>None</td>\n",
       "      <td>Marrage.</td>\n",
       "      <td>True</td>\n",
       "      <td>0</td>\n",
       "      <td>1513814404</td>\n",
       "      <td>None</td>\n",
       "      <td>0</td>\n",
       "      <td>0</td>\n",
       "      <td>...</td>\n",
       "      <td>t3_7l3d93</td>\n",
       "      <td>t3_7l3d93</td>\n",
       "      <td>/r/AskReddit/comments/7l3d93/whats_a_tradition...</td>\n",
       "      <td>1514928814</td>\n",
       "      <td>1</td>\n",
       "      <td>False</td>\n",
       "      <td>AskReddit</td>\n",
       "      <td>t5_2qh1i</td>\n",
       "      <td>public</td>\n",
       "      <td>NaN</td>\n",
       "    </tr>\n",
       "  </tbody>\n",
       "</table>\n",
       "<p>5 rows × 22 columns</p>\n",
       "</div>"
      ],
      "text/plain": [
       "           author author_flair_css_class author_flair_text  \\\n",
       "0        capnhist                   None              None   \n",
       "1   ISIS_Schmisis                   None              None   \n",
       "2  CrankyMcCranky                   None              None   \n",
       "3          Jimz0r                   None              None   \n",
       "4          Tog149                   None              None   \n",
       "\n",
       "                                                body  can_gild  \\\n",
       "0  IIRC they listed a huge number of civilians as...      True   \n",
       "1  “I may be only 3 inches long, but I’m shaped l...      True   \n",
       "2                      I would love to see pictures!      True   \n",
       "3  \"I like to travel and have fun\"\\n\\nYeah no shi...      True   \n",
       "4                                           Marrage.      True   \n",
       "\n",
       "   controversiality  created_utc distinguished      edited  gilded  \\\n",
       "0                 0   1513814400          None  1513814614       0   \n",
       "1                 0   1513814402          None           0       0   \n",
       "2                 0   1513814403          None           0       0   \n",
       "3                 0   1513814403          None           0       0   \n",
       "4                 0   1513814404          None           0       0   \n",
       "\n",
       "       ...          link_id   parent_id  \\\n",
       "0      ...        t3_7l4tr5  t1_drjk8iu   \n",
       "1      ...        t3_7l5j02   t3_7l5j02   \n",
       "2      ...        t3_7l17lz  t1_drj6cj8   \n",
       "3      ...        t3_7l3bwl   t3_7l3bwl   \n",
       "4      ...        t3_7l3d93   t3_7l3d93   \n",
       "\n",
       "                                           permalink retrieved_on score  \\\n",
       "0  /r/AskReddit/comments/7l4tr5/serious_reddit_wh...   1514928812     2   \n",
       "1  /r/AskReddit/comments/7l5j02/you_just_went_vir...   1514928813     1   \n",
       "2  /r/AskReddit/comments/7l17lz/whats_your_best_t...   1514928813     1   \n",
       "3  /r/AskReddit/comments/7l3bwl/online_daters_wha...   1514928813     2   \n",
       "4  /r/AskReddit/comments/7l3d93/whats_a_tradition...   1514928814     1   \n",
       "\n",
       "   stickied  subreddit  subreddit_id subreddit_type author_cakeday  \n",
       "0     False  AskReddit      t5_2qh1i         public            NaN  \n",
       "1     False  AskReddit      t5_2qh1i         public            NaN  \n",
       "2     False  AskReddit      t5_2qh1i         public            NaN  \n",
       "3     False  AskReddit      t5_2qh1i         public            NaN  \n",
       "4     False  AskReddit      t5_2qh1i         public            NaN  \n",
       "\n",
       "[5 rows x 22 columns]"
      ]
     },
     "execution_count": 38,
     "metadata": {},
     "output_type": "execute_result"
    }
   ],
   "source": [
    "pickleframe.head()"
   ]
  },
  {
   "cell_type": "code",
   "execution_count": 40,
   "metadata": {},
   "outputs": [
    {
     "name": "stdout",
     "output_type": "stream",
     "text": [
      "198472 vs. 198472\n"
     ]
    }
   ],
   "source": [
    "print(len(testframe), \"vs.\", len(pickleframe))"
   ]
  },
  {
   "cell_type": "markdown",
   "metadata": {},
   "source": [
    "<p>Aha! The pickling presrved the structure, and I don't have to trim the None just to be able store the data correctly. I will have to do it with any data I publish though. This includes that data sample required for our progress report. First Data Exploration!</p>\n",
    "<a id=\"dexplore\"></a>\n",
    "<h1>Data Exploration</h1>\n",
    "<p>So now I will quickly explore the data for the update. I will process more subreddits after the deadline when I get more time to do so. First, the descriptions.</p>"
   ]
  },
  {
   "cell_type": "code",
   "execution_count": 41,
   "metadata": {},
   "outputs": [
    {
     "data": {
      "text/plain": [
       "count    198472.000000\n",
       "mean         21.106272\n",
       "std         282.949643\n",
       "min        -483.000000\n",
       "25%           1.000000\n",
       "50%           2.000000\n",
       "75%           4.000000\n",
       "max       32998.000000\n",
       "Name: score, dtype: float64"
      ]
     },
     "execution_count": 41,
     "metadata": {},
     "output_type": "execute_result"
    }
   ],
   "source": [
    "pickleframe.score.describe()"
   ]
  },
  {
   "cell_type": "markdown",
   "metadata": {},
   "source": [
    "<p>That's a huge disparity between the min and max of the data set. I knew the max would be higher since I rarely see downvote counts get huge, but the difference is still more than noticeable. Perhaps Reddit's automatic filter over high downvote posts lays a part in this (e.x. if there are sufficient downvotes, comments are hiddden and have to be manually revealed, that kind of thing). Moving on Let's see if we can try to plot the data.</p>"
   ]
  },
  {
   "cell_type": "code",
   "execution_count": 42,
   "metadata": {},
   "outputs": [
    {
     "data": {
      "text/plain": [
       "<matplotlib.axes._subplots.AxesSubplot at 0x2a7a23824a8>"
      ]
     },
     "execution_count": 42,
     "metadata": {},
     "output_type": "execute_result"
    }
   ],
   "source": [
    "pickleframe.plot.density()"
   ]
  },
  {
   "cell_type": "markdown",
   "metadata": {},
   "source": [
    "<p>Unfortunately, we could not graph the data, maybe there's a setting to help allow it to? I would like to research this, but I'm pushing the deadline, so it will have to wait. Moving on, we'll see how many different posts are accounted for, as well as their frequency. I want to know how many different parent posts I'm dealing with here.</p>"
   ]
  },
  {
   "cell_type": "code",
   "execution_count": 43,
   "metadata": {},
   "outputs": [
    {
     "data": {
      "text/plain": [
       "t3_7l85q1     4387\n",
       "t3_7l9nkm     4134\n",
       "t3_7lamf6     2456\n",
       "t3_7l5smj     2262\n",
       "t3_7l4w93     1898\n",
       "t3_7l3d93     1550\n",
       "t3_7l11sk     1548\n",
       "t3_7l3bwl      965\n",
       "t3_7l8uf3      755\n",
       "t3_7l7x1m      746\n",
       "t3_7l1zsm      743\n",
       "t3_7l3ldz      686\n",
       "t3_7l9d8n      624\n",
       "t1_drjcgh2     580\n",
       "t3_7l2khw      563\n",
       "t3_7l9e7r      525\n",
       "t3_7l9vrc      512\n",
       "t3_7l628i      466\n",
       "t3_7l2n3t      462\n",
       "t3_7l57jn      457\n",
       "t3_7l9jl5      433\n",
       "t3_7laaq9      409\n",
       "t1_drkjjve     408\n",
       "t3_7l87d0      388\n",
       "t3_7l96w2      349\n",
       "t1_drkn3dh     345\n",
       "t3_7l6yn4      308\n",
       "t3_7l585c      281\n",
       "t3_7l17lz      278\n",
       "t3_7l1o7l      260\n",
       "              ... \n",
       "t1_drjs9lm       1\n",
       "t1_drkddbv       1\n",
       "t1_drk8xvg       1\n",
       "t1_drkh3o5       1\n",
       "t1_drl60v8       1\n",
       "t1_drjxlgx       1\n",
       "t1_drkogwo       1\n",
       "t1_drl4dc8       1\n",
       "t1_drjt8sk       1\n",
       "t1_drky6um       1\n",
       "t1_drkav0a       1\n",
       "t3_7l4xzs        1\n",
       "t1_drk441u       1\n",
       "t1_drkz5q2       1\n",
       "t1_drkdc9g       1\n",
       "t1_drjxc14       1\n",
       "t1_drkidu6       1\n",
       "t1_drl663h       1\n",
       "t1_drjt91y       1\n",
       "t1_drl1qdb       1\n",
       "t1_drjrdbi       1\n",
       "t1_drl7hhi       1\n",
       "t1_drk86hq       1\n",
       "t1_drl49pj       1\n",
       "t1_drl63kx       1\n",
       "t1_drl2bgf       1\n",
       "t1_drjrda4       1\n",
       "t3_7l6u8z        1\n",
       "t1_drk5es3       1\n",
       "t1_drgbpss       1\n",
       "Name: parent_id, Length: 73747, dtype: int64"
      ]
     },
     "execution_count": 43,
     "metadata": {},
     "output_type": "execute_result"
    }
   ],
   "source": [
    "pickleframe.parent_id.value_counts()"
   ]
  },
  {
   "cell_type": "markdown",
   "metadata": {},
   "source": [
    "<p>Interestingly enough, most of the comments seem concentrated on a few posts, and then the number of comments decrease from there. I expected this, but a bit more of a even distribution amongst the highest quantity of posts. Guess I was wrong there (though this only from a day's sample.) The calculated value above showcases that there is an average of roughly 3 comments per submission (if I'm interpreting it right).</p>"
   ]
  },
  {
   "cell_type": "code",
   "execution_count": 44,
   "metadata": {},
   "outputs": [
    {
     "data": {
      "text/plain": [
       "0    198401\n",
       "1        69\n",
       "3         1\n",
       "2         1\n",
       "Name: gilded, dtype: int64"
      ]
     },
     "execution_count": 44,
     "metadata": {},
     "output_type": "execute_result"
    }
   ],
   "source": [
    "pickleframe.gilded.value_counts()"
   ]
  },
  {
   "cell_type": "markdown",
   "metadata": {},
   "source": [
    "<p>I don't know if this is real or if it got messed up by the normalization json function, but only one post got 2 guildings and only one post got 3 guildings. Now I normally see only one guilding, but I'd expect a handful more for the 2 guilding category</p>\n",
    "<a id=\"cleaning\"></a>\n",
    "<h2>Cleaning the Data and Publishing the sample</h2>\n",
    "<p> I suppose it's required we publish a sample. I guess I'll push a 1000 samples in a csv after cleanup, 33% from high scoring (say above or equal to 100 karma), 34% from a score value of 2 (2 is the mid 50% in the describe function, 1 is 25%, so I'll stick with 2) and the remaining 33% from the category below 0. The reason I am splitting it this way is I figured people would mostly be interested in comments from each end of the spectrum and the middle of the spectrum, so I gave each time in the spotlight. If I were doing more than 1000 samples, I would definitely be more random about my sample distribution. First, I'll make a duplicate dataframe (I'll reuse one of the earlier variables to save space) incase I screw up and need to start over.</p>"
   ]
  },
  {
   "cell_type": "code",
   "execution_count": 45,
   "metadata": {},
   "outputs": [],
   "source": [
    "csvframe = pickleframe.copy()"
   ]
  },
  {
   "cell_type": "code",
   "execution_count": 49,
   "metadata": {},
   "outputs": [
    {
     "data": {
      "text/html": [
       "<div>\n",
       "<style scoped>\n",
       "    .dataframe tbody tr th:only-of-type {\n",
       "        vertical-align: middle;\n",
       "    }\n",
       "\n",
       "    .dataframe tbody tr th {\n",
       "        vertical-align: top;\n",
       "    }\n",
       "\n",
       "    .dataframe thead th {\n",
       "        text-align: right;\n",
       "    }\n",
       "</style>\n",
       "<table border=\"1\" class=\"dataframe\">\n",
       "  <thead>\n",
       "    <tr style=\"text-align: right;\">\n",
       "      <th></th>\n",
       "      <th>author</th>\n",
       "      <th>author_flair_css_class</th>\n",
       "      <th>author_flair_text</th>\n",
       "      <th>body</th>\n",
       "      <th>can_gild</th>\n",
       "      <th>controversiality</th>\n",
       "      <th>created_utc</th>\n",
       "      <th>distinguished</th>\n",
       "      <th>edited</th>\n",
       "      <th>gilded</th>\n",
       "      <th>...</th>\n",
       "      <th>link_id</th>\n",
       "      <th>parent_id</th>\n",
       "      <th>permalink</th>\n",
       "      <th>retrieved_on</th>\n",
       "      <th>score</th>\n",
       "      <th>stickied</th>\n",
       "      <th>subreddit</th>\n",
       "      <th>subreddit_id</th>\n",
       "      <th>subreddit_type</th>\n",
       "      <th>author_cakeday</th>\n",
       "    </tr>\n",
       "  </thead>\n",
       "  <tbody>\n",
       "    <tr>\n",
       "      <th>0</th>\n",
       "      <td>capnhist</td>\n",
       "      <td>None</td>\n",
       "      <td>None</td>\n",
       "      <td>IIRC they listed a huge number of civilians as...</td>\n",
       "      <td>True</td>\n",
       "      <td>0</td>\n",
       "      <td>1513814400</td>\n",
       "      <td>None</td>\n",
       "      <td>1513814614</td>\n",
       "      <td>0</td>\n",
       "      <td>...</td>\n",
       "      <td>t3_7l4tr5</td>\n",
       "      <td>t1_drjk8iu</td>\n",
       "      <td>/r/AskReddit/comments/7l4tr5/serious_reddit_wh...</td>\n",
       "      <td>1514928812</td>\n",
       "      <td>2</td>\n",
       "      <td>False</td>\n",
       "      <td>AskReddit</td>\n",
       "      <td>t5_2qh1i</td>\n",
       "      <td>public</td>\n",
       "      <td>NaN</td>\n",
       "    </tr>\n",
       "    <tr>\n",
       "      <th>1</th>\n",
       "      <td>ISIS_Schmisis</td>\n",
       "      <td>None</td>\n",
       "      <td>None</td>\n",
       "      <td>“I may be only 3 inches long, but I’m shaped l...</td>\n",
       "      <td>True</td>\n",
       "      <td>0</td>\n",
       "      <td>1513814402</td>\n",
       "      <td>None</td>\n",
       "      <td>0</td>\n",
       "      <td>0</td>\n",
       "      <td>...</td>\n",
       "      <td>t3_7l5j02</td>\n",
       "      <td>t3_7l5j02</td>\n",
       "      <td>/r/AskReddit/comments/7l5j02/you_just_went_vir...</td>\n",
       "      <td>1514928813</td>\n",
       "      <td>1</td>\n",
       "      <td>False</td>\n",
       "      <td>AskReddit</td>\n",
       "      <td>t5_2qh1i</td>\n",
       "      <td>public</td>\n",
       "      <td>NaN</td>\n",
       "    </tr>\n",
       "    <tr>\n",
       "      <th>2</th>\n",
       "      <td>CrankyMcCranky</td>\n",
       "      <td>None</td>\n",
       "      <td>None</td>\n",
       "      <td>I would love to see pictures!</td>\n",
       "      <td>True</td>\n",
       "      <td>0</td>\n",
       "      <td>1513814403</td>\n",
       "      <td>None</td>\n",
       "      <td>0</td>\n",
       "      <td>0</td>\n",
       "      <td>...</td>\n",
       "      <td>t3_7l17lz</td>\n",
       "      <td>t1_drj6cj8</td>\n",
       "      <td>/r/AskReddit/comments/7l17lz/whats_your_best_t...</td>\n",
       "      <td>1514928813</td>\n",
       "      <td>1</td>\n",
       "      <td>False</td>\n",
       "      <td>AskReddit</td>\n",
       "      <td>t5_2qh1i</td>\n",
       "      <td>public</td>\n",
       "      <td>NaN</td>\n",
       "    </tr>\n",
       "    <tr>\n",
       "      <th>3</th>\n",
       "      <td>Jimz0r</td>\n",
       "      <td>None</td>\n",
       "      <td>None</td>\n",
       "      <td>\"I like to travel and have fun\"\\n\\nYeah no shi...</td>\n",
       "      <td>True</td>\n",
       "      <td>0</td>\n",
       "      <td>1513814403</td>\n",
       "      <td>None</td>\n",
       "      <td>0</td>\n",
       "      <td>0</td>\n",
       "      <td>...</td>\n",
       "      <td>t3_7l3bwl</td>\n",
       "      <td>t3_7l3bwl</td>\n",
       "      <td>/r/AskReddit/comments/7l3bwl/online_daters_wha...</td>\n",
       "      <td>1514928813</td>\n",
       "      <td>2</td>\n",
       "      <td>False</td>\n",
       "      <td>AskReddit</td>\n",
       "      <td>t5_2qh1i</td>\n",
       "      <td>public</td>\n",
       "      <td>NaN</td>\n",
       "    </tr>\n",
       "    <tr>\n",
       "      <th>4</th>\n",
       "      <td>Tog149</td>\n",
       "      <td>None</td>\n",
       "      <td>None</td>\n",
       "      <td>Marrage.</td>\n",
       "      <td>True</td>\n",
       "      <td>0</td>\n",
       "      <td>1513814404</td>\n",
       "      <td>None</td>\n",
       "      <td>0</td>\n",
       "      <td>0</td>\n",
       "      <td>...</td>\n",
       "      <td>t3_7l3d93</td>\n",
       "      <td>t3_7l3d93</td>\n",
       "      <td>/r/AskReddit/comments/7l3d93/whats_a_tradition...</td>\n",
       "      <td>1514928814</td>\n",
       "      <td>1</td>\n",
       "      <td>False</td>\n",
       "      <td>AskReddit</td>\n",
       "      <td>t5_2qh1i</td>\n",
       "      <td>public</td>\n",
       "      <td>NaN</td>\n",
       "    </tr>\n",
       "  </tbody>\n",
       "</table>\n",
       "<p>5 rows × 22 columns</p>\n",
       "</div>"
      ],
      "text/plain": [
       "           author author_flair_css_class author_flair_text  \\\n",
       "0        capnhist                   None              None   \n",
       "1   ISIS_Schmisis                   None              None   \n",
       "2  CrankyMcCranky                   None              None   \n",
       "3          Jimz0r                   None              None   \n",
       "4          Tog149                   None              None   \n",
       "\n",
       "                                                body  can_gild  \\\n",
       "0  IIRC they listed a huge number of civilians as...      True   \n",
       "1  “I may be only 3 inches long, but I’m shaped l...      True   \n",
       "2                      I would love to see pictures!      True   \n",
       "3  \"I like to travel and have fun\"\\n\\nYeah no shi...      True   \n",
       "4                                           Marrage.      True   \n",
       "\n",
       "   controversiality  created_utc distinguished      edited  gilded  \\\n",
       "0                 0   1513814400          None  1513814614       0   \n",
       "1                 0   1513814402          None           0       0   \n",
       "2                 0   1513814403          None           0       0   \n",
       "3                 0   1513814403          None           0       0   \n",
       "4                 0   1513814404          None           0       0   \n",
       "\n",
       "       ...          link_id   parent_id  \\\n",
       "0      ...        t3_7l4tr5  t1_drjk8iu   \n",
       "1      ...        t3_7l5j02   t3_7l5j02   \n",
       "2      ...        t3_7l17lz  t1_drj6cj8   \n",
       "3      ...        t3_7l3bwl   t3_7l3bwl   \n",
       "4      ...        t3_7l3d93   t3_7l3d93   \n",
       "\n",
       "                                           permalink retrieved_on score  \\\n",
       "0  /r/AskReddit/comments/7l4tr5/serious_reddit_wh...   1514928812     2   \n",
       "1  /r/AskReddit/comments/7l5j02/you_just_went_vir...   1514928813     1   \n",
       "2  /r/AskReddit/comments/7l17lz/whats_your_best_t...   1514928813     1   \n",
       "3  /r/AskReddit/comments/7l3bwl/online_daters_wha...   1514928813     2   \n",
       "4  /r/AskReddit/comments/7l3d93/whats_a_tradition...   1514928814     1   \n",
       "\n",
       "   stickied  subreddit  subreddit_id subreddit_type author_cakeday  \n",
       "0     False  AskReddit      t5_2qh1i         public            NaN  \n",
       "1     False  AskReddit      t5_2qh1i         public            NaN  \n",
       "2     False  AskReddit      t5_2qh1i         public            NaN  \n",
       "3     False  AskReddit      t5_2qh1i         public            NaN  \n",
       "4     False  AskReddit      t5_2qh1i         public            NaN  \n",
       "\n",
       "[5 rows x 22 columns]"
      ]
     },
     "execution_count": 49,
     "metadata": {},
     "output_type": "execute_result"
    }
   ],
   "source": [
    "csvframe.head()"
   ]
  },
  {
   "cell_type": "code",
   "execution_count": 48,
   "metadata": {},
   "outputs": [
    {
     "data": {
      "text/plain": [
       "Index(['author', 'author_flair_css_class', 'author_flair_text', 'body',\n",
       "       'can_gild', 'controversiality', 'created_utc', 'distinguished',\n",
       "       'edited', 'gilded', 'id', 'is_submitter', 'link_id', 'parent_id',\n",
       "       'permalink', 'retrieved_on', 'score', 'stickied', 'subreddit',\n",
       "       'subreddit_id', 'subreddit_type', 'author_cakeday'],\n",
       "      dtype='object')"
      ]
     },
     "execution_count": 48,
     "metadata": {},
     "output_type": "execute_result"
    }
   ],
   "source": [
    "csvframe.columns"
   ]
  },
  {
   "cell_type": "markdown",
   "metadata": {},
   "source": [
    "<p>I think I'll publish all of the columns since I guess each one can be interesting in each way, but I'll pretty up the None types for publishing. This requires investigating to make sure I'm putting in the right type, so I'll use value counts on each column. First, the author flairs.</p>"
   ]
  },
  {
   "cell_type": "code",
   "execution_count": 52,
   "metadata": {},
   "outputs": [
    {
     "data": {
      "text/plain": [
       "Series([], Name: author_flair_css_class, dtype: int64)"
      ]
     },
     "execution_count": 52,
     "metadata": {},
     "output_type": "execute_result"
    }
   ],
   "source": [
    "csvframe.author_flair_css_class.value_counts()"
   ]
  },
  {
   "cell_type": "markdown",
   "metadata": {},
   "source": [
    "<p>Hmmm, no values. I guess I'll drop it then (Yes I'm sure, I have the name right). Next author flare column...</p>"
   ]
  },
  {
   "cell_type": "code",
   "execution_count": 55,
   "metadata": {},
   "outputs": [
    {
     "data": {
      "text/plain": [
       "Series([], Name: author_flair_text, dtype: int64)"
      ]
     },
     "execution_count": 55,
     "metadata": {},
     "output_type": "execute_result"
    }
   ],
   "source": [
    "csvframe.author_flair_text.value_counts()"
   ]
  },
  {
   "cell_type": "markdown",
   "metadata": {},
   "source": [
    "<p>Another column with no values... Guess I'll drop them both then.</p>"
   ]
  },
  {
   "cell_type": "code",
   "execution_count": 58,
   "metadata": {},
   "outputs": [],
   "source": [
    "csvframe.drop([\"author_flair_css_class\", \"author_flair_text\"], axis=1, inplace=True)"
   ]
  },
  {
   "cell_type": "markdown",
   "metadata": {},
   "source": [
    "<p>Next Non-boolean column with lots of repitition seems to be controversiality. Let's examine it to see if it has variety and if yes does it need anything replaced.</p>"
   ]
  },
  {
   "cell_type": "code",
   "execution_count": 59,
   "metadata": {},
   "outputs": [
    {
     "data": {
      "text/plain": [
       "0    195626\n",
       "1      2846\n",
       "Name: controversiality, dtype: int64"
      ]
     },
     "execution_count": 59,
     "metadata": {},
     "output_type": "execute_result"
    }
   ],
   "source": [
    "csvframe.controversiality.value_counts()"
   ]
  },
  {
   "cell_type": "markdown",
   "metadata": {},
   "source": [
    "<p>This seems to act like a boolean maybe? I think I can toss it though since it doesn't seem like much and I don't understand the interpetation of the data here. Next distinguished and edited...</p>"
   ]
  },
  {
   "cell_type": "code",
   "execution_count": 60,
   "metadata": {},
   "outputs": [],
   "source": [
    "csvframe.drop([\"controversiality\"], axis=1, inplace=True)"
   ]
  },
  {
   "cell_type": "code",
   "execution_count": 61,
   "metadata": {},
   "outputs": [
    {
     "data": {
      "text/plain": [
       "moderator    2390\n",
       "Name: distinguished, dtype: int64"
      ]
     },
     "execution_count": 61,
     "metadata": {},
     "output_type": "execute_result"
    }
   ],
   "source": [
    "csvframe.distinguished.value_counts()"
   ]
  },
  {
   "cell_type": "code",
   "execution_count": 62,
   "metadata": {},
   "outputs": [
    {
     "data": {
      "text/plain": [
       "0             194936\n",
       "1513827859         3\n",
       "1513882984         2\n",
       "1513832257         2\n",
       "1513883969         2\n",
       "1513871424         2\n",
       "1513882130         2\n",
       "1513883583         2\n",
       "1513887615         2\n",
       "1513866486         2\n",
       "1513887934         2\n",
       "1514305666         2\n",
       "1513886441         2\n",
       "1513871469         2\n",
       "1513899232         2\n",
       "1513835159         2\n",
       "1513824080         2\n",
       "1513896643         2\n",
       "1513888540         2\n",
       "1513830570         2\n",
       "1513877211         2\n",
       "1513829852         2\n",
       "1513837210         2\n",
       "1513888111         2\n",
       "1513815237         2\n",
       "1513888857         2\n",
       "1513884450         2\n",
       "1513846267         2\n",
       "1513882278         2\n",
       "1513888327         2\n",
       "               ...  \n",
       "1513876015         1\n",
       "1513880109         1\n",
       "1513941455         1\n",
       "1513872168         1\n",
       "1513894741         1\n",
       "1513890647         1\n",
       "1514073870         1\n",
       "1513892177         1\n",
       "1513879851         1\n",
       "1513875753         1\n",
       "1513887959         1\n",
       "1513908313         1\n",
       "1513877546         1\n",
       "1513973759         1\n",
       "1513846717         1\n",
       "1513869226         1\n",
       "1513852706         1\n",
       "1513875119         1\n",
       "1513835450         1\n",
       "1514258020         1\n",
       "1513885266         1\n",
       "1513885138         1\n",
       "1513889232         1\n",
       "1513885010         1\n",
       "1513825463         1\n",
       "1513850019         1\n",
       "1513815180         1\n",
       "1513876526         1\n",
       "1513888720         1\n",
       "1513916206         1\n",
       "Name: edited, Length: 3479, dtype: int64"
      ]
     },
     "execution_count": 62,
     "metadata": {},
     "output_type": "execute_result"
    }
   ],
   "source": [
    "csvframe.edited.value_counts()"
   ]
  },
  {
   "cell_type": "markdown",
   "metadata": {},
   "source": [
    "<p>Distinguished has a purpose, it just needs none replaced. The values I'm seeing with edited though, do not provide any useful information. Let's drop edited and fix distinguished. For none- i'll just use the value \"none\" to indicate normality (lowercase to indicate it's not None the type).</p>"
   ]
  },
  {
   "cell_type": "code",
   "execution_count": 63,
   "metadata": {},
   "outputs": [],
   "source": [
    "csvframe.drop([\"edited\"], axis=1, inplace=True)"
   ]
  },
  {
   "cell_type": "code",
   "execution_count": 67,
   "metadata": {},
   "outputs": [],
   "source": [
    "csvframe.fillna(value=\"none\", inplace=True)"
   ]
  },
  {
   "cell_type": "markdown",
   "metadata": {},
   "source": [
    "<p> I noticed that when I forgot to set inplace that I forgot a confusing column. Let's examine created_utc to see if it provides anything of value</p>"
   ]
  },
  {
   "cell_type": "code",
   "execution_count": 68,
   "metadata": {},
   "outputs": [
    {
     "data": {
      "text/plain": [
       "1513878974    13\n",
       "1513878852    13\n",
       "1513876082    12\n",
       "1513883627    12\n",
       "1513891479    12\n",
       "1513864259    12\n",
       "1513880378    12\n",
       "1513882718    12\n",
       "1513883428    12\n",
       "1513878682    12\n",
       "1513883609    11\n",
       "1513890963    11\n",
       "1513885790    11\n",
       "1513894492    11\n",
       "1513878871    11\n",
       "1513887100    11\n",
       "1513886507    11\n",
       "1513882812    11\n",
       "1513883690    11\n",
       "1513876034    11\n",
       "1513886690    11\n",
       "1513881430    11\n",
       "1513880922    10\n",
       "1513888689    10\n",
       "1513830967    10\n",
       "1513881038    10\n",
       "1513836363    10\n",
       "1513826819    10\n",
       "1513887123    10\n",
       "1513882484    10\n",
       "              ..\n",
       "1513819896     1\n",
       "1513876512     1\n",
       "1513821947     1\n",
       "1513849693     1\n",
       "1513896922     1\n",
       "1513825319     1\n",
       "1513885464     1\n",
       "1513829307     1\n",
       "1513852648     1\n",
       "1513856046     1\n",
       "1513843648     1\n",
       "1513898917     1\n",
       "1513886639     1\n",
       "1513852076     1\n",
       "1513864362     1\n",
       "1513821819     1\n",
       "1513858217     1\n",
       "1513870503     1\n",
       "1513830015     1\n",
       "1513874593     1\n",
       "1513882717     1\n",
       "1513880508     1\n",
       "1513897050     1\n",
       "1513890905     1\n",
       "1513894827     1\n",
       "1513823294     1\n",
       "1513823264     1\n",
       "1513873122     1\n",
       "1513831482     1\n",
       "1513897784     1\n",
       "Name: created_utc, Length: 75143, dtype: int64"
      ]
     },
     "execution_count": 68,
     "metadata": {},
     "output_type": "execute_result"
    }
   ],
   "source": [
    "csvframe.created_utc.value_counts()"
   ]
  },
  {
   "cell_type": "markdown",
   "metadata": {},
   "source": [
    "<p>I guess it's the atomic time the post got made? I think for sampling it's not needed, but I'll probably keep it when I make my cleaned up data copy, if I want to experiment with this. This is for presenting the data in the sample. I've dropped quite a few columns by now, let's pop open the head again to see what else needs cleaned up.</p>"
   ]
  },
  {
   "cell_type": "code",
   "execution_count": 69,
   "metadata": {},
   "outputs": [],
   "source": [
    "csvframe.drop([\"created_utc\"], axis=1, inplace=True)"
   ]
  },
  {
   "cell_type": "code",
   "execution_count": 70,
   "metadata": {},
   "outputs": [
    {
     "data": {
      "text/html": [
       "<div>\n",
       "<style scoped>\n",
       "    .dataframe tbody tr th:only-of-type {\n",
       "        vertical-align: middle;\n",
       "    }\n",
       "\n",
       "    .dataframe tbody tr th {\n",
       "        vertical-align: top;\n",
       "    }\n",
       "\n",
       "    .dataframe thead th {\n",
       "        text-align: right;\n",
       "    }\n",
       "</style>\n",
       "<table border=\"1\" class=\"dataframe\">\n",
       "  <thead>\n",
       "    <tr style=\"text-align: right;\">\n",
       "      <th></th>\n",
       "      <th>author</th>\n",
       "      <th>body</th>\n",
       "      <th>can_gild</th>\n",
       "      <th>distinguished</th>\n",
       "      <th>gilded</th>\n",
       "      <th>id</th>\n",
       "      <th>is_submitter</th>\n",
       "      <th>link_id</th>\n",
       "      <th>parent_id</th>\n",
       "      <th>permalink</th>\n",
       "      <th>retrieved_on</th>\n",
       "      <th>score</th>\n",
       "      <th>stickied</th>\n",
       "      <th>subreddit</th>\n",
       "      <th>subreddit_id</th>\n",
       "      <th>subreddit_type</th>\n",
       "      <th>author_cakeday</th>\n",
       "    </tr>\n",
       "  </thead>\n",
       "  <tbody>\n",
       "    <tr>\n",
       "      <th>0</th>\n",
       "      <td>capnhist</td>\n",
       "      <td>IIRC they listed a huge number of civilians as...</td>\n",
       "      <td>True</td>\n",
       "      <td>none</td>\n",
       "      <td>0</td>\n",
       "      <td>drjocba</td>\n",
       "      <td>False</td>\n",
       "      <td>t3_7l4tr5</td>\n",
       "      <td>t1_drjk8iu</td>\n",
       "      <td>/r/AskReddit/comments/7l4tr5/serious_reddit_wh...</td>\n",
       "      <td>1514928812</td>\n",
       "      <td>2</td>\n",
       "      <td>False</td>\n",
       "      <td>AskReddit</td>\n",
       "      <td>t5_2qh1i</td>\n",
       "      <td>public</td>\n",
       "      <td>none</td>\n",
       "    </tr>\n",
       "    <tr>\n",
       "      <th>1</th>\n",
       "      <td>ISIS_Schmisis</td>\n",
       "      <td>“I may be only 3 inches long, but I’m shaped l...</td>\n",
       "      <td>True</td>\n",
       "      <td>none</td>\n",
       "      <td>0</td>\n",
       "      <td>drjoce3</td>\n",
       "      <td>False</td>\n",
       "      <td>t3_7l5j02</td>\n",
       "      <td>t3_7l5j02</td>\n",
       "      <td>/r/AskReddit/comments/7l5j02/you_just_went_vir...</td>\n",
       "      <td>1514928813</td>\n",
       "      <td>1</td>\n",
       "      <td>False</td>\n",
       "      <td>AskReddit</td>\n",
       "      <td>t5_2qh1i</td>\n",
       "      <td>public</td>\n",
       "      <td>none</td>\n",
       "    </tr>\n",
       "    <tr>\n",
       "      <th>2</th>\n",
       "      <td>CrankyMcCranky</td>\n",
       "      <td>I would love to see pictures!</td>\n",
       "      <td>True</td>\n",
       "      <td>none</td>\n",
       "      <td>0</td>\n",
       "      <td>drjocet</td>\n",
       "      <td>False</td>\n",
       "      <td>t3_7l17lz</td>\n",
       "      <td>t1_drj6cj8</td>\n",
       "      <td>/r/AskReddit/comments/7l17lz/whats_your_best_t...</td>\n",
       "      <td>1514928813</td>\n",
       "      <td>1</td>\n",
       "      <td>False</td>\n",
       "      <td>AskReddit</td>\n",
       "      <td>t5_2qh1i</td>\n",
       "      <td>public</td>\n",
       "      <td>none</td>\n",
       "    </tr>\n",
       "    <tr>\n",
       "      <th>3</th>\n",
       "      <td>Jimz0r</td>\n",
       "      <td>\"I like to travel and have fun\"\\n\\nYeah no shi...</td>\n",
       "      <td>True</td>\n",
       "      <td>none</td>\n",
       "      <td>0</td>\n",
       "      <td>drjocew</td>\n",
       "      <td>False</td>\n",
       "      <td>t3_7l3bwl</td>\n",
       "      <td>t3_7l3bwl</td>\n",
       "      <td>/r/AskReddit/comments/7l3bwl/online_daters_wha...</td>\n",
       "      <td>1514928813</td>\n",
       "      <td>2</td>\n",
       "      <td>False</td>\n",
       "      <td>AskReddit</td>\n",
       "      <td>t5_2qh1i</td>\n",
       "      <td>public</td>\n",
       "      <td>none</td>\n",
       "    </tr>\n",
       "    <tr>\n",
       "      <th>4</th>\n",
       "      <td>Tog149</td>\n",
       "      <td>Marrage.</td>\n",
       "      <td>True</td>\n",
       "      <td>none</td>\n",
       "      <td>0</td>\n",
       "      <td>drjocfw</td>\n",
       "      <td>False</td>\n",
       "      <td>t3_7l3d93</td>\n",
       "      <td>t3_7l3d93</td>\n",
       "      <td>/r/AskReddit/comments/7l3d93/whats_a_tradition...</td>\n",
       "      <td>1514928814</td>\n",
       "      <td>1</td>\n",
       "      <td>False</td>\n",
       "      <td>AskReddit</td>\n",
       "      <td>t5_2qh1i</td>\n",
       "      <td>public</td>\n",
       "      <td>none</td>\n",
       "    </tr>\n",
       "  </tbody>\n",
       "</table>\n",
       "</div>"
      ],
      "text/plain": [
       "           author                                               body  \\\n",
       "0        capnhist  IIRC they listed a huge number of civilians as...   \n",
       "1   ISIS_Schmisis  “I may be only 3 inches long, but I’m shaped l...   \n",
       "2  CrankyMcCranky                      I would love to see pictures!   \n",
       "3          Jimz0r  \"I like to travel and have fun\"\\n\\nYeah no shi...   \n",
       "4          Tog149                                           Marrage.   \n",
       "\n",
       "   can_gild distinguished  gilded       id  is_submitter    link_id  \\\n",
       "0      True          none       0  drjocba         False  t3_7l4tr5   \n",
       "1      True          none       0  drjoce3         False  t3_7l5j02   \n",
       "2      True          none       0  drjocet         False  t3_7l17lz   \n",
       "3      True          none       0  drjocew         False  t3_7l3bwl   \n",
       "4      True          none       0  drjocfw         False  t3_7l3d93   \n",
       "\n",
       "    parent_id                                          permalink  \\\n",
       "0  t1_drjk8iu  /r/AskReddit/comments/7l4tr5/serious_reddit_wh...   \n",
       "1   t3_7l5j02  /r/AskReddit/comments/7l5j02/you_just_went_vir...   \n",
       "2  t1_drj6cj8  /r/AskReddit/comments/7l17lz/whats_your_best_t...   \n",
       "3   t3_7l3bwl  /r/AskReddit/comments/7l3bwl/online_daters_wha...   \n",
       "4   t3_7l3d93  /r/AskReddit/comments/7l3d93/whats_a_tradition...   \n",
       "\n",
       "   retrieved_on  score  stickied  subreddit subreddit_id subreddit_type  \\\n",
       "0    1514928812      2     False  AskReddit     t5_2qh1i         public   \n",
       "1    1514928813      1     False  AskReddit     t5_2qh1i         public   \n",
       "2    1514928813      1     False  AskReddit     t5_2qh1i         public   \n",
       "3    1514928813      2     False  AskReddit     t5_2qh1i         public   \n",
       "4    1514928814      1     False  AskReddit     t5_2qh1i         public   \n",
       "\n",
       "  author_cakeday  \n",
       "0           none  \n",
       "1           none  \n",
       "2           none  \n",
       "3           none  \n",
       "4           none  "
      ]
     },
     "execution_count": 70,
     "metadata": {},
     "output_type": "execute_result"
    }
   ],
   "source": [
    "csvframe.head()"
   ]
  },
  {
   "cell_type": "markdown",
   "metadata": {},
   "source": [
    "<p>At this point, I realized my mistake with the fillna command from earlier. However, from looking at the head, the only column where this looks to be a major issue is the cake_day column, which is easily replaced. Otherwise, We can use it to still find holes in the data later due to the fact the value still appears like \"none\". I think I axed off the truly useless columns, the other columns with just one value like the subreddit just confirm what the data contains, harmless att this point.</p>"
   ]
  },
  {
   "cell_type": "code",
   "execution_count": 72,
   "metadata": {},
   "outputs": [
    {
     "data": {
      "text/plain": [
       "none    197540\n",
       "True       932\n",
       "Name: author_cakeday, dtype: int64"
      ]
     },
     "execution_count": 72,
     "metadata": {},
     "output_type": "execute_result"
    }
   ],
   "source": [
    "csvframe.author_cakeday.value_counts()"
   ]
  },
  {
   "cell_type": "code",
   "execution_count": 74,
   "metadata": {},
   "outputs": [],
   "source": [
    "csvframe[\"author_cakeday\"].replace(\"none\", False, inplace=True)"
   ]
  },
  {
   "cell_type": "code",
   "execution_count": 75,
   "metadata": {},
   "outputs": [
    {
     "data": {
      "text/html": [
       "<div>\n",
       "<style scoped>\n",
       "    .dataframe tbody tr th:only-of-type {\n",
       "        vertical-align: middle;\n",
       "    }\n",
       "\n",
       "    .dataframe tbody tr th {\n",
       "        vertical-align: top;\n",
       "    }\n",
       "\n",
       "    .dataframe thead th {\n",
       "        text-align: right;\n",
       "    }\n",
       "</style>\n",
       "<table border=\"1\" class=\"dataframe\">\n",
       "  <thead>\n",
       "    <tr style=\"text-align: right;\">\n",
       "      <th></th>\n",
       "      <th>author</th>\n",
       "      <th>body</th>\n",
       "      <th>can_gild</th>\n",
       "      <th>distinguished</th>\n",
       "      <th>gilded</th>\n",
       "      <th>id</th>\n",
       "      <th>is_submitter</th>\n",
       "      <th>link_id</th>\n",
       "      <th>parent_id</th>\n",
       "      <th>permalink</th>\n",
       "      <th>retrieved_on</th>\n",
       "      <th>score</th>\n",
       "      <th>stickied</th>\n",
       "      <th>subreddit</th>\n",
       "      <th>subreddit_id</th>\n",
       "      <th>subreddit_type</th>\n",
       "      <th>author_cakeday</th>\n",
       "    </tr>\n",
       "  </thead>\n",
       "  <tbody>\n",
       "    <tr>\n",
       "      <th>0</th>\n",
       "      <td>capnhist</td>\n",
       "      <td>IIRC they listed a huge number of civilians as...</td>\n",
       "      <td>True</td>\n",
       "      <td>none</td>\n",
       "      <td>0</td>\n",
       "      <td>drjocba</td>\n",
       "      <td>False</td>\n",
       "      <td>t3_7l4tr5</td>\n",
       "      <td>t1_drjk8iu</td>\n",
       "      <td>/r/AskReddit/comments/7l4tr5/serious_reddit_wh...</td>\n",
       "      <td>1514928812</td>\n",
       "      <td>2</td>\n",
       "      <td>False</td>\n",
       "      <td>AskReddit</td>\n",
       "      <td>t5_2qh1i</td>\n",
       "      <td>public</td>\n",
       "      <td>False</td>\n",
       "    </tr>\n",
       "    <tr>\n",
       "      <th>1</th>\n",
       "      <td>ISIS_Schmisis</td>\n",
       "      <td>“I may be only 3 inches long, but I’m shaped l...</td>\n",
       "      <td>True</td>\n",
       "      <td>none</td>\n",
       "      <td>0</td>\n",
       "      <td>drjoce3</td>\n",
       "      <td>False</td>\n",
       "      <td>t3_7l5j02</td>\n",
       "      <td>t3_7l5j02</td>\n",
       "      <td>/r/AskReddit/comments/7l5j02/you_just_went_vir...</td>\n",
       "      <td>1514928813</td>\n",
       "      <td>1</td>\n",
       "      <td>False</td>\n",
       "      <td>AskReddit</td>\n",
       "      <td>t5_2qh1i</td>\n",
       "      <td>public</td>\n",
       "      <td>False</td>\n",
       "    </tr>\n",
       "    <tr>\n",
       "      <th>2</th>\n",
       "      <td>CrankyMcCranky</td>\n",
       "      <td>I would love to see pictures!</td>\n",
       "      <td>True</td>\n",
       "      <td>none</td>\n",
       "      <td>0</td>\n",
       "      <td>drjocet</td>\n",
       "      <td>False</td>\n",
       "      <td>t3_7l17lz</td>\n",
       "      <td>t1_drj6cj8</td>\n",
       "      <td>/r/AskReddit/comments/7l17lz/whats_your_best_t...</td>\n",
       "      <td>1514928813</td>\n",
       "      <td>1</td>\n",
       "      <td>False</td>\n",
       "      <td>AskReddit</td>\n",
       "      <td>t5_2qh1i</td>\n",
       "      <td>public</td>\n",
       "      <td>False</td>\n",
       "    </tr>\n",
       "    <tr>\n",
       "      <th>3</th>\n",
       "      <td>Jimz0r</td>\n",
       "      <td>\"I like to travel and have fun\"\\n\\nYeah no shi...</td>\n",
       "      <td>True</td>\n",
       "      <td>none</td>\n",
       "      <td>0</td>\n",
       "      <td>drjocew</td>\n",
       "      <td>False</td>\n",
       "      <td>t3_7l3bwl</td>\n",
       "      <td>t3_7l3bwl</td>\n",
       "      <td>/r/AskReddit/comments/7l3bwl/online_daters_wha...</td>\n",
       "      <td>1514928813</td>\n",
       "      <td>2</td>\n",
       "      <td>False</td>\n",
       "      <td>AskReddit</td>\n",
       "      <td>t5_2qh1i</td>\n",
       "      <td>public</td>\n",
       "      <td>False</td>\n",
       "    </tr>\n",
       "    <tr>\n",
       "      <th>4</th>\n",
       "      <td>Tog149</td>\n",
       "      <td>Marrage.</td>\n",
       "      <td>True</td>\n",
       "      <td>none</td>\n",
       "      <td>0</td>\n",
       "      <td>drjocfw</td>\n",
       "      <td>False</td>\n",
       "      <td>t3_7l3d93</td>\n",
       "      <td>t3_7l3d93</td>\n",
       "      <td>/r/AskReddit/comments/7l3d93/whats_a_tradition...</td>\n",
       "      <td>1514928814</td>\n",
       "      <td>1</td>\n",
       "      <td>False</td>\n",
       "      <td>AskReddit</td>\n",
       "      <td>t5_2qh1i</td>\n",
       "      <td>public</td>\n",
       "      <td>False</td>\n",
       "    </tr>\n",
       "  </tbody>\n",
       "</table>\n",
       "</div>"
      ],
      "text/plain": [
       "           author                                               body  \\\n",
       "0        capnhist  IIRC they listed a huge number of civilians as...   \n",
       "1   ISIS_Schmisis  “I may be only 3 inches long, but I’m shaped l...   \n",
       "2  CrankyMcCranky                      I would love to see pictures!   \n",
       "3          Jimz0r  \"I like to travel and have fun\"\\n\\nYeah no shi...   \n",
       "4          Tog149                                           Marrage.   \n",
       "\n",
       "   can_gild distinguished  gilded       id  is_submitter    link_id  \\\n",
       "0      True          none       0  drjocba         False  t3_7l4tr5   \n",
       "1      True          none       0  drjoce3         False  t3_7l5j02   \n",
       "2      True          none       0  drjocet         False  t3_7l17lz   \n",
       "3      True          none       0  drjocew         False  t3_7l3bwl   \n",
       "4      True          none       0  drjocfw         False  t3_7l3d93   \n",
       "\n",
       "    parent_id                                          permalink  \\\n",
       "0  t1_drjk8iu  /r/AskReddit/comments/7l4tr5/serious_reddit_wh...   \n",
       "1   t3_7l5j02  /r/AskReddit/comments/7l5j02/you_just_went_vir...   \n",
       "2  t1_drj6cj8  /r/AskReddit/comments/7l17lz/whats_your_best_t...   \n",
       "3   t3_7l3bwl  /r/AskReddit/comments/7l3bwl/online_daters_wha...   \n",
       "4   t3_7l3d93  /r/AskReddit/comments/7l3d93/whats_a_tradition...   \n",
       "\n",
       "   retrieved_on  score  stickied  subreddit subreddit_id subreddit_type  \\\n",
       "0    1514928812      2     False  AskReddit     t5_2qh1i         public   \n",
       "1    1514928813      1     False  AskReddit     t5_2qh1i         public   \n",
       "2    1514928813      1     False  AskReddit     t5_2qh1i         public   \n",
       "3    1514928813      2     False  AskReddit     t5_2qh1i         public   \n",
       "4    1514928814      1     False  AskReddit     t5_2qh1i         public   \n",
       "\n",
       "   author_cakeday  \n",
       "0           False  \n",
       "1           False  \n",
       "2           False  \n",
       "3           False  \n",
       "4           False  "
      ]
     },
     "execution_count": 75,
     "metadata": {},
     "output_type": "execute_result"
    }
   ],
   "source": [
    "csvframe.head()"
   ]
  },
  {
   "cell_type": "markdown",
   "metadata": {},
   "source": [
    "<p>I aplogize if the cleaning section was abnormally huge, but I wanted to explore each section to remove data that would be of no use for the subsample. Anyway, we can move on to publishing a subsample for the progress report. First, I will split the data. These first few len statements are just to make sure I can get enough samples from each category. Then I will split them.</p>"
   ]
  },
  {
   "cell_type": "code",
   "execution_count": 76,
   "metadata": {},
   "outputs": [
    {
     "name": "stdout",
     "output_type": "stream",
     "text": [
      "5138\n"
     ]
    }
   ],
   "source": [
    "print(len(csvframe[csvframe.score < 0]))"
   ]
  },
  {
   "cell_type": "code",
   "execution_count": 79,
   "metadata": {},
   "outputs": [
    {
     "name": "stdout",
     "output_type": "stream",
     "text": [
      "4037\n"
     ]
    }
   ],
   "source": [
    "print(len(csvframe[csvframe.score >= 100]))"
   ]
  },
  {
   "cell_type": "code",
   "execution_count": 80,
   "metadata": {},
   "outputs": [
    {
     "name": "stdout",
     "output_type": "stream",
     "text": [
      "33946\n"
     ]
    }
   ],
   "source": [
    "print(len(csvframe[csvframe.score == 2]))"
   ]
  },
  {
   "cell_type": "code",
   "execution_count": 89,
   "metadata": {},
   "outputs": [],
   "source": [
    "above100 = csvframe[csvframe.score >= 100].iloc[:330]"
   ]
  },
  {
   "cell_type": "code",
   "execution_count": 90,
   "metadata": {},
   "outputs": [
    {
     "data": {
      "text/plain": [
       "330"
      ]
     },
     "execution_count": 90,
     "metadata": {},
     "output_type": "execute_result"
    }
   ],
   "source": [
    "len(above100)"
   ]
  },
  {
   "cell_type": "code",
   "execution_count": 91,
   "metadata": {},
   "outputs": [
    {
     "data": {
      "text/html": [
       "<div>\n",
       "<style scoped>\n",
       "    .dataframe tbody tr th:only-of-type {\n",
       "        vertical-align: middle;\n",
       "    }\n",
       "\n",
       "    .dataframe tbody tr th {\n",
       "        vertical-align: top;\n",
       "    }\n",
       "\n",
       "    .dataframe thead th {\n",
       "        text-align: right;\n",
       "    }\n",
       "</style>\n",
       "<table border=\"1\" class=\"dataframe\">\n",
       "  <thead>\n",
       "    <tr style=\"text-align: right;\">\n",
       "      <th></th>\n",
       "      <th>author</th>\n",
       "      <th>body</th>\n",
       "      <th>can_gild</th>\n",
       "      <th>distinguished</th>\n",
       "      <th>gilded</th>\n",
       "      <th>id</th>\n",
       "      <th>is_submitter</th>\n",
       "      <th>link_id</th>\n",
       "      <th>parent_id</th>\n",
       "      <th>permalink</th>\n",
       "      <th>retrieved_on</th>\n",
       "      <th>score</th>\n",
       "      <th>stickied</th>\n",
       "      <th>subreddit</th>\n",
       "      <th>subreddit_id</th>\n",
       "      <th>subreddit_type</th>\n",
       "      <th>author_cakeday</th>\n",
       "    </tr>\n",
       "  </thead>\n",
       "  <tbody>\n",
       "    <tr>\n",
       "      <th>30</th>\n",
       "      <td>Brospankems</td>\n",
       "      <td>Its like learning how to garden, never gardeni...</td>\n",
       "      <td>True</td>\n",
       "      <td>none</td>\n",
       "      <td>0</td>\n",
       "      <td>drjocyi</td>\n",
       "      <td>False</td>\n",
       "      <td>t3_7l2n3t</td>\n",
       "      <td>t1_drjkfr2</td>\n",
       "      <td>/r/AskReddit/comments/7l2n3t/what_makes_you_cr...</td>\n",
       "      <td>1514928820</td>\n",
       "      <td>120</td>\n",
       "      <td>False</td>\n",
       "      <td>AskReddit</td>\n",
       "      <td>t5_2qh1i</td>\n",
       "      <td>public</td>\n",
       "      <td>False</td>\n",
       "    </tr>\n",
       "    <tr>\n",
       "      <th>76</th>\n",
       "      <td>d_rob_70</td>\n",
       "      <td>[Nirvana - Where did you sleep last night - MT...</td>\n",
       "      <td>True</td>\n",
       "      <td>none</td>\n",
       "      <td>0</td>\n",
       "      <td>drjodta</td>\n",
       "      <td>False</td>\n",
       "      <td>t3_7l4w93</td>\n",
       "      <td>t3_7l4w93</td>\n",
       "      <td>/r/AskReddit/comments/7l4w93/what_live_perform...</td>\n",
       "      <td>1514928834</td>\n",
       "      <td>1401</td>\n",
       "      <td>False</td>\n",
       "      <td>AskReddit</td>\n",
       "      <td>t5_2qh1i</td>\n",
       "      <td>public</td>\n",
       "      <td>False</td>\n",
       "    </tr>\n",
       "    <tr>\n",
       "      <th>155</th>\n",
       "      <td>Titus_Favonius</td>\n",
       "      <td>You need to rule your friends with an iron fist</td>\n",
       "      <td>True</td>\n",
       "      <td>none</td>\n",
       "      <td>0</td>\n",
       "      <td>drjof35</td>\n",
       "      <td>False</td>\n",
       "      <td>t3_7l3d93</td>\n",
       "      <td>t1_drjk4d1</td>\n",
       "      <td>/r/AskReddit/comments/7l3d93/whats_a_tradition...</td>\n",
       "      <td>1514928852</td>\n",
       "      <td>869</td>\n",
       "      <td>False</td>\n",
       "      <td>AskReddit</td>\n",
       "      <td>t5_2qh1i</td>\n",
       "      <td>public</td>\n",
       "      <td>False</td>\n",
       "    </tr>\n",
       "    <tr>\n",
       "      <th>220</th>\n",
       "      <td>mrskontz14</td>\n",
       "      <td>True, it used to be a bigger deal to back out ...</td>\n",
       "      <td>True</td>\n",
       "      <td>none</td>\n",
       "      <td>0</td>\n",
       "      <td>drjog91</td>\n",
       "      <td>False</td>\n",
       "      <td>t3_7l3d93</td>\n",
       "      <td>t1_drjk4d1</td>\n",
       "      <td>/r/AskReddit/comments/7l3d93/whats_a_tradition...</td>\n",
       "      <td>1514928873</td>\n",
       "      <td>200</td>\n",
       "      <td>False</td>\n",
       "      <td>AskReddit</td>\n",
       "      <td>t5_2qh1i</td>\n",
       "      <td>public</td>\n",
       "      <td>False</td>\n",
       "    </tr>\n",
       "    <tr>\n",
       "      <th>405</th>\n",
       "      <td>TonyDanzer</td>\n",
       "      <td>My dance instructor told me that in her home c...</td>\n",
       "      <td>True</td>\n",
       "      <td>none</td>\n",
       "      <td>0</td>\n",
       "      <td>drjoiwk</td>\n",
       "      <td>False</td>\n",
       "      <td>t3_7l3d93</td>\n",
       "      <td>t3_7l3d93</td>\n",
       "      <td>/r/AskReddit/comments/7l3d93/whats_a_tradition...</td>\n",
       "      <td>1514928917</td>\n",
       "      <td>14017</td>\n",
       "      <td>False</td>\n",
       "      <td>AskReddit</td>\n",
       "      <td>t5_2qh1i</td>\n",
       "      <td>public</td>\n",
       "      <td>False</td>\n",
       "    </tr>\n",
       "  </tbody>\n",
       "</table>\n",
       "</div>"
      ],
      "text/plain": [
       "             author                                               body  \\\n",
       "30      Brospankems  Its like learning how to garden, never gardeni...   \n",
       "76         d_rob_70  [Nirvana - Where did you sleep last night - MT...   \n",
       "155  Titus_Favonius    You need to rule your friends with an iron fist   \n",
       "220      mrskontz14  True, it used to be a bigger deal to back out ...   \n",
       "405      TonyDanzer  My dance instructor told me that in her home c...   \n",
       "\n",
       "     can_gild distinguished  gilded       id  is_submitter    link_id  \\\n",
       "30       True          none       0  drjocyi         False  t3_7l2n3t   \n",
       "76       True          none       0  drjodta         False  t3_7l4w93   \n",
       "155      True          none       0  drjof35         False  t3_7l3d93   \n",
       "220      True          none       0  drjog91         False  t3_7l3d93   \n",
       "405      True          none       0  drjoiwk         False  t3_7l3d93   \n",
       "\n",
       "      parent_id                                          permalink  \\\n",
       "30   t1_drjkfr2  /r/AskReddit/comments/7l2n3t/what_makes_you_cr...   \n",
       "76    t3_7l4w93  /r/AskReddit/comments/7l4w93/what_live_perform...   \n",
       "155  t1_drjk4d1  /r/AskReddit/comments/7l3d93/whats_a_tradition...   \n",
       "220  t1_drjk4d1  /r/AskReddit/comments/7l3d93/whats_a_tradition...   \n",
       "405   t3_7l3d93  /r/AskReddit/comments/7l3d93/whats_a_tradition...   \n",
       "\n",
       "     retrieved_on  score  stickied  subreddit subreddit_id subreddit_type  \\\n",
       "30     1514928820    120     False  AskReddit     t5_2qh1i         public   \n",
       "76     1514928834   1401     False  AskReddit     t5_2qh1i         public   \n",
       "155    1514928852    869     False  AskReddit     t5_2qh1i         public   \n",
       "220    1514928873    200     False  AskReddit     t5_2qh1i         public   \n",
       "405    1514928917  14017     False  AskReddit     t5_2qh1i         public   \n",
       "\n",
       "     author_cakeday  \n",
       "30            False  \n",
       "76            False  \n",
       "155           False  \n",
       "220           False  \n",
       "405           False  "
      ]
     },
     "execution_count": 91,
     "metadata": {},
     "output_type": "execute_result"
    }
   ],
   "source": [
    "above100.head()"
   ]
  },
  {
   "cell_type": "code",
   "execution_count": 92,
   "metadata": {},
   "outputs": [],
   "source": [
    "lessthan0 = csvframe[csvframe.score < 0].iloc[:330]\n",
    "equaltotwo = csvframe[csvframe.score == 2].iloc[:340]"
   ]
  },
  {
   "cell_type": "markdown",
   "metadata": {},
   "source": [
    "<p>I'll reuse another throwaway dataframe to concate them together and then publish the sample.</p>"
   ]
  },
  {
   "cell_type": "code",
   "execution_count": 93,
   "metadata": {},
   "outputs": [],
   "source": [
    "jsonframe = pd.DataFrame()\n",
    "jsonframe = jsonframe.append(above100, ignore_index=True, sort=False)\n",
    "jsonframe = jsonframe.append(equaltotwo, ignore_index=True, sort=False)\n",
    "jsonframe = jsonframe.append(lessthan0, ignore_index=True, sort=False)"
   ]
  },
  {
   "cell_type": "code",
   "execution_count": 94,
   "metadata": {},
   "outputs": [
    {
     "data": {
      "text/plain": [
       "1000"
      ]
     },
     "execution_count": 94,
     "metadata": {},
     "output_type": "execute_result"
    }
   ],
   "source": [
    "len(jsonframe)"
   ]
  },
  {
   "cell_type": "code",
   "execution_count": 95,
   "metadata": {},
   "outputs": [],
   "source": [
    "jsonframe.to_csv(\"data_samples/AskReddit1000samples.csv\")"
   ]
  },
  {
   "cell_type": "markdown",
   "metadata": {},
   "source": [
    "<p>This concludes the publishing, and the end of the jupyter notebook file. I hope this notebook file was satisfactory for the project checkpoint.</p>"
   ]
  },
  {
   "cell_type": "code",
   "execution_count": null,
   "metadata": {},
   "outputs": [],
   "source": []
  }
 ],
 "metadata": {
  "kernelspec": {
   "display_name": "Python 3",
   "language": "python",
   "name": "python3"
  },
  "language_info": {
   "codemirror_mode": {
    "name": "ipython",
    "version": 3
   },
   "file_extension": ".py",
   "mimetype": "text/x-python",
   "name": "python",
   "nbconvert_exporter": "python",
   "pygments_lexer": "ipython3",
   "version": "3.7.1"
  }
 },
 "nbformat": 4,
 "nbformat_minor": 2
}
