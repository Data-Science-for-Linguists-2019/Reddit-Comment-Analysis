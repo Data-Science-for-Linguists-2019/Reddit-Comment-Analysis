{
 "cells": [
  {
   "cell_type": "markdown",
   "metadata": {},
   "source": [
    "<h1>Progress Report 2 Notebook</h1>"
   ]
  },
  {
   "cell_type": "code",
   "execution_count": 1,
   "metadata": {},
   "outputs": [],
   "source": [
    "import numpy as np\n",
    "import pandas as pd\n",
    "import json\n",
    "import lzma\n",
    "from pandas.io.json import json_normalize"
   ]
  },
  {
   "cell_type": "markdown",
   "metadata": {},
   "source": [
    "<h2>Data Acquisition</h2>\n",
    "<p>First order of buisiness. I had to stick with the really slow procedure since I changed the corpus size close to the deadline. However, this smaller corpus means I can load all of it into memory at once (We're down to only about 3GB uncompressed). First, we acquire the data...</p>"
   ]
  },
  {
   "cell_type": "code",
   "execution_count": 2,
   "metadata": {},
   "outputs": [],
   "source": [
    "file = open(\"data/RC_2017-12-21\")"
   ]
  },
  {
   "cell_type": "code",
   "execution_count": 3,
   "metadata": {},
   "outputs": [],
   "source": [
    "redditframe = pd.read_json(file, lines=True)"
   ]
  },
  {
   "cell_type": "code",
   "execution_count": 6,
   "metadata": {},
   "outputs": [],
   "source": [
    "file.close()"
   ]
  },
  {
   "cell_type": "code",
   "execution_count": 5,
   "metadata": {},
   "outputs": [
    {
     "data": {
      "text/html": [
       "<div>\n",
       "<style scoped>\n",
       "    .dataframe tbody tr th:only-of-type {\n",
       "        vertical-align: middle;\n",
       "    }\n",
       "\n",
       "    .dataframe tbody tr th {\n",
       "        vertical-align: top;\n",
       "    }\n",
       "\n",
       "    .dataframe thead th {\n",
       "        text-align: right;\n",
       "    }\n",
       "</style>\n",
       "<table border=\"1\" class=\"dataframe\">\n",
       "  <thead>\n",
       "    <tr style=\"text-align: right;\">\n",
       "      <th></th>\n",
       "      <th>author</th>\n",
       "      <th>author_cakeday</th>\n",
       "      <th>author_flair_css_class</th>\n",
       "      <th>author_flair_text</th>\n",
       "      <th>body</th>\n",
       "      <th>can_gild</th>\n",
       "      <th>controversiality</th>\n",
       "      <th>created_utc</th>\n",
       "      <th>distinguished</th>\n",
       "      <th>edited</th>\n",
       "      <th>...</th>\n",
       "      <th>is_submitter</th>\n",
       "      <th>link_id</th>\n",
       "      <th>parent_id</th>\n",
       "      <th>permalink</th>\n",
       "      <th>retrieved_on</th>\n",
       "      <th>score</th>\n",
       "      <th>stickied</th>\n",
       "      <th>subreddit</th>\n",
       "      <th>subreddit_id</th>\n",
       "      <th>subreddit_type</th>\n",
       "    </tr>\n",
       "  </thead>\n",
       "  <tbody>\n",
       "    <tr>\n",
       "      <th>0</th>\n",
       "      <td>StrayYoshi</td>\n",
       "      <td>NaN</td>\n",
       "      <td>asc-hierophant</td>\n",
       "      <td>Hierophant</td>\n",
       "      <td>Have to kill him in 1 portal is the way I do i...</td>\n",
       "      <td>True</td>\n",
       "      <td>0</td>\n",
       "      <td>1513814400</td>\n",
       "      <td>None</td>\n",
       "      <td>0</td>\n",
       "      <td>...</td>\n",
       "      <td>False</td>\n",
       "      <td>t3_7l0zv1</td>\n",
       "      <td>t3_7l0zv1</td>\n",
       "      <td>/r/pathofexile/comments/7l0zv1/ggg_please_fix_...</td>\n",
       "      <td>1514928812</td>\n",
       "      <td>1</td>\n",
       "      <td>False</td>\n",
       "      <td>pathofexile</td>\n",
       "      <td>t5_2sf6m</td>\n",
       "      <td>public</td>\n",
       "    </tr>\n",
       "    <tr>\n",
       "      <th>1</th>\n",
       "      <td>[deleted]</td>\n",
       "      <td>NaN</td>\n",
       "      <td>None</td>\n",
       "      <td>None</td>\n",
       "      <td>[deleted]</td>\n",
       "      <td>True</td>\n",
       "      <td>0</td>\n",
       "      <td>1513814400</td>\n",
       "      <td>None</td>\n",
       "      <td>0</td>\n",
       "      <td>...</td>\n",
       "      <td>False</td>\n",
       "      <td>t3_7l4xdt</td>\n",
       "      <td>t3_7l4xdt</td>\n",
       "      <td>/r/The_Donald/comments/7l4xdt/wells_fargo_rais...</td>\n",
       "      <td>1514928812</td>\n",
       "      <td>1</td>\n",
       "      <td>False</td>\n",
       "      <td>The_Donald</td>\n",
       "      <td>t5_38unr</td>\n",
       "      <td>public</td>\n",
       "    </tr>\n",
       "    <tr>\n",
       "      <th>2</th>\n",
       "      <td>vgeh</td>\n",
       "      <td>NaN</td>\n",
       "      <td>None</td>\n",
       "      <td>None</td>\n",
       "      <td>3 season- Mostly thrunite ti3. \\n\\n\\n3 season ...</td>\n",
       "      <td>True</td>\n",
       "      <td>0</td>\n",
       "      <td>1513814400</td>\n",
       "      <td>None</td>\n",
       "      <td>0</td>\n",
       "      <td>...</td>\n",
       "      <td>False</td>\n",
       "      <td>t3_7klrjl</td>\n",
       "      <td>t1_drjkcuz</td>\n",
       "      <td>/r/Ultralight/comments/7klrjl/rultralight_disc...</td>\n",
       "      <td>1514928812</td>\n",
       "      <td>3</td>\n",
       "      <td>False</td>\n",
       "      <td>Ultralight</td>\n",
       "      <td>t5_2s7p2</td>\n",
       "      <td>public</td>\n",
       "    </tr>\n",
       "    <tr>\n",
       "      <th>3</th>\n",
       "      <td>Litbus_TJ</td>\n",
       "      <td>NaN</td>\n",
       "      <td>None</td>\n",
       "      <td>None</td>\n",
       "      <td>Beautiful, isn't it?</td>\n",
       "      <td>True</td>\n",
       "      <td>0</td>\n",
       "      <td>1513814400</td>\n",
       "      <td>None</td>\n",
       "      <td>0</td>\n",
       "      <td>...</td>\n",
       "      <td>False</td>\n",
       "      <td>t3_7l3jhf</td>\n",
       "      <td>t1_drjnyvi</td>\n",
       "      <td>/r/hoi4/comments/7l3jhf/isp_face_reveal/drjocb6/</td>\n",
       "      <td>1514928812</td>\n",
       "      <td>15</td>\n",
       "      <td>False</td>\n",
       "      <td>hoi4</td>\n",
       "      <td>t5_2zvvb</td>\n",
       "      <td>public</td>\n",
       "    </tr>\n",
       "    <tr>\n",
       "      <th>4</th>\n",
       "      <td>[deleted]</td>\n",
       "      <td>NaN</td>\n",
       "      <td>None</td>\n",
       "      <td>None</td>\n",
       "      <td>[deleted]</td>\n",
       "      <td>True</td>\n",
       "      <td>0</td>\n",
       "      <td>1513814400</td>\n",
       "      <td>None</td>\n",
       "      <td>0</td>\n",
       "      <td>...</td>\n",
       "      <td>False</td>\n",
       "      <td>t3_7l514t</td>\n",
       "      <td>t3_7l514t</td>\n",
       "      <td>/r/baseball/comments/7l514t/your_opinion_on_th...</td>\n",
       "      <td>1514928812</td>\n",
       "      <td>1</td>\n",
       "      <td>False</td>\n",
       "      <td>baseball</td>\n",
       "      <td>t5_2qm7u</td>\n",
       "      <td>public</td>\n",
       "    </tr>\n",
       "  </tbody>\n",
       "</table>\n",
       "<p>5 rows × 22 columns</p>\n",
       "</div>"
      ],
      "text/plain": [
       "       author  author_cakeday author_flair_css_class author_flair_text  \\\n",
       "0  StrayYoshi             NaN         asc-hierophant        Hierophant   \n",
       "1   [deleted]             NaN                   None              None   \n",
       "2        vgeh             NaN                   None              None   \n",
       "3   Litbus_TJ             NaN                   None              None   \n",
       "4   [deleted]             NaN                   None              None   \n",
       "\n",
       "                                                body  can_gild  \\\n",
       "0  Have to kill him in 1 portal is the way I do i...      True   \n",
       "1                                          [deleted]      True   \n",
       "2  3 season- Mostly thrunite ti3. \\n\\n\\n3 season ...      True   \n",
       "3                               Beautiful, isn't it?      True   \n",
       "4                                          [deleted]      True   \n",
       "\n",
       "   controversiality  created_utc distinguished  edited      ...        \\\n",
       "0                 0   1513814400          None       0      ...         \n",
       "1                 0   1513814400          None       0      ...         \n",
       "2                 0   1513814400          None       0      ...         \n",
       "3                 0   1513814400          None       0      ...         \n",
       "4                 0   1513814400          None       0      ...         \n",
       "\n",
       "   is_submitter    link_id   parent_id  \\\n",
       "0         False  t3_7l0zv1   t3_7l0zv1   \n",
       "1         False  t3_7l4xdt   t3_7l4xdt   \n",
       "2         False  t3_7klrjl  t1_drjkcuz   \n",
       "3         False  t3_7l3jhf  t1_drjnyvi   \n",
       "4         False  t3_7l514t   t3_7l514t   \n",
       "\n",
       "                                           permalink retrieved_on score  \\\n",
       "0  /r/pathofexile/comments/7l0zv1/ggg_please_fix_...   1514928812     1   \n",
       "1  /r/The_Donald/comments/7l4xdt/wells_fargo_rais...   1514928812     1   \n",
       "2  /r/Ultralight/comments/7klrjl/rultralight_disc...   1514928812     3   \n",
       "3   /r/hoi4/comments/7l3jhf/isp_face_reveal/drjocb6/   1514928812    15   \n",
       "4  /r/baseball/comments/7l514t/your_opinion_on_th...   1514928812     1   \n",
       "\n",
       "   stickied    subreddit  subreddit_id subreddit_type  \n",
       "0     False  pathofexile      t5_2sf6m         public  \n",
       "1     False   The_Donald      t5_38unr         public  \n",
       "2     False   Ultralight      t5_2s7p2         public  \n",
       "3     False         hoi4      t5_2zvvb         public  \n",
       "4     False     baseball      t5_2qm7u         public  \n",
       "\n",
       "[5 rows x 22 columns]"
      ]
     },
     "execution_count": 5,
     "metadata": {},
     "output_type": "execute_result"
    }
   ],
   "source": [
    "redditframe.head()"
   ]
  },
  {
   "cell_type": "code",
   "execution_count": 8,
   "metadata": {},
   "outputs": [
    {
     "data": {
      "text/plain": [
       "2929215"
      ]
     },
     "execution_count": 8,
     "metadata": {},
     "output_type": "execute_result"
    }
   ],
   "source": [
    "len(redditframe)"
   ]
  },
  {
   "cell_type": "markdown",
   "metadata": {},
   "source": [
    "<p>Yay! We have the data! And I don't need to save it in it's raw form since loading it doesn't take that long! Moving on, data Cleanup!</p>"
   ]
  },
  {
   "cell_type": "markdown",
   "metadata": {},
   "source": [
    "<h2>Data Cleanup!</h2>\n",
    "<p>So, like in the last progress report, I will need to cleanup the data presented in this dataframe. I imagine most of this will be really similar. However, I will only drop columns that seem useless. Any remote interest I will hold onto.</p>\n"
   ]
  },
  {
   "cell_type": "code",
   "execution_count": null,
   "metadata": {},
   "outputs": [],
   "source": []
  }
 ],
 "metadata": {
  "kernelspec": {
   "display_name": "Python 3",
   "language": "python",
   "name": "python3"
  },
  "language_info": {
   "codemirror_mode": {
    "name": "ipython",
    "version": 3
   },
   "file_extension": ".py",
   "mimetype": "text/x-python",
   "name": "python",
   "nbconvert_exporter": "python",
   "pygments_lexer": "ipython3",
   "version": "3.7.1"
  }
 },
 "nbformat": 4,
 "nbformat_minor": 2
}
