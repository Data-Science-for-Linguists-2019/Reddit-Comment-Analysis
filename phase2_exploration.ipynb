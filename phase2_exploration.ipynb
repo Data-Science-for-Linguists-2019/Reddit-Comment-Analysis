{
 "cells": [
  {
   "cell_type": "markdown",
   "metadata": {},
   "source": [
    "<h1>Progress Report 2 Notebook</h1>"
   ]
  },
  {
   "cell_type": "code",
   "execution_count": 1,
   "metadata": {},
   "outputs": [],
   "source": [
    "import numpy as np\n",
    "import pandas as pd\n",
    "import json\n",
    "import lzma\n",
    "from pandas.io.json import json_normalize"
   ]
  },
  {
   "cell_type": "markdown",
   "metadata": {},
   "source": [
    "<a id=\"tablecontent\"></a>\n",
    "<h2>Table of Contents</h2>\n",
    "<ol>\n",
    "    <li><a href=\"#dataacq\">Data Acquisition</a></li>\n",
    "    <li><a href=\"#dataclean\">Data Cleanup</a></li>\n",
    "</ol>"
   ]
  },
  {
   "cell_type": "markdown",
   "metadata": {},
   "source": [
    "<a id=\"dataacq\"></a>\n",
    "<h2>Data Acquisition [<a href=\"#tablecontent\">TOC</a>]</h2>\n",
    "<p>First order of buisiness. I had to stick with the really slow procedure since I changed the corpus size close to the deadline. However, this smaller corpus means I can load all of it into memory at once (We're down to only about 3GB uncompressed). First, we acquire the data...</p>"
   ]
  },
  {
   "cell_type": "code",
   "execution_count": 2,
   "metadata": {},
   "outputs": [],
   "source": [
    "file = open(\"data/RC_2017-12-21\")"
   ]
  },
  {
   "cell_type": "code",
   "execution_count": 3,
   "metadata": {},
   "outputs": [],
   "source": [
    "redditframe = pd.read_json(file, lines=True)"
   ]
  },
  {
   "cell_type": "code",
   "execution_count": 4,
   "metadata": {},
   "outputs": [],
   "source": [
    "file.close()"
   ]
  },
  {
   "cell_type": "code",
   "execution_count": 5,
   "metadata": {},
   "outputs": [
    {
     "data": {
      "text/html": [
       "<div>\n",
       "<style scoped>\n",
       "    .dataframe tbody tr th:only-of-type {\n",
       "        vertical-align: middle;\n",
       "    }\n",
       "\n",
       "    .dataframe tbody tr th {\n",
       "        vertical-align: top;\n",
       "    }\n",
       "\n",
       "    .dataframe thead th {\n",
       "        text-align: right;\n",
       "    }\n",
       "</style>\n",
       "<table border=\"1\" class=\"dataframe\">\n",
       "  <thead>\n",
       "    <tr style=\"text-align: right;\">\n",
       "      <th></th>\n",
       "      <th>author</th>\n",
       "      <th>author_cakeday</th>\n",
       "      <th>author_flair_css_class</th>\n",
       "      <th>author_flair_text</th>\n",
       "      <th>body</th>\n",
       "      <th>can_gild</th>\n",
       "      <th>controversiality</th>\n",
       "      <th>created_utc</th>\n",
       "      <th>distinguished</th>\n",
       "      <th>edited</th>\n",
       "      <th>...</th>\n",
       "      <th>is_submitter</th>\n",
       "      <th>link_id</th>\n",
       "      <th>parent_id</th>\n",
       "      <th>permalink</th>\n",
       "      <th>retrieved_on</th>\n",
       "      <th>score</th>\n",
       "      <th>stickied</th>\n",
       "      <th>subreddit</th>\n",
       "      <th>subreddit_id</th>\n",
       "      <th>subreddit_type</th>\n",
       "    </tr>\n",
       "  </thead>\n",
       "  <tbody>\n",
       "    <tr>\n",
       "      <th>0</th>\n",
       "      <td>StrayYoshi</td>\n",
       "      <td>NaN</td>\n",
       "      <td>asc-hierophant</td>\n",
       "      <td>Hierophant</td>\n",
       "      <td>Have to kill him in 1 portal is the way I do i...</td>\n",
       "      <td>True</td>\n",
       "      <td>0</td>\n",
       "      <td>1513814400</td>\n",
       "      <td>None</td>\n",
       "      <td>0</td>\n",
       "      <td>...</td>\n",
       "      <td>False</td>\n",
       "      <td>t3_7l0zv1</td>\n",
       "      <td>t3_7l0zv1</td>\n",
       "      <td>/r/pathofexile/comments/7l0zv1/ggg_please_fix_...</td>\n",
       "      <td>1514928812</td>\n",
       "      <td>1</td>\n",
       "      <td>False</td>\n",
       "      <td>pathofexile</td>\n",
       "      <td>t5_2sf6m</td>\n",
       "      <td>public</td>\n",
       "    </tr>\n",
       "    <tr>\n",
       "      <th>1</th>\n",
       "      <td>[deleted]</td>\n",
       "      <td>NaN</td>\n",
       "      <td>None</td>\n",
       "      <td>None</td>\n",
       "      <td>[deleted]</td>\n",
       "      <td>True</td>\n",
       "      <td>0</td>\n",
       "      <td>1513814400</td>\n",
       "      <td>None</td>\n",
       "      <td>0</td>\n",
       "      <td>...</td>\n",
       "      <td>False</td>\n",
       "      <td>t3_7l4xdt</td>\n",
       "      <td>t3_7l4xdt</td>\n",
       "      <td>/r/The_Donald/comments/7l4xdt/wells_fargo_rais...</td>\n",
       "      <td>1514928812</td>\n",
       "      <td>1</td>\n",
       "      <td>False</td>\n",
       "      <td>The_Donald</td>\n",
       "      <td>t5_38unr</td>\n",
       "      <td>public</td>\n",
       "    </tr>\n",
       "    <tr>\n",
       "      <th>2</th>\n",
       "      <td>vgeh</td>\n",
       "      <td>NaN</td>\n",
       "      <td>None</td>\n",
       "      <td>None</td>\n",
       "      <td>3 season- Mostly thrunite ti3. \\n\\n\\n3 season ...</td>\n",
       "      <td>True</td>\n",
       "      <td>0</td>\n",
       "      <td>1513814400</td>\n",
       "      <td>None</td>\n",
       "      <td>0</td>\n",
       "      <td>...</td>\n",
       "      <td>False</td>\n",
       "      <td>t3_7klrjl</td>\n",
       "      <td>t1_drjkcuz</td>\n",
       "      <td>/r/Ultralight/comments/7klrjl/rultralight_disc...</td>\n",
       "      <td>1514928812</td>\n",
       "      <td>3</td>\n",
       "      <td>False</td>\n",
       "      <td>Ultralight</td>\n",
       "      <td>t5_2s7p2</td>\n",
       "      <td>public</td>\n",
       "    </tr>\n",
       "    <tr>\n",
       "      <th>3</th>\n",
       "      <td>Litbus_TJ</td>\n",
       "      <td>NaN</td>\n",
       "      <td>None</td>\n",
       "      <td>None</td>\n",
       "      <td>Beautiful, isn't it?</td>\n",
       "      <td>True</td>\n",
       "      <td>0</td>\n",
       "      <td>1513814400</td>\n",
       "      <td>None</td>\n",
       "      <td>0</td>\n",
       "      <td>...</td>\n",
       "      <td>False</td>\n",
       "      <td>t3_7l3jhf</td>\n",
       "      <td>t1_drjnyvi</td>\n",
       "      <td>/r/hoi4/comments/7l3jhf/isp_face_reveal/drjocb6/</td>\n",
       "      <td>1514928812</td>\n",
       "      <td>15</td>\n",
       "      <td>False</td>\n",
       "      <td>hoi4</td>\n",
       "      <td>t5_2zvvb</td>\n",
       "      <td>public</td>\n",
       "    </tr>\n",
       "    <tr>\n",
       "      <th>4</th>\n",
       "      <td>[deleted]</td>\n",
       "      <td>NaN</td>\n",
       "      <td>None</td>\n",
       "      <td>None</td>\n",
       "      <td>[deleted]</td>\n",
       "      <td>True</td>\n",
       "      <td>0</td>\n",
       "      <td>1513814400</td>\n",
       "      <td>None</td>\n",
       "      <td>0</td>\n",
       "      <td>...</td>\n",
       "      <td>False</td>\n",
       "      <td>t3_7l514t</td>\n",
       "      <td>t3_7l514t</td>\n",
       "      <td>/r/baseball/comments/7l514t/your_opinion_on_th...</td>\n",
       "      <td>1514928812</td>\n",
       "      <td>1</td>\n",
       "      <td>False</td>\n",
       "      <td>baseball</td>\n",
       "      <td>t5_2qm7u</td>\n",
       "      <td>public</td>\n",
       "    </tr>\n",
       "  </tbody>\n",
       "</table>\n",
       "<p>5 rows × 22 columns</p>\n",
       "</div>"
      ],
      "text/plain": [
       "       author  author_cakeday author_flair_css_class author_flair_text  \\\n",
       "0  StrayYoshi             NaN         asc-hierophant        Hierophant   \n",
       "1   [deleted]             NaN                   None              None   \n",
       "2        vgeh             NaN                   None              None   \n",
       "3   Litbus_TJ             NaN                   None              None   \n",
       "4   [deleted]             NaN                   None              None   \n",
       "\n",
       "                                                body  can_gild  \\\n",
       "0  Have to kill him in 1 portal is the way I do i...      True   \n",
       "1                                          [deleted]      True   \n",
       "2  3 season- Mostly thrunite ti3. \\n\\n\\n3 season ...      True   \n",
       "3                               Beautiful, isn't it?      True   \n",
       "4                                          [deleted]      True   \n",
       "\n",
       "   controversiality  created_utc distinguished  edited      ...        \\\n",
       "0                 0   1513814400          None       0      ...         \n",
       "1                 0   1513814400          None       0      ...         \n",
       "2                 0   1513814400          None       0      ...         \n",
       "3                 0   1513814400          None       0      ...         \n",
       "4                 0   1513814400          None       0      ...         \n",
       "\n",
       "   is_submitter    link_id   parent_id  \\\n",
       "0         False  t3_7l0zv1   t3_7l0zv1   \n",
       "1         False  t3_7l4xdt   t3_7l4xdt   \n",
       "2         False  t3_7klrjl  t1_drjkcuz   \n",
       "3         False  t3_7l3jhf  t1_drjnyvi   \n",
       "4         False  t3_7l514t   t3_7l514t   \n",
       "\n",
       "                                           permalink retrieved_on score  \\\n",
       "0  /r/pathofexile/comments/7l0zv1/ggg_please_fix_...   1514928812     1   \n",
       "1  /r/The_Donald/comments/7l4xdt/wells_fargo_rais...   1514928812     1   \n",
       "2  /r/Ultralight/comments/7klrjl/rultralight_disc...   1514928812     3   \n",
       "3   /r/hoi4/comments/7l3jhf/isp_face_reveal/drjocb6/   1514928812    15   \n",
       "4  /r/baseball/comments/7l514t/your_opinion_on_th...   1514928812     1   \n",
       "\n",
       "   stickied    subreddit  subreddit_id subreddit_type  \n",
       "0     False  pathofexile      t5_2sf6m         public  \n",
       "1     False   The_Donald      t5_38unr         public  \n",
       "2     False   Ultralight      t5_2s7p2         public  \n",
       "3     False         hoi4      t5_2zvvb         public  \n",
       "4     False     baseball      t5_2qm7u         public  \n",
       "\n",
       "[5 rows x 22 columns]"
      ]
     },
     "execution_count": 5,
     "metadata": {},
     "output_type": "execute_result"
    }
   ],
   "source": [
    "redditframe.head()"
   ]
  },
  {
   "cell_type": "code",
   "execution_count": 6,
   "metadata": {},
   "outputs": [
    {
     "data": {
      "text/plain": [
       "2929215"
      ]
     },
     "execution_count": 6,
     "metadata": {},
     "output_type": "execute_result"
    }
   ],
   "source": [
    "len(redditframe)"
   ]
  },
  {
   "cell_type": "markdown",
   "metadata": {},
   "source": [
    "<p>Yay! We have the data! And I don't need to save it in it's raw form since loading it doesn't take that long! Moving on, data Cleanup!</p>"
   ]
  },
  {
   "cell_type": "markdown",
   "metadata": {},
   "source": [
    "<a id=\"dataclean\"></a>\n",
    "<h2>Data Cleanup! [<a href=\"#tablecontent\">TOC</a>]</h2>\n",
    "<p>So, like in the last progress report, I will need to cleanup the data presented in this dataframe. I imagine most of this will be really similar. However, I will only drop columns that seem useless. Any remote interest I will hold onto. Buckle up, I imagine this section will be large like the last one. First, I will start with the columns that seemed to hold no value from the last project phase...</p>"
   ]
  },
  {
   "cell_type": "code",
   "execution_count": 7,
   "metadata": {},
   "outputs": [
    {
     "data": {
      "text/plain": [
       "Index(['author', 'author_cakeday', 'author_flair_css_class',\n",
       "       'author_flair_text', 'body', 'can_gild', 'controversiality',\n",
       "       'created_utc', 'distinguished', 'edited', 'gilded', 'id',\n",
       "       'is_submitter', 'link_id', 'parent_id', 'permalink', 'retrieved_on',\n",
       "       'score', 'stickied', 'subreddit', 'subreddit_id', 'subreddit_type'],\n",
       "      dtype='object')"
      ]
     },
     "execution_count": 7,
     "metadata": {},
     "output_type": "execute_result"
    }
   ],
   "source": [
    "redditframe.columns"
   ]
  },
  {
   "cell_type": "code",
   "execution_count": 8,
   "metadata": {},
   "outputs": [
    {
     "data": {
      "text/plain": [
       "                                                        99919\n",
       "noflair                                                  8876\n",
       "default                                                  7468\n",
       "noob                                                     4767\n",
       "flair-default                                            4730\n",
       "MURICA                                                   4415\n",
       "MAL                                                      3779\n",
       "new                                                      3557\n",
       "training                                                 3413\n",
       "35Gold WW                                                3396\n",
       "blue                                                     3263\n",
       "xbox                                                     2869\n",
       "mod                                                      2832\n",
       "Lakers1                                                  2489\n",
       "34Gold WW                                                2445\n",
       "patriots                                                 2356\n",
       "male                                                     2287\n",
       "green                                                    2137\n",
       "psn                                                      2133\n",
       "purple                                                   2031\n",
       "treadonme                                                1990\n",
       "black                                                    1984\n",
       "female                                                   1799\n",
       "kekistan                                                 1726\n",
       "red                                                      1665\n",
       "text-pcmr color-pcmr                                     1628\n",
       "bot                                                      1494\n",
       "text-pcmr color-pcmr icon-steam                          1450\n",
       "New                                                      1417\n",
       "purpleflair                                              1407\n",
       "                                                        ...  \n",
       "shop-tesco                                                  1\n",
       "poseidon TWODIA                                             1\n",
       "Skull                                                       1\n",
       "spencer                                                     1\n",
       "0051                                                        1\n",
       "BuffaloSabres-2014Home                                      1\n",
       "ZanA                                                        1\n",
       "Birthday4                                                   1\n",
       "JERS                                                        1\n",
       "ekali                                                       1\n",
       "harley                                                      1\n",
       "flair-wwfc                                                  1\n",
       "Dauntless                                                   1\n",
       "iDubbbzTeen                                                 1\n",
       "0-7 sinnohflair 394                                         1\n",
       "Nolan-Arenado                                               1\n",
       "gameboy                                                     1\n",
       "sheet7pos44                                                 1\n",
       "f1-frh-f2-s34                                               1\n",
       "auburn-sheet1-row06-col03-michigan-2sht1-2rw04-2cl05        1\n",
       "clnovispecial                                               1\n",
       "H5Persephone                                                1\n",
       "julian                                                      1\n",
       "LanternBlack                                                1\n",
       "blackbg darkgray                                            1\n",
       "three-mare2                                                 1\n",
       "degenerate                                                  1\n",
       "vineKappa                                                   1\n",
       "dsa                                                         1\n",
       "OneNight                                                    1\n",
       "Name: author_flair_css_class, Length: 45239, dtype: int64"
      ]
     },
     "execution_count": 8,
     "metadata": {},
     "output_type": "execute_result"
    }
   ],
   "source": [
    "redditframe.author_flair_css_class.value_counts()"
   ]
  },
  {
   "cell_type": "markdown",
   "metadata": {},
   "source": [
    "<p>Huh... This column actually has interesting values now. I guess AskReddit doesn't use flairs that much (I do pop on the subreddit from time to time, but not enough to make that deduction). I actually want to keep this one for experimentation now that I know what it looks like. Will have to fill in the NaN's though. I will use \"none\" to indicate NaN, with the lowercase n to indicate it's not the None data type.</p>"
   ]
  },
  {
   "cell_type": "code",
   "execution_count": 9,
   "metadata": {},
   "outputs": [],
   "source": [
    "redditframe.author_flair_css_class.fillna(\"none\", inplace=True)"
   ]
  },
  {
   "cell_type": "code",
   "execution_count": 10,
   "metadata": {},
   "outputs": [
    {
     "data": {
      "text/plain": [
       "0    asc-hierophant\n",
       "1              none\n",
       "2              none\n",
       "3              none\n",
       "4              none\n",
       "Name: author_flair_css_class, dtype: object"
      ]
     },
     "execution_count": 10,
     "metadata": {},
     "output_type": "execute_result"
    }
   ],
   "source": [
    "redditframe.author_flair_css_class.head()"
   ]
  },
  {
   "cell_type": "markdown",
   "metadata": {},
   "source": [
    "<p>Now that I think about it, The above is just css class. The next one is the actual text of the flair. This might be more meaningful...</p>"
   ]
  },
  {
   "cell_type": "code",
   "execution_count": 11,
   "metadata": {},
   "outputs": [
    {
     "data": {
      "text/plain": [
       "                                                                   155963\n",
       "Text                                                                 4754\n",
       "New User                                                             4553\n",
       "Lakers                                                               3181\n",
       "16                                                                   2646\n",
       "Patriots                                                             2396\n",
       "USA                                                                  1896\n",
       "MAGA                                                                 1836\n",
       "Rockets                                                              1778\n",
       "1776                                                                 1739\n",
       "redditor for 3 months                                                1737\n",
       "KEK                                                                  1707\n",
       "Raptors                                                              1579\n",
       "                                                                     1516\n",
       "The Amazing Bot                                                      1458\n",
       "14                                                                   1365\n",
       "Eagles                                                               1341\n",
       "Warriors                                                             1261\n",
       "California                                                           1229\n",
       "Vikings                                                              1127\n",
       "♀                                                                    1125\n",
       "Celtics                                                              1116\n",
       "&gt; 4 months account age. &lt; 700 comment karma.                   1114\n",
       "DTOM                                                                 1107\n",
       "TOR - NHL                                                            1102\n",
       "Thunder                                                              1083\n",
       "18                                                                   1068\n",
       "Seahawks                                                             1046\n",
       "TX                                                                   1036\n",
       "49ers                                                                1014\n",
       "                                                                    ...  \n",
       "N Druid Hills                                                           1\n",
       "Long Branch                                                             1\n",
       "Sheever.CancerSucks                                                     1\n",
       "Ada Rusheart (Hyperion)                                                 1\n",
       "Rebel Force Bespin                                                      1\n",
       "477,931 D God D Legend                                                  1\n",
       "https://myanimelist.net/profile/Jell-o_Hammer                           1\n",
       "King Crimson                                                            1\n",
       "😍 Hey Hun! 😍👌🙌                                                          1\n",
       "dry|uk| make skin snatched again                                        1\n",
       "Been there, done that, got the straitjacket                             1\n",
       "Bifrost Multi/Valhalla2 | ZMF Atticus | UERM | T50RPMk3 | M1060         1\n",
       "FFA and Party God                                                       1\n",
       "everyday penat                                                          1\n",
       " High Priest of the Thenns                                              1\n",
       "Diana                                                                   1\n",
       "Argus                                                                   1\n",
       "Melegaunt                                                               1\n",
       "SlickWhelp93157                                                         1\n",
       "We're Cyberpunk af.                                                     1\n",
       "NIDALEE                                                                 1\n",
       "23 T: 12/4/17 pre-op                                                    1\n",
       "By night all cloaks are black                                           1\n",
       "REEE                                                                    1\n",
       "35 | #1 | Feb. 19                                                       1\n",
       "ICF 2351 (FM)                                                           1\n",
       "James AKA DJ Coke D*ck                                                  1\n",
       "15+ Bartender/Server                                                    1\n",
       "Junior sales associate - mid-range paper supply firm                    1\n",
       "Guam is the ONLY impact                                                 1\n",
       "Name: author_flair_text, Length: 107969, dtype: int64"
      ]
     },
     "execution_count": 11,
     "metadata": {},
     "output_type": "execute_result"
    }
   ],
   "source": [
    "redditframe.author_flair_text.value_counts()"
   ]
  },
  {
   "cell_type": "code",
   "execution_count": 20,
   "metadata": {},
   "outputs": [],
   "source": [
    "redditframe.author_flair_text.fillna(\"none\", inplace=True)"
   ]
  },
  {
   "cell_type": "markdown",
   "metadata": {},
   "source": [
    "<p>This... might not be as useful.... I'll hold onto it if I can make sense of it later. I don't see moderator here though, I might have to dig for that. The only reason I wanted to keep these flairs was to see if tracking moderator posts would impact things at all or not...</p>\n",
    "<p>Moving on... Let's see if Controversiality is any different</p>"
   ]
  },
  {
   "cell_type": "code",
   "execution_count": 12,
   "metadata": {},
   "outputs": [
    {
     "data": {
      "text/plain": [
       "0    2863897\n",
       "1      65318\n",
       "Name: controversiality, dtype: int64"
      ]
     },
     "execution_count": 12,
     "metadata": {},
     "output_type": "execute_result"
    }
   ],
   "source": [
    "redditframe.controversiality.value_counts()"
   ]
  },
  {
   "cell_type": "markdown",
   "metadata": {},
   "source": [
    "<p>Still Just a boolean value. I'll keep it for now incase one of my chosen subreddits has a high controversiality rate, but if not, I'll just toss it out like the other columns. Onto the next!</p>"
   ]
  },
  {
   "cell_type": "code",
   "execution_count": 13,
   "metadata": {},
   "outputs": [
    {
     "data": {
      "text/plain": [
       "1513828021    125\n",
       "1513828025    113\n",
       "1513828023    113\n",
       "1513828020    111\n",
       "1513836363    102\n",
       "1513836362    100\n",
       "1513828029     95\n",
       "1513828024     94\n",
       "1513836361     94\n",
       "1513828027     93\n",
       "1513828028     91\n",
       "1513828022     88\n",
       "1513828026     86\n",
       "1513828032     85\n",
       "1513891446     83\n",
       "1513865632     82\n",
       "1513865633     82\n",
       "1513865634     82\n",
       "1513892213     81\n",
       "1513836364     79\n",
       "1513875581     79\n",
       "1513828031     78\n",
       "1513863707     77\n",
       "1513865631     76\n",
       "1513863706     74\n",
       "1513893797     73\n",
       "1513828019     72\n",
       "1513866065     72\n",
       "1513881638     72\n",
       "1513828033     71\n",
       "             ... \n",
       "1513854987      5\n",
       "1513847782      5\n",
       "1513836350      5\n",
       "1513850315      5\n",
       "1513836334      4\n",
       "1513846621      4\n",
       "1513838266      4\n",
       "1513834286      3\n",
       "1513838267      3\n",
       "1513836332      3\n",
       "1513836331      2\n",
       "1513827987      2\n",
       "1513855326      2\n",
       "1513846620      2\n",
       "1513827980      2\n",
       "1513854986      2\n",
       "1513836327      1\n",
       "1513836337      1\n",
       "1513855323      1\n",
       "1513855331      1\n",
       "1513827981      1\n",
       "1513855337      1\n",
       "1513827996      1\n",
       "1513855336      1\n",
       "1513836346      1\n",
       "1513855352      1\n",
       "1513827973      1\n",
       "1513836335      1\n",
       "1513827972      1\n",
       "1513855333      1\n",
       "Name: created_utc, Length: 86316, dtype: int64"
      ]
     },
     "execution_count": 13,
     "metadata": {},
     "output_type": "execute_result"
    }
   ],
   "source": [
    "redditframe.created_utc.value_counts()"
   ]
  },
  {
   "cell_type": "markdown",
   "metadata": {},
   "source": [
    "<p>And this is not really all that useful. I understand that this is tracking time in some manner if I'm interpreting, but due to the small time window of the corpus, I don't think time created is important anymore. Time of day upvote/downvote analysis is not the focus of this project anyways.</p>"
   ]
  },
  {
   "cell_type": "code",
   "execution_count": 14,
   "metadata": {},
   "outputs": [],
   "source": [
    "redditframe.drop([\"created_utc\"], axis=1, inplace=True)"
   ]
  },
  {
   "cell_type": "code",
   "execution_count": 21,
   "metadata": {},
   "outputs": [
    {
     "data": {
      "text/html": [
       "<div>\n",
       "<style scoped>\n",
       "    .dataframe tbody tr th:only-of-type {\n",
       "        vertical-align: middle;\n",
       "    }\n",
       "\n",
       "    .dataframe tbody tr th {\n",
       "        vertical-align: top;\n",
       "    }\n",
       "\n",
       "    .dataframe thead th {\n",
       "        text-align: right;\n",
       "    }\n",
       "</style>\n",
       "<table border=\"1\" class=\"dataframe\">\n",
       "  <thead>\n",
       "    <tr style=\"text-align: right;\">\n",
       "      <th></th>\n",
       "      <th>author</th>\n",
       "      <th>author_cakeday</th>\n",
       "      <th>author_flair_css_class</th>\n",
       "      <th>author_flair_text</th>\n",
       "      <th>body</th>\n",
       "      <th>can_gild</th>\n",
       "      <th>controversiality</th>\n",
       "      <th>distinguished</th>\n",
       "      <th>gilded</th>\n",
       "      <th>id</th>\n",
       "      <th>is_submitter</th>\n",
       "      <th>link_id</th>\n",
       "      <th>parent_id</th>\n",
       "      <th>permalink</th>\n",
       "      <th>retrieved_on</th>\n",
       "      <th>score</th>\n",
       "      <th>stickied</th>\n",
       "      <th>subreddit</th>\n",
       "      <th>subreddit_id</th>\n",
       "      <th>subreddit_type</th>\n",
       "    </tr>\n",
       "  </thead>\n",
       "  <tbody>\n",
       "    <tr>\n",
       "      <th>0</th>\n",
       "      <td>StrayYoshi</td>\n",
       "      <td>NaN</td>\n",
       "      <td>asc-hierophant</td>\n",
       "      <td>Hierophant</td>\n",
       "      <td>Have to kill him in 1 portal is the way I do i...</td>\n",
       "      <td>True</td>\n",
       "      <td>0</td>\n",
       "      <td>None</td>\n",
       "      <td>0</td>\n",
       "      <td>drjocb3</td>\n",
       "      <td>False</td>\n",
       "      <td>t3_7l0zv1</td>\n",
       "      <td>t3_7l0zv1</td>\n",
       "      <td>/r/pathofexile/comments/7l0zv1/ggg_please_fix_...</td>\n",
       "      <td>1514928812</td>\n",
       "      <td>1</td>\n",
       "      <td>False</td>\n",
       "      <td>pathofexile</td>\n",
       "      <td>t5_2sf6m</td>\n",
       "      <td>public</td>\n",
       "    </tr>\n",
       "    <tr>\n",
       "      <th>1</th>\n",
       "      <td>[deleted]</td>\n",
       "      <td>NaN</td>\n",
       "      <td>none</td>\n",
       "      <td>none</td>\n",
       "      <td>[deleted]</td>\n",
       "      <td>True</td>\n",
       "      <td>0</td>\n",
       "      <td>None</td>\n",
       "      <td>0</td>\n",
       "      <td>drjocb4</td>\n",
       "      <td>False</td>\n",
       "      <td>t3_7l4xdt</td>\n",
       "      <td>t3_7l4xdt</td>\n",
       "      <td>/r/The_Donald/comments/7l4xdt/wells_fargo_rais...</td>\n",
       "      <td>1514928812</td>\n",
       "      <td>1</td>\n",
       "      <td>False</td>\n",
       "      <td>The_Donald</td>\n",
       "      <td>t5_38unr</td>\n",
       "      <td>public</td>\n",
       "    </tr>\n",
       "    <tr>\n",
       "      <th>2</th>\n",
       "      <td>vgeh</td>\n",
       "      <td>NaN</td>\n",
       "      <td>none</td>\n",
       "      <td>none</td>\n",
       "      <td>3 season- Mostly thrunite ti3. \\n\\n\\n3 season ...</td>\n",
       "      <td>True</td>\n",
       "      <td>0</td>\n",
       "      <td>None</td>\n",
       "      <td>0</td>\n",
       "      <td>drjocb5</td>\n",
       "      <td>False</td>\n",
       "      <td>t3_7klrjl</td>\n",
       "      <td>t1_drjkcuz</td>\n",
       "      <td>/r/Ultralight/comments/7klrjl/rultralight_disc...</td>\n",
       "      <td>1514928812</td>\n",
       "      <td>3</td>\n",
       "      <td>False</td>\n",
       "      <td>Ultralight</td>\n",
       "      <td>t5_2s7p2</td>\n",
       "      <td>public</td>\n",
       "    </tr>\n",
       "    <tr>\n",
       "      <th>3</th>\n",
       "      <td>Litbus_TJ</td>\n",
       "      <td>NaN</td>\n",
       "      <td>none</td>\n",
       "      <td>none</td>\n",
       "      <td>Beautiful, isn't it?</td>\n",
       "      <td>True</td>\n",
       "      <td>0</td>\n",
       "      <td>None</td>\n",
       "      <td>0</td>\n",
       "      <td>drjocb6</td>\n",
       "      <td>False</td>\n",
       "      <td>t3_7l3jhf</td>\n",
       "      <td>t1_drjnyvi</td>\n",
       "      <td>/r/hoi4/comments/7l3jhf/isp_face_reveal/drjocb6/</td>\n",
       "      <td>1514928812</td>\n",
       "      <td>15</td>\n",
       "      <td>False</td>\n",
       "      <td>hoi4</td>\n",
       "      <td>t5_2zvvb</td>\n",
       "      <td>public</td>\n",
       "    </tr>\n",
       "    <tr>\n",
       "      <th>4</th>\n",
       "      <td>[deleted]</td>\n",
       "      <td>NaN</td>\n",
       "      <td>none</td>\n",
       "      <td>none</td>\n",
       "      <td>[deleted]</td>\n",
       "      <td>True</td>\n",
       "      <td>0</td>\n",
       "      <td>None</td>\n",
       "      <td>0</td>\n",
       "      <td>drjocb7</td>\n",
       "      <td>False</td>\n",
       "      <td>t3_7l514t</td>\n",
       "      <td>t3_7l514t</td>\n",
       "      <td>/r/baseball/comments/7l514t/your_opinion_on_th...</td>\n",
       "      <td>1514928812</td>\n",
       "      <td>1</td>\n",
       "      <td>False</td>\n",
       "      <td>baseball</td>\n",
       "      <td>t5_2qm7u</td>\n",
       "      <td>public</td>\n",
       "    </tr>\n",
       "  </tbody>\n",
       "</table>\n",
       "</div>"
      ],
      "text/plain": [
       "       author  author_cakeday author_flair_css_class author_flair_text  \\\n",
       "0  StrayYoshi             NaN         asc-hierophant        Hierophant   \n",
       "1   [deleted]             NaN                   none              none   \n",
       "2        vgeh             NaN                   none              none   \n",
       "3   Litbus_TJ             NaN                   none              none   \n",
       "4   [deleted]             NaN                   none              none   \n",
       "\n",
       "                                                body  can_gild  \\\n",
       "0  Have to kill him in 1 portal is the way I do i...      True   \n",
       "1                                          [deleted]      True   \n",
       "2  3 season- Mostly thrunite ti3. \\n\\n\\n3 season ...      True   \n",
       "3                               Beautiful, isn't it?      True   \n",
       "4                                          [deleted]      True   \n",
       "\n",
       "   controversiality distinguished  gilded       id  is_submitter    link_id  \\\n",
       "0                 0          None       0  drjocb3         False  t3_7l0zv1   \n",
       "1                 0          None       0  drjocb4         False  t3_7l4xdt   \n",
       "2                 0          None       0  drjocb5         False  t3_7klrjl   \n",
       "3                 0          None       0  drjocb6         False  t3_7l3jhf   \n",
       "4                 0          None       0  drjocb7         False  t3_7l514t   \n",
       "\n",
       "    parent_id                                          permalink  \\\n",
       "0   t3_7l0zv1  /r/pathofexile/comments/7l0zv1/ggg_please_fix_...   \n",
       "1   t3_7l4xdt  /r/The_Donald/comments/7l4xdt/wells_fargo_rais...   \n",
       "2  t1_drjkcuz  /r/Ultralight/comments/7klrjl/rultralight_disc...   \n",
       "3  t1_drjnyvi   /r/hoi4/comments/7l3jhf/isp_face_reveal/drjocb6/   \n",
       "4   t3_7l514t  /r/baseball/comments/7l514t/your_opinion_on_th...   \n",
       "\n",
       "   retrieved_on  score  stickied    subreddit subreddit_id subreddit_type  \n",
       "0    1514928812      1     False  pathofexile     t5_2sf6m         public  \n",
       "1    1514928812      1     False   The_Donald     t5_38unr         public  \n",
       "2    1514928812      3     False   Ultralight     t5_2s7p2         public  \n",
       "3    1514928812     15     False         hoi4     t5_2zvvb         public  \n",
       "4    1514928812      1     False     baseball     t5_2qm7u         public  "
      ]
     },
     "execution_count": 21,
     "metadata": {},
     "output_type": "execute_result"
    }
   ],
   "source": [
    "redditframe.head()"
   ]
  },
  {
   "cell_type": "markdown",
   "metadata": {},
   "source": [
    "<p>Now we shall look at edited...</p>"
   ]
  },
  {
   "cell_type": "code",
   "execution_count": 16,
   "metadata": {},
   "outputs": [
    {
     "data": {
      "text/plain": [
       "0             2842107\n",
       "1514267147          8\n",
       "1513869367          7\n",
       "1513899613          7\n",
       "1513894653          7\n",
       "1513880394          7\n",
       "1513878120          7\n",
       "1513892592          7\n",
       "1513891233          7\n",
       "1513884135          7\n",
       "1513882149          6\n",
       "1513884745          6\n",
       "1513873448          6\n",
       "1513893396          6\n",
       "1513893572          6\n",
       "1513880075          6\n",
       "1513823491          6\n",
       "1513878356          6\n",
       "1513873099          6\n",
       "1513885638          6\n",
       "1513887392          6\n",
       "1513891120          6\n",
       "1513897057          6\n",
       "1513875720          6\n",
       "1513882105          6\n",
       "1513899607          6\n",
       "1513892355          6\n",
       "1513877010          6\n",
       "1513890951          6\n",
       "1513835839          6\n",
       "               ...   \n",
       "1513837474          1\n",
       "1513833376          1\n",
       "1514001266          1\n",
       "1513894734          1\n",
       "1513892685          1\n",
       "1513890636          1\n",
       "1513886539          1\n",
       "1513890637          1\n",
       "1513966432          1\n",
       "1514003314          1\n",
       "1513896781          1\n",
       "1513882442          1\n",
       "1513888585          1\n",
       "1513886536          1\n",
       "1513911108          1\n",
       "1513900867          1\n",
       "1513898818          1\n",
       "1514905018          1\n",
       "1514542091          1\n",
       "1513857981          1\n",
       "1513860028          1\n",
       "1513853883          1\n",
       "1513849785          1\n",
       "1513874357          1\n",
       "1513876404          1\n",
       "1513870259          1\n",
       "1513829295          1\n",
       "1513827244          1\n",
       "1513841573          1\n",
       "1514652417          1\n",
       "Name: edited, Length: 60448, dtype: int64"
      ]
     },
     "execution_count": 16,
     "metadata": {},
     "output_type": "execute_result"
    }
   ],
   "source": [
    "redditframe.edited.value_counts()"
   ]
  },
  {
   "cell_type": "markdown",
   "metadata": {},
   "source": [
    "<p>This doesn't seem useful at all, and I had no use for it prior to investigating this. Dropping this column...</p>"
   ]
  },
  {
   "cell_type": "code",
   "execution_count": 17,
   "metadata": {},
   "outputs": [],
   "source": [
    "redditframe.drop([\"edited\"], axis=1, inplace=True)"
   ]
  },
  {
   "cell_type": "markdown",
   "metadata": {},
   "source": [
    "<p>Next, I shall consult the distinguished column.</p>"
   ]
  },
  {
   "cell_type": "code",
   "execution_count": 19,
   "metadata": {},
   "outputs": [
    {
     "data": {
      "text/plain": [
       "moderator    38249\n",
       "admin           23\n",
       "Name: distinguished, dtype: int64"
      ]
     },
     "execution_count": 19,
     "metadata": {},
     "output_type": "execute_result"
    }
   ],
   "source": [
    "redditframe.distinguished.value_counts()"
   ]
  },
  {
   "cell_type": "markdown",
   "metadata": {},
   "source": [
    "<p>Hmmmm, this indicates mods and admins a lot better than the flairs, but this is the only thing it tracks. I'll keep it nonetheless. Fillna, then move onto the next column!</p>"
   ]
  },
  {
   "cell_type": "code",
   "execution_count": 23,
   "metadata": {},
   "outputs": [],
   "source": [
    "redditframe.distinguished.fillna(\"none\", inplace=True)"
   ]
  },
  {
   "cell_type": "code",
   "execution_count": 24,
   "metadata": {},
   "outputs": [
    {
     "data": {
      "text/html": [
       "<div>\n",
       "<style scoped>\n",
       "    .dataframe tbody tr th:only-of-type {\n",
       "        vertical-align: middle;\n",
       "    }\n",
       "\n",
       "    .dataframe tbody tr th {\n",
       "        vertical-align: top;\n",
       "    }\n",
       "\n",
       "    .dataframe thead th {\n",
       "        text-align: right;\n",
       "    }\n",
       "</style>\n",
       "<table border=\"1\" class=\"dataframe\">\n",
       "  <thead>\n",
       "    <tr style=\"text-align: right;\">\n",
       "      <th></th>\n",
       "      <th>author</th>\n",
       "      <th>author_cakeday</th>\n",
       "      <th>author_flair_css_class</th>\n",
       "      <th>author_flair_text</th>\n",
       "      <th>body</th>\n",
       "      <th>can_gild</th>\n",
       "      <th>controversiality</th>\n",
       "      <th>distinguished</th>\n",
       "      <th>gilded</th>\n",
       "      <th>id</th>\n",
       "      <th>is_submitter</th>\n",
       "      <th>link_id</th>\n",
       "      <th>parent_id</th>\n",
       "      <th>permalink</th>\n",
       "      <th>retrieved_on</th>\n",
       "      <th>score</th>\n",
       "      <th>stickied</th>\n",
       "      <th>subreddit</th>\n",
       "      <th>subreddit_id</th>\n",
       "      <th>subreddit_type</th>\n",
       "    </tr>\n",
       "  </thead>\n",
       "  <tbody>\n",
       "    <tr>\n",
       "      <th>0</th>\n",
       "      <td>StrayYoshi</td>\n",
       "      <td>NaN</td>\n",
       "      <td>asc-hierophant</td>\n",
       "      <td>Hierophant</td>\n",
       "      <td>Have to kill him in 1 portal is the way I do i...</td>\n",
       "      <td>True</td>\n",
       "      <td>0</td>\n",
       "      <td>none</td>\n",
       "      <td>0</td>\n",
       "      <td>drjocb3</td>\n",
       "      <td>False</td>\n",
       "      <td>t3_7l0zv1</td>\n",
       "      <td>t3_7l0zv1</td>\n",
       "      <td>/r/pathofexile/comments/7l0zv1/ggg_please_fix_...</td>\n",
       "      <td>1514928812</td>\n",
       "      <td>1</td>\n",
       "      <td>False</td>\n",
       "      <td>pathofexile</td>\n",
       "      <td>t5_2sf6m</td>\n",
       "      <td>public</td>\n",
       "    </tr>\n",
       "    <tr>\n",
       "      <th>1</th>\n",
       "      <td>[deleted]</td>\n",
       "      <td>NaN</td>\n",
       "      <td>none</td>\n",
       "      <td>none</td>\n",
       "      <td>[deleted]</td>\n",
       "      <td>True</td>\n",
       "      <td>0</td>\n",
       "      <td>none</td>\n",
       "      <td>0</td>\n",
       "      <td>drjocb4</td>\n",
       "      <td>False</td>\n",
       "      <td>t3_7l4xdt</td>\n",
       "      <td>t3_7l4xdt</td>\n",
       "      <td>/r/The_Donald/comments/7l4xdt/wells_fargo_rais...</td>\n",
       "      <td>1514928812</td>\n",
       "      <td>1</td>\n",
       "      <td>False</td>\n",
       "      <td>The_Donald</td>\n",
       "      <td>t5_38unr</td>\n",
       "      <td>public</td>\n",
       "    </tr>\n",
       "    <tr>\n",
       "      <th>2</th>\n",
       "      <td>vgeh</td>\n",
       "      <td>NaN</td>\n",
       "      <td>none</td>\n",
       "      <td>none</td>\n",
       "      <td>3 season- Mostly thrunite ti3. \\n\\n\\n3 season ...</td>\n",
       "      <td>True</td>\n",
       "      <td>0</td>\n",
       "      <td>none</td>\n",
       "      <td>0</td>\n",
       "      <td>drjocb5</td>\n",
       "      <td>False</td>\n",
       "      <td>t3_7klrjl</td>\n",
       "      <td>t1_drjkcuz</td>\n",
       "      <td>/r/Ultralight/comments/7klrjl/rultralight_disc...</td>\n",
       "      <td>1514928812</td>\n",
       "      <td>3</td>\n",
       "      <td>False</td>\n",
       "      <td>Ultralight</td>\n",
       "      <td>t5_2s7p2</td>\n",
       "      <td>public</td>\n",
       "    </tr>\n",
       "    <tr>\n",
       "      <th>3</th>\n",
       "      <td>Litbus_TJ</td>\n",
       "      <td>NaN</td>\n",
       "      <td>none</td>\n",
       "      <td>none</td>\n",
       "      <td>Beautiful, isn't it?</td>\n",
       "      <td>True</td>\n",
       "      <td>0</td>\n",
       "      <td>none</td>\n",
       "      <td>0</td>\n",
       "      <td>drjocb6</td>\n",
       "      <td>False</td>\n",
       "      <td>t3_7l3jhf</td>\n",
       "      <td>t1_drjnyvi</td>\n",
       "      <td>/r/hoi4/comments/7l3jhf/isp_face_reveal/drjocb6/</td>\n",
       "      <td>1514928812</td>\n",
       "      <td>15</td>\n",
       "      <td>False</td>\n",
       "      <td>hoi4</td>\n",
       "      <td>t5_2zvvb</td>\n",
       "      <td>public</td>\n",
       "    </tr>\n",
       "    <tr>\n",
       "      <th>4</th>\n",
       "      <td>[deleted]</td>\n",
       "      <td>NaN</td>\n",
       "      <td>none</td>\n",
       "      <td>none</td>\n",
       "      <td>[deleted]</td>\n",
       "      <td>True</td>\n",
       "      <td>0</td>\n",
       "      <td>none</td>\n",
       "      <td>0</td>\n",
       "      <td>drjocb7</td>\n",
       "      <td>False</td>\n",
       "      <td>t3_7l514t</td>\n",
       "      <td>t3_7l514t</td>\n",
       "      <td>/r/baseball/comments/7l514t/your_opinion_on_th...</td>\n",
       "      <td>1514928812</td>\n",
       "      <td>1</td>\n",
       "      <td>False</td>\n",
       "      <td>baseball</td>\n",
       "      <td>t5_2qm7u</td>\n",
       "      <td>public</td>\n",
       "    </tr>\n",
       "  </tbody>\n",
       "</table>\n",
       "</div>"
      ],
      "text/plain": [
       "       author  author_cakeday author_flair_css_class author_flair_text  \\\n",
       "0  StrayYoshi             NaN         asc-hierophant        Hierophant   \n",
       "1   [deleted]             NaN                   none              none   \n",
       "2        vgeh             NaN                   none              none   \n",
       "3   Litbus_TJ             NaN                   none              none   \n",
       "4   [deleted]             NaN                   none              none   \n",
       "\n",
       "                                                body  can_gild  \\\n",
       "0  Have to kill him in 1 portal is the way I do i...      True   \n",
       "1                                          [deleted]      True   \n",
       "2  3 season- Mostly thrunite ti3. \\n\\n\\n3 season ...      True   \n",
       "3                               Beautiful, isn't it?      True   \n",
       "4                                          [deleted]      True   \n",
       "\n",
       "   controversiality distinguished  gilded       id  is_submitter    link_id  \\\n",
       "0                 0          none       0  drjocb3         False  t3_7l0zv1   \n",
       "1                 0          none       0  drjocb4         False  t3_7l4xdt   \n",
       "2                 0          none       0  drjocb5         False  t3_7klrjl   \n",
       "3                 0          none       0  drjocb6         False  t3_7l3jhf   \n",
       "4                 0          none       0  drjocb7         False  t3_7l514t   \n",
       "\n",
       "    parent_id                                          permalink  \\\n",
       "0   t3_7l0zv1  /r/pathofexile/comments/7l0zv1/ggg_please_fix_...   \n",
       "1   t3_7l4xdt  /r/The_Donald/comments/7l4xdt/wells_fargo_rais...   \n",
       "2  t1_drjkcuz  /r/Ultralight/comments/7klrjl/rultralight_disc...   \n",
       "3  t1_drjnyvi   /r/hoi4/comments/7l3jhf/isp_face_reveal/drjocb6/   \n",
       "4   t3_7l514t  /r/baseball/comments/7l514t/your_opinion_on_th...   \n",
       "\n",
       "   retrieved_on  score  stickied    subreddit subreddit_id subreddit_type  \n",
       "0    1514928812      1     False  pathofexile     t5_2sf6m         public  \n",
       "1    1514928812      1     False   The_Donald     t5_38unr         public  \n",
       "2    1514928812      3     False   Ultralight     t5_2s7p2         public  \n",
       "3    1514928812     15     False         hoi4     t5_2zvvb         public  \n",
       "4    1514928812      1     False     baseball     t5_2qm7u         public  "
      ]
     },
     "execution_count": 24,
     "metadata": {},
     "output_type": "execute_result"
    }
   ],
   "source": [
    "redditframe.head()"
   ]
  },
  {
   "cell_type": "code",
   "execution_count": 25,
   "metadata": {},
   "outputs": [
    {
     "data": {
      "text/plain": [
       "1514932006    200\n",
       "1514936773    200\n",
       "1514953963    200\n",
       "1514930371    200\n",
       "1514939322    200\n",
       "1514935247    200\n",
       "1514936717    200\n",
       "1514937338    200\n",
       "1514928973    200\n",
       "1514937749    200\n",
       "1514934945    200\n",
       "1514932716    200\n",
       "1514952615    200\n",
       "1514942486    200\n",
       "1514938322    200\n",
       "1514940989    200\n",
       "1514940749    200\n",
       "1514939485    200\n",
       "1514936918    200\n",
       "1514954035    200\n",
       "1514944564    200\n",
       "1514940229    200\n",
       "1514935598    200\n",
       "1514936348    200\n",
       "1514953890    200\n",
       "1514952526    200\n",
       "1514940939    200\n",
       "1514932072    200\n",
       "1514942212    200\n",
       "1514952887    200\n",
       "             ... \n",
       "1514949299      2\n",
       "1514944480      2\n",
       "1514956842      2\n",
       "1514959227      2\n",
       "1514946986      2\n",
       "1514944257      2\n",
       "1514963159      2\n",
       "1514954897      2\n",
       "1514951203      2\n",
       "1514937828      2\n",
       "1514931018      2\n",
       "1514932054      1\n",
       "1514946260      1\n",
       "1514931653      1\n",
       "1514964725      1\n",
       "1514956018      1\n",
       "1514928920      1\n",
       "1514959451      1\n",
       "1514955759      1\n",
       "1514960212      1\n",
       "1514949206      1\n",
       "1514956921      1\n",
       "1514958659      1\n",
       "1514950097      1\n",
       "1514959365      1\n",
       "1514950037      1\n",
       "1514940996      1\n",
       "1514930918      1\n",
       "1514962612      1\n",
       "1514960265      1\n",
       "Name: retrieved_on, Length: 29769, dtype: int64"
      ]
     },
     "execution_count": 25,
     "metadata": {},
     "output_type": "execute_result"
    }
   ],
   "source": [
    "redditframe.retrieved_on.value_counts()"
   ]
  },
  {
   "cell_type": "markdown",
   "metadata": {},
   "source": [
    "<p>Another column that I don't really have that much use for. Drop and Move On!</p>"
   ]
  },
  {
   "cell_type": "code",
   "execution_count": 26,
   "metadata": {},
   "outputs": [],
   "source": [
    "redditframe.drop([\"retrieved_on\"], axis=1, inplace=True)"
   ]
  },
  {
   "cell_type": "code",
   "execution_count": 27,
   "metadata": {},
   "outputs": [
    {
     "data": {
      "text/plain": [
       "public        2907025\n",
       "restricted      20640\n",
       "user             1550\n",
       "Name: subreddit_type, dtype: int64"
      ]
     },
     "execution_count": 27,
     "metadata": {},
     "output_type": "execute_result"
    }
   ],
   "source": [
    "redditframe.subreddit_type.value_counts()"
   ]
  },
  {
   "cell_type": "markdown",
   "metadata": {},
   "source": [
    "<p>I might use this for a small linguistic analysis on upvote count"
   ]
  }
 ],
 "metadata": {
  "kernelspec": {
   "display_name": "Python 3",
   "language": "python",
   "name": "python3"
  },
  "language_info": {
   "codemirror_mode": {
    "name": "ipython",
    "version": 3
   },
   "file_extension": ".py",
   "mimetype": "text/x-python",
   "name": "python",
   "nbconvert_exporter": "python",
   "pygments_lexer": "ipython3",
   "version": "3.7.1"
  }
 },
 "nbformat": 4,
 "nbformat_minor": 2
}
