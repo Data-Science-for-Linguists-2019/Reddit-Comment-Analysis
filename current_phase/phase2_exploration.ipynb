{
 "cells": [
  {
   "cell_type": "markdown",
   "metadata": {},
   "source": [
    "<h1>Progress Report 2 Notebook</h1>"
   ]
  },
  {
   "cell_type": "code",
   "execution_count": 1,
   "metadata": {},
   "outputs": [],
   "source": [
    "import numpy as np\n",
    "import pandas as pd\n",
    "import seaborn as sns\n",
    "import matplotlib.pyplot as plt\n",
    "import json\n",
    "import sklearn\n",
    "import lzma\n",
    "from pandas.io.json import json_normalize\n",
    "\n",
    "from sklearn.model_selection import train_test_split\n",
    "from sklearn.naive_bayes import MultinomialNB\n",
    "from sklearn.feature_extraction.text import TfidfVectorizer\n",
    "from sklearn.svm import SVC"
   ]
  },
  {
   "cell_type": "markdown",
   "metadata": {},
   "source": [
    "<a id=\"tablecontent\"></a>\n",
    "<h2>Table of Contents</h2>\n",
    "<ol>\n",
    "    <li><a href=\"#dataacq\">Data Acquisition</a></li>\n",
    "    <li><a href=\"#dataclean\">Data Cleanup</a></li>\n",
    "    <li><a href=\"#saving\">Saving the Data</a></li>\n",
    "    <li><a href=\"#stats\">Basic Statistics</a></li>\n",
    "    <li><a href=\"#machinelearn\">Machine Learning</a></li>\n",
    "    <li><a href=\"#conc\">Conclusion and Publishing</a></li>\n",
    "</ol>"
   ]
  },
  {
   "cell_type": "markdown",
   "metadata": {},
   "source": [
    "<a id=\"dataacq\"></a>\n",
    "<h2>Data Acquisition [<a href=\"#tablecontent\">TOC</a>]</h2>\n",
    "<p>First order of buisiness. I had to stick with the really slow procedure since I changed the corpus size close to the deadline. However, this smaller corpus means I can load all of it into memory at once (We're down to only about 3GB uncompressed). First, we acquire the data...</p>"
   ]
  },
  {
   "cell_type": "code",
   "execution_count": 2,
   "metadata": {},
   "outputs": [],
   "source": [
    "file = open(\"../data/RC_2017-12-21\")"
   ]
  },
  {
   "cell_type": "code",
   "execution_count": 3,
   "metadata": {},
   "outputs": [],
   "source": [
    "redditframe = pd.read_json(file, lines=True)"
   ]
  },
  {
   "cell_type": "code",
   "execution_count": 4,
   "metadata": {},
   "outputs": [],
   "source": [
    "file.close()"
   ]
  },
  {
   "cell_type": "code",
   "execution_count": 5,
   "metadata": {},
   "outputs": [
    {
     "data": {
      "text/html": [
       "<div>\n",
       "<style scoped>\n",
       "    .dataframe tbody tr th:only-of-type {\n",
       "        vertical-align: middle;\n",
       "    }\n",
       "\n",
       "    .dataframe tbody tr th {\n",
       "        vertical-align: top;\n",
       "    }\n",
       "\n",
       "    .dataframe thead th {\n",
       "        text-align: right;\n",
       "    }\n",
       "</style>\n",
       "<table border=\"1\" class=\"dataframe\">\n",
       "  <thead>\n",
       "    <tr style=\"text-align: right;\">\n",
       "      <th></th>\n",
       "      <th>author</th>\n",
       "      <th>author_cakeday</th>\n",
       "      <th>author_flair_css_class</th>\n",
       "      <th>author_flair_text</th>\n",
       "      <th>body</th>\n",
       "      <th>can_gild</th>\n",
       "      <th>controversiality</th>\n",
       "      <th>created_utc</th>\n",
       "      <th>distinguished</th>\n",
       "      <th>edited</th>\n",
       "      <th>...</th>\n",
       "      <th>is_submitter</th>\n",
       "      <th>link_id</th>\n",
       "      <th>parent_id</th>\n",
       "      <th>permalink</th>\n",
       "      <th>retrieved_on</th>\n",
       "      <th>score</th>\n",
       "      <th>stickied</th>\n",
       "      <th>subreddit</th>\n",
       "      <th>subreddit_id</th>\n",
       "      <th>subreddit_type</th>\n",
       "    </tr>\n",
       "  </thead>\n",
       "  <tbody>\n",
       "    <tr>\n",
       "      <th>0</th>\n",
       "      <td>StrayYoshi</td>\n",
       "      <td>NaN</td>\n",
       "      <td>asc-hierophant</td>\n",
       "      <td>Hierophant</td>\n",
       "      <td>Have to kill him in 1 portal is the way I do i...</td>\n",
       "      <td>True</td>\n",
       "      <td>0</td>\n",
       "      <td>1513814400</td>\n",
       "      <td>None</td>\n",
       "      <td>0</td>\n",
       "      <td>...</td>\n",
       "      <td>False</td>\n",
       "      <td>t3_7l0zv1</td>\n",
       "      <td>t3_7l0zv1</td>\n",
       "      <td>/r/pathofexile/comments/7l0zv1/ggg_please_fix_...</td>\n",
       "      <td>1514928812</td>\n",
       "      <td>1</td>\n",
       "      <td>False</td>\n",
       "      <td>pathofexile</td>\n",
       "      <td>t5_2sf6m</td>\n",
       "      <td>public</td>\n",
       "    </tr>\n",
       "    <tr>\n",
       "      <th>1</th>\n",
       "      <td>[deleted]</td>\n",
       "      <td>NaN</td>\n",
       "      <td>None</td>\n",
       "      <td>None</td>\n",
       "      <td>[deleted]</td>\n",
       "      <td>True</td>\n",
       "      <td>0</td>\n",
       "      <td>1513814400</td>\n",
       "      <td>None</td>\n",
       "      <td>0</td>\n",
       "      <td>...</td>\n",
       "      <td>False</td>\n",
       "      <td>t3_7l4xdt</td>\n",
       "      <td>t3_7l4xdt</td>\n",
       "      <td>/r/The_Donald/comments/7l4xdt/wells_fargo_rais...</td>\n",
       "      <td>1514928812</td>\n",
       "      <td>1</td>\n",
       "      <td>False</td>\n",
       "      <td>The_Donald</td>\n",
       "      <td>t5_38unr</td>\n",
       "      <td>public</td>\n",
       "    </tr>\n",
       "    <tr>\n",
       "      <th>2</th>\n",
       "      <td>vgeh</td>\n",
       "      <td>NaN</td>\n",
       "      <td>None</td>\n",
       "      <td>None</td>\n",
       "      <td>3 season- Mostly thrunite ti3. \\n\\n\\n3 season ...</td>\n",
       "      <td>True</td>\n",
       "      <td>0</td>\n",
       "      <td>1513814400</td>\n",
       "      <td>None</td>\n",
       "      <td>0</td>\n",
       "      <td>...</td>\n",
       "      <td>False</td>\n",
       "      <td>t3_7klrjl</td>\n",
       "      <td>t1_drjkcuz</td>\n",
       "      <td>/r/Ultralight/comments/7klrjl/rultralight_disc...</td>\n",
       "      <td>1514928812</td>\n",
       "      <td>3</td>\n",
       "      <td>False</td>\n",
       "      <td>Ultralight</td>\n",
       "      <td>t5_2s7p2</td>\n",
       "      <td>public</td>\n",
       "    </tr>\n",
       "    <tr>\n",
       "      <th>3</th>\n",
       "      <td>Litbus_TJ</td>\n",
       "      <td>NaN</td>\n",
       "      <td>None</td>\n",
       "      <td>None</td>\n",
       "      <td>Beautiful, isn't it?</td>\n",
       "      <td>True</td>\n",
       "      <td>0</td>\n",
       "      <td>1513814400</td>\n",
       "      <td>None</td>\n",
       "      <td>0</td>\n",
       "      <td>...</td>\n",
       "      <td>False</td>\n",
       "      <td>t3_7l3jhf</td>\n",
       "      <td>t1_drjnyvi</td>\n",
       "      <td>/r/hoi4/comments/7l3jhf/isp_face_reveal/drjocb6/</td>\n",
       "      <td>1514928812</td>\n",
       "      <td>15</td>\n",
       "      <td>False</td>\n",
       "      <td>hoi4</td>\n",
       "      <td>t5_2zvvb</td>\n",
       "      <td>public</td>\n",
       "    </tr>\n",
       "    <tr>\n",
       "      <th>4</th>\n",
       "      <td>[deleted]</td>\n",
       "      <td>NaN</td>\n",
       "      <td>None</td>\n",
       "      <td>None</td>\n",
       "      <td>[deleted]</td>\n",
       "      <td>True</td>\n",
       "      <td>0</td>\n",
       "      <td>1513814400</td>\n",
       "      <td>None</td>\n",
       "      <td>0</td>\n",
       "      <td>...</td>\n",
       "      <td>False</td>\n",
       "      <td>t3_7l514t</td>\n",
       "      <td>t3_7l514t</td>\n",
       "      <td>/r/baseball/comments/7l514t/your_opinion_on_th...</td>\n",
       "      <td>1514928812</td>\n",
       "      <td>1</td>\n",
       "      <td>False</td>\n",
       "      <td>baseball</td>\n",
       "      <td>t5_2qm7u</td>\n",
       "      <td>public</td>\n",
       "    </tr>\n",
       "  </tbody>\n",
       "</table>\n",
       "<p>5 rows × 22 columns</p>\n",
       "</div>"
      ],
      "text/plain": [
       "       author  author_cakeday author_flair_css_class author_flair_text  \\\n",
       "0  StrayYoshi             NaN         asc-hierophant        Hierophant   \n",
       "1   [deleted]             NaN                   None              None   \n",
       "2        vgeh             NaN                   None              None   \n",
       "3   Litbus_TJ             NaN                   None              None   \n",
       "4   [deleted]             NaN                   None              None   \n",
       "\n",
       "                                                body  can_gild  \\\n",
       "0  Have to kill him in 1 portal is the way I do i...      True   \n",
       "1                                          [deleted]      True   \n",
       "2  3 season- Mostly thrunite ti3. \\n\\n\\n3 season ...      True   \n",
       "3                               Beautiful, isn't it?      True   \n",
       "4                                          [deleted]      True   \n",
       "\n",
       "   controversiality  created_utc distinguished  edited      ...        \\\n",
       "0                 0   1513814400          None       0      ...         \n",
       "1                 0   1513814400          None       0      ...         \n",
       "2                 0   1513814400          None       0      ...         \n",
       "3                 0   1513814400          None       0      ...         \n",
       "4                 0   1513814400          None       0      ...         \n",
       "\n",
       "   is_submitter    link_id   parent_id  \\\n",
       "0         False  t3_7l0zv1   t3_7l0zv1   \n",
       "1         False  t3_7l4xdt   t3_7l4xdt   \n",
       "2         False  t3_7klrjl  t1_drjkcuz   \n",
       "3         False  t3_7l3jhf  t1_drjnyvi   \n",
       "4         False  t3_7l514t   t3_7l514t   \n",
       "\n",
       "                                           permalink retrieved_on score  \\\n",
       "0  /r/pathofexile/comments/7l0zv1/ggg_please_fix_...   1514928812     1   \n",
       "1  /r/The_Donald/comments/7l4xdt/wells_fargo_rais...   1514928812     1   \n",
       "2  /r/Ultralight/comments/7klrjl/rultralight_disc...   1514928812     3   \n",
       "3   /r/hoi4/comments/7l3jhf/isp_face_reveal/drjocb6/   1514928812    15   \n",
       "4  /r/baseball/comments/7l514t/your_opinion_on_th...   1514928812     1   \n",
       "\n",
       "   stickied    subreddit  subreddit_id subreddit_type  \n",
       "0     False  pathofexile      t5_2sf6m         public  \n",
       "1     False   The_Donald      t5_38unr         public  \n",
       "2     False   Ultralight      t5_2s7p2         public  \n",
       "3     False         hoi4      t5_2zvvb         public  \n",
       "4     False     baseball      t5_2qm7u         public  \n",
       "\n",
       "[5 rows x 22 columns]"
      ]
     },
     "execution_count": 5,
     "metadata": {},
     "output_type": "execute_result"
    }
   ],
   "source": [
    "redditframe.head()"
   ]
  },
  {
   "cell_type": "code",
   "execution_count": 6,
   "metadata": {},
   "outputs": [
    {
     "data": {
      "text/plain": [
       "2929215"
      ]
     },
     "execution_count": 6,
     "metadata": {},
     "output_type": "execute_result"
    }
   ],
   "source": [
    "len(redditframe)"
   ]
  },
  {
   "cell_type": "markdown",
   "metadata": {},
   "source": [
    "<p>Yay! We have the data! And I don't need to save it in it's raw form since loading it doesn't take that long! Looking at the length of the dataframe, we have almost 3 million comments to work with. I probably won't use all of them due to using only some subreddits. Moving on, data Cleanup!</p>"
   ]
  },
  {
   "cell_type": "markdown",
   "metadata": {},
   "source": [
    "<a id=\"dataclean\"></a>\n",
    "<h2>Data Cleanup! [<a href=\"#tablecontent\">TOC</a>]</h2>\n",
    "<p>So, like in the last progress report, I will need to cleanup the data presented in this dataframe. I imagine most of this will be really similar. However, I will only drop columns that seem useless. Any remote interest I will hold onto. Buckle up, I imagine this section will be large like the last one. First, I will start with the columns that seemed to hold no value from the last project phase...</p>"
   ]
  },
  {
   "cell_type": "code",
   "execution_count": 7,
   "metadata": {},
   "outputs": [
    {
     "data": {
      "text/plain": [
       "Index(['author', 'author_cakeday', 'author_flair_css_class',\n",
       "       'author_flair_text', 'body', 'can_gild', 'controversiality',\n",
       "       'created_utc', 'distinguished', 'edited', 'gilded', 'id',\n",
       "       'is_submitter', 'link_id', 'parent_id', 'permalink', 'retrieved_on',\n",
       "       'score', 'stickied', 'subreddit', 'subreddit_id', 'subreddit_type'],\n",
       "      dtype='object')"
      ]
     },
     "execution_count": 7,
     "metadata": {},
     "output_type": "execute_result"
    }
   ],
   "source": [
    "redditframe.columns"
   ]
  },
  {
   "cell_type": "code",
   "execution_count": 8,
   "metadata": {},
   "outputs": [
    {
     "data": {
      "text/plain": [
       "                                                            99919\n",
       "noflair                                                      8876\n",
       "default                                                      7468\n",
       "noob                                                         4767\n",
       "flair-default                                                4730\n",
       "MURICA                                                       4415\n",
       "MAL                                                          3779\n",
       "new                                                          3557\n",
       "training                                                     3413\n",
       "35Gold WW                                                    3396\n",
       "blue                                                         3263\n",
       "xbox                                                         2869\n",
       "mod                                                          2832\n",
       "Lakers1                                                      2489\n",
       "34Gold WW                                                    2445\n",
       "patriots                                                     2356\n",
       "male                                                         2287\n",
       "green                                                        2137\n",
       "psn                                                          2133\n",
       "purple                                                       2031\n",
       "treadonme                                                    1990\n",
       "black                                                        1984\n",
       "female                                                       1799\n",
       "kekistan                                                     1726\n",
       "red                                                          1665\n",
       "text-pcmr color-pcmr                                         1628\n",
       "bot                                                          1494\n",
       "text-pcmr color-pcmr icon-steam                              1450\n",
       "New                                                          1417\n",
       "purpleflair                                                  1407\n",
       "                                                            ...  \n",
       "matn                                                            1\n",
       "skylineflair                                                    1\n",
       "potter                                                          1\n",
       "parachute                                                       1\n",
       "robinfemalesm4sh                                                1\n",
       "byu-sheet1-row07-col02-ohiostate-2sht1-2rw04-2cl10              1\n",
       "flairIZJS                                                       1\n",
       "2-603                                                           1\n",
       "ru-tom                                                          1\n",
       "Grodd                                                           1\n",
       "Reina                                                           1\n",
       "H3Monarch                                                       1\n",
       "2-monte-c                                                       1\n",
       "healthy-aging                                                   1\n",
       "ordinary                                                        1\n",
       "39JabariPrice                                                   1\n",
       "Othr-SoS                                                        1\n",
       "adultkono                                                       1\n",
       "forum-avi-minebatclose                                          1\n",
       "doYouEver                                                       1\n",
       "87-sheet1-col06-row10                                           1\n",
       "oklahomastate-sheet1-row03-col06-big12-2shtl-2rw06-2cl04        1\n",
       "Brettonia                                                       1\n",
       "fury                                                            1\n",
       "new75                                                           1\n",
       "apollo ONEDIA                                                   1\n",
       "AVENGEME                                                        1\n",
       "dcfct                                                           1\n",
       "dragonite                                                       1\n",
       "lostdogs                                                        1\n",
       "Name: author_flair_css_class, Length: 45239, dtype: int64"
      ]
     },
     "execution_count": 8,
     "metadata": {},
     "output_type": "execute_result"
    }
   ],
   "source": [
    "redditframe.author_flair_css_class.value_counts()"
   ]
  },
  {
   "cell_type": "markdown",
   "metadata": {},
   "source": [
    "<p>Huh... This column actually has interesting values now. I guess AskReddit doesn't use flairs that much (I do pop on the subreddit from time to time, but not enough to make that deduction). I actually want to keep this one for experimentation now that I know what it looks like. Will have to fill in the NaN's though. I will use \"none\" to indicate NaN, with the lowercase n to indicate it's not the None data type.</p>"
   ]
  },
  {
   "cell_type": "code",
   "execution_count": 9,
   "metadata": {},
   "outputs": [],
   "source": [
    "redditframe.author_flair_css_class.fillna(\"none\", inplace=True)"
   ]
  },
  {
   "cell_type": "code",
   "execution_count": 10,
   "metadata": {},
   "outputs": [
    {
     "data": {
      "text/plain": [
       "0    asc-hierophant\n",
       "1              none\n",
       "2              none\n",
       "3              none\n",
       "4              none\n",
       "Name: author_flair_css_class, dtype: object"
      ]
     },
     "execution_count": 10,
     "metadata": {},
     "output_type": "execute_result"
    }
   ],
   "source": [
    "redditframe.author_flair_css_class.head()"
   ]
  },
  {
   "cell_type": "markdown",
   "metadata": {},
   "source": [
    "<p>Now that I think about it, The above is just css class. The next one is the actual text of the flair. This might be more meaningful...</p>"
   ]
  },
  {
   "cell_type": "code",
   "execution_count": 11,
   "metadata": {},
   "outputs": [
    {
     "data": {
      "text/plain": [
       "                                                                   155963\n",
       "Text                                                                 4754\n",
       "New User                                                             4553\n",
       "Lakers                                                               3181\n",
       "16                                                                   2646\n",
       "Patriots                                                             2396\n",
       "USA                                                                  1896\n",
       "MAGA                                                                 1836\n",
       "Rockets                                                              1778\n",
       "1776                                                                 1739\n",
       "redditor for 3 months                                                1737\n",
       "KEK                                                                  1707\n",
       "Raptors                                                              1579\n",
       "                                                                     1516\n",
       "The Amazing Bot                                                      1458\n",
       "14                                                                   1365\n",
       "Eagles                                                               1341\n",
       "Warriors                                                             1261\n",
       "California                                                           1229\n",
       "Vikings                                                              1127\n",
       "♀                                                                    1125\n",
       "Celtics                                                              1116\n",
       "&gt; 4 months account age. &lt; 700 comment karma.                   1114\n",
       "DTOM                                                                 1107\n",
       "TOR - NHL                                                            1102\n",
       "Thunder                                                              1083\n",
       "18                                                                   1068\n",
       "Seahawks                                                             1046\n",
       "TX                                                                   1036\n",
       "49ers                                                                1014\n",
       "                                                                    ...  \n",
       "GhostDiamond13                                                          1\n",
       "Student [O]                                                             1\n",
       "❄? ✔!                                                                   1\n",
       "busy butt flopping                                                      1\n",
       "East                                                                    1\n",
       "Australeon                                                              1\n",
       "TP / LO ON ME                                                           1\n",
       "How did you do that?                                                    1\n",
       "💕 omg math 💕                                                            1\n",
       "if RSU had an effect on brushes i would be so happy                     1\n",
       "Clown in Chief                                                          1\n",
       "HOUSE JONSA: OURS IS THE ENDGAME                                        1\n",
       "1000LIGIR                                                               1\n",
       "Battler: Umineko | vndb.org/u111950                                     1\n",
       "DM - D&amp;D 5e                                                         1\n",
       "Azrael-II                                                               1\n",
       "ponderoustunic7                                                         1\n",
       "From Ireland to Italy to Idk where                                      1\n",
       "career high 52 — Dallas Fuel                                            1\n",
       "Mod Flaym                                                               1\n",
       "Yasuo is cancer.                                                        1\n",
       "Transfer Noob                                                           1\n",
       "/id/electricboogers                                                     1\n",
       "inglorious bastions                                                     1\n",
       "Iowa Hawkeyes / Augustana (SD) Vikings                                  1\n",
       "life sci but no life                                                    1\n",
       "'13 NC Club                                                             1\n",
       "Meepo                                                                   1\n",
       "Kaashater van beroep                                                    1\n",
       "Career, travel, animals, sanity...are all better than children.         1\n",
       "Name: author_flair_text, Length: 107969, dtype: int64"
      ]
     },
     "execution_count": 11,
     "metadata": {},
     "output_type": "execute_result"
    }
   ],
   "source": [
    "redditframe.author_flair_text.value_counts()"
   ]
  },
  {
   "cell_type": "code",
   "execution_count": 12,
   "metadata": {},
   "outputs": [],
   "source": [
    "redditframe.author_flair_text.fillna(\"none\", inplace=True)"
   ]
  },
  {
   "cell_type": "markdown",
   "metadata": {},
   "source": [
    "<p>This... might not be as useful.... I'll hold onto it if I can make sense of it later. I don't see moderator here though, I might have to dig for that. The only reason I wanted to keep these flairs was to see if tracking moderator posts would impact things at all or not...</p>\n",
    "<p>Moving on... Let's see if Controversiality is any different</p>"
   ]
  },
  {
   "cell_type": "code",
   "execution_count": 13,
   "metadata": {},
   "outputs": [
    {
     "data": {
      "text/plain": [
       "0    2863897\n",
       "1      65318\n",
       "Name: controversiality, dtype: int64"
      ]
     },
     "execution_count": 13,
     "metadata": {},
     "output_type": "execute_result"
    }
   ],
   "source": [
    "redditframe.controversiality.value_counts()"
   ]
  },
  {
   "cell_type": "markdown",
   "metadata": {},
   "source": [
    "<p>Still Just a boolean value. I'll keep it for now incase one of my chosen subreddits has a high controversiality rate, but if not, I'll just toss it out like the other columns. Onto the next!</p>"
   ]
  },
  {
   "cell_type": "code",
   "execution_count": 14,
   "metadata": {},
   "outputs": [
    {
     "data": {
      "text/plain": [
       "1513828021    125\n",
       "1513828025    113\n",
       "1513828023    113\n",
       "1513828020    111\n",
       "1513836363    102\n",
       "1513836362    100\n",
       "1513828029     95\n",
       "1513828024     94\n",
       "1513836361     94\n",
       "1513828027     93\n",
       "1513828028     91\n",
       "1513828022     88\n",
       "1513828026     86\n",
       "1513828032     85\n",
       "1513891446     83\n",
       "1513865632     82\n",
       "1513865633     82\n",
       "1513865634     82\n",
       "1513892213     81\n",
       "1513836364     79\n",
       "1513875581     79\n",
       "1513828031     78\n",
       "1513863707     77\n",
       "1513865631     76\n",
       "1513863706     74\n",
       "1513893797     73\n",
       "1513828019     72\n",
       "1513866065     72\n",
       "1513881638     72\n",
       "1513828033     71\n",
       "             ... \n",
       "1513854987      5\n",
       "1513847782      5\n",
       "1513836350      5\n",
       "1513850315      5\n",
       "1513836334      4\n",
       "1513846621      4\n",
       "1513838266      4\n",
       "1513834286      3\n",
       "1513838267      3\n",
       "1513836332      3\n",
       "1513836331      2\n",
       "1513827987      2\n",
       "1513855326      2\n",
       "1513846620      2\n",
       "1513827980      2\n",
       "1513854986      2\n",
       "1513836327      1\n",
       "1513836337      1\n",
       "1513855323      1\n",
       "1513855331      1\n",
       "1513827981      1\n",
       "1513855337      1\n",
       "1513827996      1\n",
       "1513855336      1\n",
       "1513836346      1\n",
       "1513855352      1\n",
       "1513827973      1\n",
       "1513836335      1\n",
       "1513827972      1\n",
       "1513855333      1\n",
       "Name: created_utc, Length: 86316, dtype: int64"
      ]
     },
     "execution_count": 14,
     "metadata": {},
     "output_type": "execute_result"
    }
   ],
   "source": [
    "redditframe.created_utc.value_counts()"
   ]
  },
  {
   "cell_type": "markdown",
   "metadata": {},
   "source": [
    "<p>And this is not really all that useful. I understand that this is tracking time in some manner if I'm interpreting, but due to the small time window of the corpus, I don't think time created is important anymore. Time of day upvote/downvote analysis is not the focus of this project anyways.</p>"
   ]
  },
  {
   "cell_type": "code",
   "execution_count": 15,
   "metadata": {},
   "outputs": [],
   "source": [
    "redditframe.drop([\"created_utc\"], axis=1, inplace=True)"
   ]
  },
  {
   "cell_type": "code",
   "execution_count": 16,
   "metadata": {},
   "outputs": [
    {
     "data": {
      "text/html": [
       "<div>\n",
       "<style scoped>\n",
       "    .dataframe tbody tr th:only-of-type {\n",
       "        vertical-align: middle;\n",
       "    }\n",
       "\n",
       "    .dataframe tbody tr th {\n",
       "        vertical-align: top;\n",
       "    }\n",
       "\n",
       "    .dataframe thead th {\n",
       "        text-align: right;\n",
       "    }\n",
       "</style>\n",
       "<table border=\"1\" class=\"dataframe\">\n",
       "  <thead>\n",
       "    <tr style=\"text-align: right;\">\n",
       "      <th></th>\n",
       "      <th>author</th>\n",
       "      <th>author_cakeday</th>\n",
       "      <th>author_flair_css_class</th>\n",
       "      <th>author_flair_text</th>\n",
       "      <th>body</th>\n",
       "      <th>can_gild</th>\n",
       "      <th>controversiality</th>\n",
       "      <th>distinguished</th>\n",
       "      <th>edited</th>\n",
       "      <th>gilded</th>\n",
       "      <th>...</th>\n",
       "      <th>is_submitter</th>\n",
       "      <th>link_id</th>\n",
       "      <th>parent_id</th>\n",
       "      <th>permalink</th>\n",
       "      <th>retrieved_on</th>\n",
       "      <th>score</th>\n",
       "      <th>stickied</th>\n",
       "      <th>subreddit</th>\n",
       "      <th>subreddit_id</th>\n",
       "      <th>subreddit_type</th>\n",
       "    </tr>\n",
       "  </thead>\n",
       "  <tbody>\n",
       "    <tr>\n",
       "      <th>0</th>\n",
       "      <td>StrayYoshi</td>\n",
       "      <td>NaN</td>\n",
       "      <td>asc-hierophant</td>\n",
       "      <td>Hierophant</td>\n",
       "      <td>Have to kill him in 1 portal is the way I do i...</td>\n",
       "      <td>True</td>\n",
       "      <td>0</td>\n",
       "      <td>None</td>\n",
       "      <td>0</td>\n",
       "      <td>0</td>\n",
       "      <td>...</td>\n",
       "      <td>False</td>\n",
       "      <td>t3_7l0zv1</td>\n",
       "      <td>t3_7l0zv1</td>\n",
       "      <td>/r/pathofexile/comments/7l0zv1/ggg_please_fix_...</td>\n",
       "      <td>1514928812</td>\n",
       "      <td>1</td>\n",
       "      <td>False</td>\n",
       "      <td>pathofexile</td>\n",
       "      <td>t5_2sf6m</td>\n",
       "      <td>public</td>\n",
       "    </tr>\n",
       "    <tr>\n",
       "      <th>1</th>\n",
       "      <td>[deleted]</td>\n",
       "      <td>NaN</td>\n",
       "      <td>none</td>\n",
       "      <td>none</td>\n",
       "      <td>[deleted]</td>\n",
       "      <td>True</td>\n",
       "      <td>0</td>\n",
       "      <td>None</td>\n",
       "      <td>0</td>\n",
       "      <td>0</td>\n",
       "      <td>...</td>\n",
       "      <td>False</td>\n",
       "      <td>t3_7l4xdt</td>\n",
       "      <td>t3_7l4xdt</td>\n",
       "      <td>/r/The_Donald/comments/7l4xdt/wells_fargo_rais...</td>\n",
       "      <td>1514928812</td>\n",
       "      <td>1</td>\n",
       "      <td>False</td>\n",
       "      <td>The_Donald</td>\n",
       "      <td>t5_38unr</td>\n",
       "      <td>public</td>\n",
       "    </tr>\n",
       "    <tr>\n",
       "      <th>2</th>\n",
       "      <td>vgeh</td>\n",
       "      <td>NaN</td>\n",
       "      <td>none</td>\n",
       "      <td>none</td>\n",
       "      <td>3 season- Mostly thrunite ti3. \\n\\n\\n3 season ...</td>\n",
       "      <td>True</td>\n",
       "      <td>0</td>\n",
       "      <td>None</td>\n",
       "      <td>0</td>\n",
       "      <td>0</td>\n",
       "      <td>...</td>\n",
       "      <td>False</td>\n",
       "      <td>t3_7klrjl</td>\n",
       "      <td>t1_drjkcuz</td>\n",
       "      <td>/r/Ultralight/comments/7klrjl/rultralight_disc...</td>\n",
       "      <td>1514928812</td>\n",
       "      <td>3</td>\n",
       "      <td>False</td>\n",
       "      <td>Ultralight</td>\n",
       "      <td>t5_2s7p2</td>\n",
       "      <td>public</td>\n",
       "    </tr>\n",
       "    <tr>\n",
       "      <th>3</th>\n",
       "      <td>Litbus_TJ</td>\n",
       "      <td>NaN</td>\n",
       "      <td>none</td>\n",
       "      <td>none</td>\n",
       "      <td>Beautiful, isn't it?</td>\n",
       "      <td>True</td>\n",
       "      <td>0</td>\n",
       "      <td>None</td>\n",
       "      <td>0</td>\n",
       "      <td>0</td>\n",
       "      <td>...</td>\n",
       "      <td>False</td>\n",
       "      <td>t3_7l3jhf</td>\n",
       "      <td>t1_drjnyvi</td>\n",
       "      <td>/r/hoi4/comments/7l3jhf/isp_face_reveal/drjocb6/</td>\n",
       "      <td>1514928812</td>\n",
       "      <td>15</td>\n",
       "      <td>False</td>\n",
       "      <td>hoi4</td>\n",
       "      <td>t5_2zvvb</td>\n",
       "      <td>public</td>\n",
       "    </tr>\n",
       "    <tr>\n",
       "      <th>4</th>\n",
       "      <td>[deleted]</td>\n",
       "      <td>NaN</td>\n",
       "      <td>none</td>\n",
       "      <td>none</td>\n",
       "      <td>[deleted]</td>\n",
       "      <td>True</td>\n",
       "      <td>0</td>\n",
       "      <td>None</td>\n",
       "      <td>0</td>\n",
       "      <td>0</td>\n",
       "      <td>...</td>\n",
       "      <td>False</td>\n",
       "      <td>t3_7l514t</td>\n",
       "      <td>t3_7l514t</td>\n",
       "      <td>/r/baseball/comments/7l514t/your_opinion_on_th...</td>\n",
       "      <td>1514928812</td>\n",
       "      <td>1</td>\n",
       "      <td>False</td>\n",
       "      <td>baseball</td>\n",
       "      <td>t5_2qm7u</td>\n",
       "      <td>public</td>\n",
       "    </tr>\n",
       "  </tbody>\n",
       "</table>\n",
       "<p>5 rows × 21 columns</p>\n",
       "</div>"
      ],
      "text/plain": [
       "       author  author_cakeday author_flair_css_class author_flair_text  \\\n",
       "0  StrayYoshi             NaN         asc-hierophant        Hierophant   \n",
       "1   [deleted]             NaN                   none              none   \n",
       "2        vgeh             NaN                   none              none   \n",
       "3   Litbus_TJ             NaN                   none              none   \n",
       "4   [deleted]             NaN                   none              none   \n",
       "\n",
       "                                                body  can_gild  \\\n",
       "0  Have to kill him in 1 portal is the way I do i...      True   \n",
       "1                                          [deleted]      True   \n",
       "2  3 season- Mostly thrunite ti3. \\n\\n\\n3 season ...      True   \n",
       "3                               Beautiful, isn't it?      True   \n",
       "4                                          [deleted]      True   \n",
       "\n",
       "   controversiality distinguished  edited  gilded      ...       is_submitter  \\\n",
       "0                 0          None       0       0      ...              False   \n",
       "1                 0          None       0       0      ...              False   \n",
       "2                 0          None       0       0      ...              False   \n",
       "3                 0          None       0       0      ...              False   \n",
       "4                 0          None       0       0      ...              False   \n",
       "\n",
       "     link_id   parent_id                                          permalink  \\\n",
       "0  t3_7l0zv1   t3_7l0zv1  /r/pathofexile/comments/7l0zv1/ggg_please_fix_...   \n",
       "1  t3_7l4xdt   t3_7l4xdt  /r/The_Donald/comments/7l4xdt/wells_fargo_rais...   \n",
       "2  t3_7klrjl  t1_drjkcuz  /r/Ultralight/comments/7klrjl/rultralight_disc...   \n",
       "3  t3_7l3jhf  t1_drjnyvi   /r/hoi4/comments/7l3jhf/isp_face_reveal/drjocb6/   \n",
       "4  t3_7l514t   t3_7l514t  /r/baseball/comments/7l514t/your_opinion_on_th...   \n",
       "\n",
       "  retrieved_on  score  stickied    subreddit subreddit_id subreddit_type  \n",
       "0   1514928812      1     False  pathofexile     t5_2sf6m         public  \n",
       "1   1514928812      1     False   The_Donald     t5_38unr         public  \n",
       "2   1514928812      3     False   Ultralight     t5_2s7p2         public  \n",
       "3   1514928812     15     False         hoi4     t5_2zvvb         public  \n",
       "4   1514928812      1     False     baseball     t5_2qm7u         public  \n",
       "\n",
       "[5 rows x 21 columns]"
      ]
     },
     "execution_count": 16,
     "metadata": {},
     "output_type": "execute_result"
    }
   ],
   "source": [
    "redditframe.head()"
   ]
  },
  {
   "cell_type": "markdown",
   "metadata": {},
   "source": [
    "<p>Now we shall look at edited...</p>"
   ]
  },
  {
   "cell_type": "code",
   "execution_count": 17,
   "metadata": {},
   "outputs": [
    {
     "data": {
      "text/plain": [
       "0             2842107\n",
       "1514267147          8\n",
       "1513869367          7\n",
       "1513899613          7\n",
       "1513894653          7\n",
       "1513880394          7\n",
       "1513878120          7\n",
       "1513892592          7\n",
       "1513891233          7\n",
       "1513884135          7\n",
       "1513882149          6\n",
       "1513884745          6\n",
       "1513873448          6\n",
       "1513893396          6\n",
       "1513893572          6\n",
       "1513880075          6\n",
       "1513823491          6\n",
       "1513878356          6\n",
       "1513873099          6\n",
       "1513885638          6\n",
       "1513887392          6\n",
       "1513891120          6\n",
       "1513897057          6\n",
       "1513875720          6\n",
       "1513882105          6\n",
       "1513899607          6\n",
       "1513892355          6\n",
       "1513877010          6\n",
       "1513890951          6\n",
       "1513835839          6\n",
       "               ...   \n",
       "1513837474          1\n",
       "1513833376          1\n",
       "1514001266          1\n",
       "1513894734          1\n",
       "1513892685          1\n",
       "1513890636          1\n",
       "1513886539          1\n",
       "1513890637          1\n",
       "1513966432          1\n",
       "1514003314          1\n",
       "1513896781          1\n",
       "1513882442          1\n",
       "1513888585          1\n",
       "1513886536          1\n",
       "1513911108          1\n",
       "1513900867          1\n",
       "1513898818          1\n",
       "1514905018          1\n",
       "1514542091          1\n",
       "1513857981          1\n",
       "1513860028          1\n",
       "1513853883          1\n",
       "1513849785          1\n",
       "1513874357          1\n",
       "1513876404          1\n",
       "1513870259          1\n",
       "1513829295          1\n",
       "1513827244          1\n",
       "1513841573          1\n",
       "1514652417          1\n",
       "Name: edited, Length: 60448, dtype: int64"
      ]
     },
     "execution_count": 17,
     "metadata": {},
     "output_type": "execute_result"
    }
   ],
   "source": [
    "redditframe.edited.value_counts()"
   ]
  },
  {
   "cell_type": "markdown",
   "metadata": {},
   "source": [
    "<p>This doesn't seem useful at all, and I had no use for it prior to investigating this. Dropping this column...</p>"
   ]
  },
  {
   "cell_type": "code",
   "execution_count": 18,
   "metadata": {},
   "outputs": [],
   "source": [
    "redditframe.drop([\"edited\"], axis=1, inplace=True)"
   ]
  },
  {
   "cell_type": "markdown",
   "metadata": {},
   "source": [
    "<p>Next, I shall consult the distinguished column.</p>"
   ]
  },
  {
   "cell_type": "code",
   "execution_count": 19,
   "metadata": {},
   "outputs": [
    {
     "data": {
      "text/plain": [
       "moderator    38249\n",
       "admin           23\n",
       "Name: distinguished, dtype: int64"
      ]
     },
     "execution_count": 19,
     "metadata": {},
     "output_type": "execute_result"
    }
   ],
   "source": [
    "redditframe.distinguished.value_counts()"
   ]
  },
  {
   "cell_type": "markdown",
   "metadata": {},
   "source": [
    "<p>Hmmmm, this indicates mods and admins a lot better than the flairs, but this is the only thing it tracks. I'll keep it nonetheless. Fillna, then move onto the next column!</p>"
   ]
  },
  {
   "cell_type": "code",
   "execution_count": 20,
   "metadata": {},
   "outputs": [],
   "source": [
    "redditframe.distinguished.fillna(\"none\", inplace=True)"
   ]
  },
  {
   "cell_type": "code",
   "execution_count": 21,
   "metadata": {},
   "outputs": [
    {
     "data": {
      "text/html": [
       "<div>\n",
       "<style scoped>\n",
       "    .dataframe tbody tr th:only-of-type {\n",
       "        vertical-align: middle;\n",
       "    }\n",
       "\n",
       "    .dataframe tbody tr th {\n",
       "        vertical-align: top;\n",
       "    }\n",
       "\n",
       "    .dataframe thead th {\n",
       "        text-align: right;\n",
       "    }\n",
       "</style>\n",
       "<table border=\"1\" class=\"dataframe\">\n",
       "  <thead>\n",
       "    <tr style=\"text-align: right;\">\n",
       "      <th></th>\n",
       "      <th>author</th>\n",
       "      <th>author_cakeday</th>\n",
       "      <th>author_flair_css_class</th>\n",
       "      <th>author_flair_text</th>\n",
       "      <th>body</th>\n",
       "      <th>can_gild</th>\n",
       "      <th>controversiality</th>\n",
       "      <th>distinguished</th>\n",
       "      <th>gilded</th>\n",
       "      <th>id</th>\n",
       "      <th>is_submitter</th>\n",
       "      <th>link_id</th>\n",
       "      <th>parent_id</th>\n",
       "      <th>permalink</th>\n",
       "      <th>retrieved_on</th>\n",
       "      <th>score</th>\n",
       "      <th>stickied</th>\n",
       "      <th>subreddit</th>\n",
       "      <th>subreddit_id</th>\n",
       "      <th>subreddit_type</th>\n",
       "    </tr>\n",
       "  </thead>\n",
       "  <tbody>\n",
       "    <tr>\n",
       "      <th>0</th>\n",
       "      <td>StrayYoshi</td>\n",
       "      <td>NaN</td>\n",
       "      <td>asc-hierophant</td>\n",
       "      <td>Hierophant</td>\n",
       "      <td>Have to kill him in 1 portal is the way I do i...</td>\n",
       "      <td>True</td>\n",
       "      <td>0</td>\n",
       "      <td>none</td>\n",
       "      <td>0</td>\n",
       "      <td>drjocb3</td>\n",
       "      <td>False</td>\n",
       "      <td>t3_7l0zv1</td>\n",
       "      <td>t3_7l0zv1</td>\n",
       "      <td>/r/pathofexile/comments/7l0zv1/ggg_please_fix_...</td>\n",
       "      <td>1514928812</td>\n",
       "      <td>1</td>\n",
       "      <td>False</td>\n",
       "      <td>pathofexile</td>\n",
       "      <td>t5_2sf6m</td>\n",
       "      <td>public</td>\n",
       "    </tr>\n",
       "    <tr>\n",
       "      <th>1</th>\n",
       "      <td>[deleted]</td>\n",
       "      <td>NaN</td>\n",
       "      <td>none</td>\n",
       "      <td>none</td>\n",
       "      <td>[deleted]</td>\n",
       "      <td>True</td>\n",
       "      <td>0</td>\n",
       "      <td>none</td>\n",
       "      <td>0</td>\n",
       "      <td>drjocb4</td>\n",
       "      <td>False</td>\n",
       "      <td>t3_7l4xdt</td>\n",
       "      <td>t3_7l4xdt</td>\n",
       "      <td>/r/The_Donald/comments/7l4xdt/wells_fargo_rais...</td>\n",
       "      <td>1514928812</td>\n",
       "      <td>1</td>\n",
       "      <td>False</td>\n",
       "      <td>The_Donald</td>\n",
       "      <td>t5_38unr</td>\n",
       "      <td>public</td>\n",
       "    </tr>\n",
       "    <tr>\n",
       "      <th>2</th>\n",
       "      <td>vgeh</td>\n",
       "      <td>NaN</td>\n",
       "      <td>none</td>\n",
       "      <td>none</td>\n",
       "      <td>3 season- Mostly thrunite ti3. \\n\\n\\n3 season ...</td>\n",
       "      <td>True</td>\n",
       "      <td>0</td>\n",
       "      <td>none</td>\n",
       "      <td>0</td>\n",
       "      <td>drjocb5</td>\n",
       "      <td>False</td>\n",
       "      <td>t3_7klrjl</td>\n",
       "      <td>t1_drjkcuz</td>\n",
       "      <td>/r/Ultralight/comments/7klrjl/rultralight_disc...</td>\n",
       "      <td>1514928812</td>\n",
       "      <td>3</td>\n",
       "      <td>False</td>\n",
       "      <td>Ultralight</td>\n",
       "      <td>t5_2s7p2</td>\n",
       "      <td>public</td>\n",
       "    </tr>\n",
       "    <tr>\n",
       "      <th>3</th>\n",
       "      <td>Litbus_TJ</td>\n",
       "      <td>NaN</td>\n",
       "      <td>none</td>\n",
       "      <td>none</td>\n",
       "      <td>Beautiful, isn't it?</td>\n",
       "      <td>True</td>\n",
       "      <td>0</td>\n",
       "      <td>none</td>\n",
       "      <td>0</td>\n",
       "      <td>drjocb6</td>\n",
       "      <td>False</td>\n",
       "      <td>t3_7l3jhf</td>\n",
       "      <td>t1_drjnyvi</td>\n",
       "      <td>/r/hoi4/comments/7l3jhf/isp_face_reveal/drjocb6/</td>\n",
       "      <td>1514928812</td>\n",
       "      <td>15</td>\n",
       "      <td>False</td>\n",
       "      <td>hoi4</td>\n",
       "      <td>t5_2zvvb</td>\n",
       "      <td>public</td>\n",
       "    </tr>\n",
       "    <tr>\n",
       "      <th>4</th>\n",
       "      <td>[deleted]</td>\n",
       "      <td>NaN</td>\n",
       "      <td>none</td>\n",
       "      <td>none</td>\n",
       "      <td>[deleted]</td>\n",
       "      <td>True</td>\n",
       "      <td>0</td>\n",
       "      <td>none</td>\n",
       "      <td>0</td>\n",
       "      <td>drjocb7</td>\n",
       "      <td>False</td>\n",
       "      <td>t3_7l514t</td>\n",
       "      <td>t3_7l514t</td>\n",
       "      <td>/r/baseball/comments/7l514t/your_opinion_on_th...</td>\n",
       "      <td>1514928812</td>\n",
       "      <td>1</td>\n",
       "      <td>False</td>\n",
       "      <td>baseball</td>\n",
       "      <td>t5_2qm7u</td>\n",
       "      <td>public</td>\n",
       "    </tr>\n",
       "  </tbody>\n",
       "</table>\n",
       "</div>"
      ],
      "text/plain": [
       "       author  author_cakeday author_flair_css_class author_flair_text  \\\n",
       "0  StrayYoshi             NaN         asc-hierophant        Hierophant   \n",
       "1   [deleted]             NaN                   none              none   \n",
       "2        vgeh             NaN                   none              none   \n",
       "3   Litbus_TJ             NaN                   none              none   \n",
       "4   [deleted]             NaN                   none              none   \n",
       "\n",
       "                                                body  can_gild  \\\n",
       "0  Have to kill him in 1 portal is the way I do i...      True   \n",
       "1                                          [deleted]      True   \n",
       "2  3 season- Mostly thrunite ti3. \\n\\n\\n3 season ...      True   \n",
       "3                               Beautiful, isn't it?      True   \n",
       "4                                          [deleted]      True   \n",
       "\n",
       "   controversiality distinguished  gilded       id  is_submitter    link_id  \\\n",
       "0                 0          none       0  drjocb3         False  t3_7l0zv1   \n",
       "1                 0          none       0  drjocb4         False  t3_7l4xdt   \n",
       "2                 0          none       0  drjocb5         False  t3_7klrjl   \n",
       "3                 0          none       0  drjocb6         False  t3_7l3jhf   \n",
       "4                 0          none       0  drjocb7         False  t3_7l514t   \n",
       "\n",
       "    parent_id                                          permalink  \\\n",
       "0   t3_7l0zv1  /r/pathofexile/comments/7l0zv1/ggg_please_fix_...   \n",
       "1   t3_7l4xdt  /r/The_Donald/comments/7l4xdt/wells_fargo_rais...   \n",
       "2  t1_drjkcuz  /r/Ultralight/comments/7klrjl/rultralight_disc...   \n",
       "3  t1_drjnyvi   /r/hoi4/comments/7l3jhf/isp_face_reveal/drjocb6/   \n",
       "4   t3_7l514t  /r/baseball/comments/7l514t/your_opinion_on_th...   \n",
       "\n",
       "   retrieved_on  score  stickied    subreddit subreddit_id subreddit_type  \n",
       "0    1514928812      1     False  pathofexile     t5_2sf6m         public  \n",
       "1    1514928812      1     False   The_Donald     t5_38unr         public  \n",
       "2    1514928812      3     False   Ultralight     t5_2s7p2         public  \n",
       "3    1514928812     15     False         hoi4     t5_2zvvb         public  \n",
       "4    1514928812      1     False     baseball     t5_2qm7u         public  "
      ]
     },
     "execution_count": 21,
     "metadata": {},
     "output_type": "execute_result"
    }
   ],
   "source": [
    "redditframe.head()"
   ]
  },
  {
   "cell_type": "code",
   "execution_count": 22,
   "metadata": {},
   "outputs": [
    {
     "data": {
      "text/plain": [
       "1514932006    200\n",
       "1514936773    200\n",
       "1514953963    200\n",
       "1514930371    200\n",
       "1514939322    200\n",
       "1514935247    200\n",
       "1514936717    200\n",
       "1514937338    200\n",
       "1514928973    200\n",
       "1514937749    200\n",
       "1514934945    200\n",
       "1514932716    200\n",
       "1514952615    200\n",
       "1514942486    200\n",
       "1514938322    200\n",
       "1514940989    200\n",
       "1514940749    200\n",
       "1514939485    200\n",
       "1514936918    200\n",
       "1514954035    200\n",
       "1514944564    200\n",
       "1514940229    200\n",
       "1514935598    200\n",
       "1514936348    200\n",
       "1514953890    200\n",
       "1514952526    200\n",
       "1514940939    200\n",
       "1514932072    200\n",
       "1514942212    200\n",
       "1514952887    200\n",
       "             ... \n",
       "1514949299      2\n",
       "1514944480      2\n",
       "1514956842      2\n",
       "1514959227      2\n",
       "1514946986      2\n",
       "1514944257      2\n",
       "1514963159      2\n",
       "1514954897      2\n",
       "1514951203      2\n",
       "1514937828      2\n",
       "1514931018      2\n",
       "1514932054      1\n",
       "1514946260      1\n",
       "1514931653      1\n",
       "1514964725      1\n",
       "1514956018      1\n",
       "1514928920      1\n",
       "1514959451      1\n",
       "1514955759      1\n",
       "1514960212      1\n",
       "1514949206      1\n",
       "1514956921      1\n",
       "1514958659      1\n",
       "1514950097      1\n",
       "1514959365      1\n",
       "1514950037      1\n",
       "1514940996      1\n",
       "1514930918      1\n",
       "1514962612      1\n",
       "1514960265      1\n",
       "Name: retrieved_on, Length: 29769, dtype: int64"
      ]
     },
     "execution_count": 22,
     "metadata": {},
     "output_type": "execute_result"
    }
   ],
   "source": [
    "redditframe.retrieved_on.value_counts()"
   ]
  },
  {
   "cell_type": "markdown",
   "metadata": {},
   "source": [
    "<p>Another column that I don't really have that much use for. Drop and Move On!</p>"
   ]
  },
  {
   "cell_type": "code",
   "execution_count": 23,
   "metadata": {},
   "outputs": [],
   "source": [
    "redditframe.drop([\"retrieved_on\"], axis=1, inplace=True)"
   ]
  },
  {
   "cell_type": "code",
   "execution_count": 24,
   "metadata": {},
   "outputs": [
    {
     "data": {
      "text/plain": [
       "public        2907025\n",
       "restricted      20640\n",
       "user             1550\n",
       "Name: subreddit_type, dtype: int64"
      ]
     },
     "execution_count": 24,
     "metadata": {},
     "output_type": "execute_result"
    }
   ],
   "source": [
    "redditframe.subreddit_type.value_counts()"
   ]
  },
  {
   "cell_type": "markdown",
   "metadata": {},
   "source": [
    "<p>I might use this for a small linguistic analysis on upvote count, but not for machine learning I imagine. Two things remain. First, I have to fix the cake day column because I do want to play around with that column for analysis. Another would be removing comments that are deleted since I don't think they are of any use.</p>"
   ]
  },
  {
   "cell_type": "code",
   "execution_count": 25,
   "metadata": {},
   "outputs": [
    {
     "data": {
      "text/html": [
       "<div>\n",
       "<style scoped>\n",
       "    .dataframe tbody tr th:only-of-type {\n",
       "        vertical-align: middle;\n",
       "    }\n",
       "\n",
       "    .dataframe tbody tr th {\n",
       "        vertical-align: top;\n",
       "    }\n",
       "\n",
       "    .dataframe thead th {\n",
       "        text-align: right;\n",
       "    }\n",
       "</style>\n",
       "<table border=\"1\" class=\"dataframe\">\n",
       "  <thead>\n",
       "    <tr style=\"text-align: right;\">\n",
       "      <th></th>\n",
       "      <th>author</th>\n",
       "      <th>author_cakeday</th>\n",
       "      <th>author_flair_css_class</th>\n",
       "      <th>author_flair_text</th>\n",
       "      <th>body</th>\n",
       "      <th>can_gild</th>\n",
       "      <th>controversiality</th>\n",
       "      <th>distinguished</th>\n",
       "      <th>gilded</th>\n",
       "      <th>id</th>\n",
       "      <th>is_submitter</th>\n",
       "      <th>link_id</th>\n",
       "      <th>parent_id</th>\n",
       "      <th>permalink</th>\n",
       "      <th>score</th>\n",
       "      <th>stickied</th>\n",
       "      <th>subreddit</th>\n",
       "      <th>subreddit_id</th>\n",
       "      <th>subreddit_type</th>\n",
       "    </tr>\n",
       "  </thead>\n",
       "  <tbody>\n",
       "    <tr>\n",
       "      <th>0</th>\n",
       "      <td>StrayYoshi</td>\n",
       "      <td>NaN</td>\n",
       "      <td>asc-hierophant</td>\n",
       "      <td>Hierophant</td>\n",
       "      <td>Have to kill him in 1 portal is the way I do i...</td>\n",
       "      <td>True</td>\n",
       "      <td>0</td>\n",
       "      <td>none</td>\n",
       "      <td>0</td>\n",
       "      <td>drjocb3</td>\n",
       "      <td>False</td>\n",
       "      <td>t3_7l0zv1</td>\n",
       "      <td>t3_7l0zv1</td>\n",
       "      <td>/r/pathofexile/comments/7l0zv1/ggg_please_fix_...</td>\n",
       "      <td>1</td>\n",
       "      <td>False</td>\n",
       "      <td>pathofexile</td>\n",
       "      <td>t5_2sf6m</td>\n",
       "      <td>public</td>\n",
       "    </tr>\n",
       "    <tr>\n",
       "      <th>1</th>\n",
       "      <td>[deleted]</td>\n",
       "      <td>NaN</td>\n",
       "      <td>none</td>\n",
       "      <td>none</td>\n",
       "      <td>[deleted]</td>\n",
       "      <td>True</td>\n",
       "      <td>0</td>\n",
       "      <td>none</td>\n",
       "      <td>0</td>\n",
       "      <td>drjocb4</td>\n",
       "      <td>False</td>\n",
       "      <td>t3_7l4xdt</td>\n",
       "      <td>t3_7l4xdt</td>\n",
       "      <td>/r/The_Donald/comments/7l4xdt/wells_fargo_rais...</td>\n",
       "      <td>1</td>\n",
       "      <td>False</td>\n",
       "      <td>The_Donald</td>\n",
       "      <td>t5_38unr</td>\n",
       "      <td>public</td>\n",
       "    </tr>\n",
       "    <tr>\n",
       "      <th>2</th>\n",
       "      <td>vgeh</td>\n",
       "      <td>NaN</td>\n",
       "      <td>none</td>\n",
       "      <td>none</td>\n",
       "      <td>3 season- Mostly thrunite ti3. \\n\\n\\n3 season ...</td>\n",
       "      <td>True</td>\n",
       "      <td>0</td>\n",
       "      <td>none</td>\n",
       "      <td>0</td>\n",
       "      <td>drjocb5</td>\n",
       "      <td>False</td>\n",
       "      <td>t3_7klrjl</td>\n",
       "      <td>t1_drjkcuz</td>\n",
       "      <td>/r/Ultralight/comments/7klrjl/rultralight_disc...</td>\n",
       "      <td>3</td>\n",
       "      <td>False</td>\n",
       "      <td>Ultralight</td>\n",
       "      <td>t5_2s7p2</td>\n",
       "      <td>public</td>\n",
       "    </tr>\n",
       "    <tr>\n",
       "      <th>3</th>\n",
       "      <td>Litbus_TJ</td>\n",
       "      <td>NaN</td>\n",
       "      <td>none</td>\n",
       "      <td>none</td>\n",
       "      <td>Beautiful, isn't it?</td>\n",
       "      <td>True</td>\n",
       "      <td>0</td>\n",
       "      <td>none</td>\n",
       "      <td>0</td>\n",
       "      <td>drjocb6</td>\n",
       "      <td>False</td>\n",
       "      <td>t3_7l3jhf</td>\n",
       "      <td>t1_drjnyvi</td>\n",
       "      <td>/r/hoi4/comments/7l3jhf/isp_face_reveal/drjocb6/</td>\n",
       "      <td>15</td>\n",
       "      <td>False</td>\n",
       "      <td>hoi4</td>\n",
       "      <td>t5_2zvvb</td>\n",
       "      <td>public</td>\n",
       "    </tr>\n",
       "    <tr>\n",
       "      <th>4</th>\n",
       "      <td>[deleted]</td>\n",
       "      <td>NaN</td>\n",
       "      <td>none</td>\n",
       "      <td>none</td>\n",
       "      <td>[deleted]</td>\n",
       "      <td>True</td>\n",
       "      <td>0</td>\n",
       "      <td>none</td>\n",
       "      <td>0</td>\n",
       "      <td>drjocb7</td>\n",
       "      <td>False</td>\n",
       "      <td>t3_7l514t</td>\n",
       "      <td>t3_7l514t</td>\n",
       "      <td>/r/baseball/comments/7l514t/your_opinion_on_th...</td>\n",
       "      <td>1</td>\n",
       "      <td>False</td>\n",
       "      <td>baseball</td>\n",
       "      <td>t5_2qm7u</td>\n",
       "      <td>public</td>\n",
       "    </tr>\n",
       "  </tbody>\n",
       "</table>\n",
       "</div>"
      ],
      "text/plain": [
       "       author  author_cakeday author_flair_css_class author_flair_text  \\\n",
       "0  StrayYoshi             NaN         asc-hierophant        Hierophant   \n",
       "1   [deleted]             NaN                   none              none   \n",
       "2        vgeh             NaN                   none              none   \n",
       "3   Litbus_TJ             NaN                   none              none   \n",
       "4   [deleted]             NaN                   none              none   \n",
       "\n",
       "                                                body  can_gild  \\\n",
       "0  Have to kill him in 1 portal is the way I do i...      True   \n",
       "1                                          [deleted]      True   \n",
       "2  3 season- Mostly thrunite ti3. \\n\\n\\n3 season ...      True   \n",
       "3                               Beautiful, isn't it?      True   \n",
       "4                                          [deleted]      True   \n",
       "\n",
       "   controversiality distinguished  gilded       id  is_submitter    link_id  \\\n",
       "0                 0          none       0  drjocb3         False  t3_7l0zv1   \n",
       "1                 0          none       0  drjocb4         False  t3_7l4xdt   \n",
       "2                 0          none       0  drjocb5         False  t3_7klrjl   \n",
       "3                 0          none       0  drjocb6         False  t3_7l3jhf   \n",
       "4                 0          none       0  drjocb7         False  t3_7l514t   \n",
       "\n",
       "    parent_id                                          permalink  score  \\\n",
       "0   t3_7l0zv1  /r/pathofexile/comments/7l0zv1/ggg_please_fix_...      1   \n",
       "1   t3_7l4xdt  /r/The_Donald/comments/7l4xdt/wells_fargo_rais...      1   \n",
       "2  t1_drjkcuz  /r/Ultralight/comments/7klrjl/rultralight_disc...      3   \n",
       "3  t1_drjnyvi   /r/hoi4/comments/7l3jhf/isp_face_reveal/drjocb6/     15   \n",
       "4   t3_7l514t  /r/baseball/comments/7l514t/your_opinion_on_th...      1   \n",
       "\n",
       "   stickied    subreddit subreddit_id subreddit_type  \n",
       "0     False  pathofexile     t5_2sf6m         public  \n",
       "1     False   The_Donald     t5_38unr         public  \n",
       "2     False   Ultralight     t5_2s7p2         public  \n",
       "3     False         hoi4     t5_2zvvb         public  \n",
       "4     False     baseball     t5_2qm7u         public  "
      ]
     },
     "execution_count": 25,
     "metadata": {},
     "output_type": "execute_result"
    }
   ],
   "source": [
    "redditframe.head()"
   ]
  },
  {
   "cell_type": "code",
   "execution_count": 26,
   "metadata": {},
   "outputs": [
    {
     "data": {
      "text/plain": [
       "1.0    12340\n",
       "Name: author_cakeday, dtype: int64"
      ]
     },
     "execution_count": 26,
     "metadata": {},
     "output_type": "execute_result"
    }
   ],
   "source": [
    "redditframe.author_cakeday.value_counts()"
   ]
  },
  {
   "cell_type": "code",
   "execution_count": 27,
   "metadata": {},
   "outputs": [],
   "source": [
    "redditframe.author_cakeday.fillna(0.0, inplace=True)"
   ]
  },
  {
   "cell_type": "code",
   "execution_count": 28,
   "metadata": {},
   "outputs": [
    {
     "data": {
      "text/plain": [
       "[deleted]               190927\n",
       "AutoModerator            26274\n",
       "ImagesOfNetwork           2561\n",
       "BitcoinAllBot             2215\n",
       "imguralbumbot             1712\n",
       "RPBot                      804\n",
       "WikiTextBot                795\n",
       "atomicimploder             772\n",
       "MTGCardFetcher             765\n",
       "kdiuro13                   737\n",
       "censorship_notifier        678\n",
       "autotldr                   643\n",
       "TotesMessenger             628\n",
       "sneakpeekbot               566\n",
       "transcribersofreddit       517\n",
       "xvicsagex                  477\n",
       "mailmygovNNBot             471\n",
       "DreamProcessor             448\n",
       "QuestoGuy                  445\n",
       "SteamKiwi                  442\n",
       "CommentArchiverBot         417\n",
       "transcribot                400\n",
       "GoodBot_BadBot             386\n",
       "hwsbot                     364\n",
       "WritingPromptsRobot        359\n",
       "SnapshillBot               339\n",
       "friendly-bot               327\n",
       "CarrotPrince               314\n",
       "Roboragi                   304\n",
       "gifv-bot                   296\n",
       "                         ...  \n",
       "redpoemage                   1\n",
       "dothepropellor               1\n",
       "SeraphynaZee                 1\n",
       "thisjuststinks               1\n",
       "AssistingJarl                1\n",
       "realityseekr                 1\n",
       "jasonmatt2677                1\n",
       "Doom-is-coming               1\n",
       "UninterestingGhost           1\n",
       "slagathorz                   1\n",
       "Televangelis                 1\n",
       "Zephymastyx                  1\n",
       "quixotovitch                 1\n",
       "246019268                    1\n",
       "swole-master-69              1\n",
       "CalllmeDragon                1\n",
       "TheKingleMingle              1\n",
       "Nightspark43                 1\n",
       "SickBango                    1\n",
       "Cathal83                     1\n",
       "steezy5                      1\n",
       "drumfish                     1\n",
       "CaptainPyjamaShark           1\n",
       "SeaGhoulskingdom             1\n",
       "Jcdwall3                     1\n",
       "newyorknewdorp               1\n",
       "ZufolgeWeierstrass           1\n",
       "ImAnAquaHolic                1\n",
       "Adolph_Bernanke              1\n",
       "WhistleDixieland             1\n",
       "Name: author, Length: 768747, dtype: int64"
      ]
     },
     "execution_count": 28,
     "metadata": {},
     "output_type": "execute_result"
    }
   ],
   "source": [
    "redditframe.author.value_counts()"
   ]
  },
  {
   "cell_type": "markdown",
   "metadata": {},
   "source": [
    "<p>Hmmmmm, out of almost 3 million comments, about 200,000 are deleted. I hope this doesn't impact the subreddits I choose.</p>"
   ]
  },
  {
   "cell_type": "code",
   "execution_count": 29,
   "metadata": {},
   "outputs": [
    {
     "data": {
      "text/plain": [
       "2738288"
      ]
     },
     "execution_count": 29,
     "metadata": {},
     "output_type": "execute_result"
    }
   ],
   "source": [
    "len(redditframe[redditframe.author != \"[deleted]\"])"
   ]
  },
  {
   "cell_type": "code",
   "execution_count": 30,
   "metadata": {},
   "outputs": [],
   "source": [
    "redditframe = redditframe[redditframe.author != \"[deleted]\"]\n",
    "redditframe.reset_index(drop=True, inplace=True)"
   ]
  },
  {
   "cell_type": "markdown",
   "metadata": {},
   "source": [
    "<p>That is pretty much it for the data cleanup, now we shall play with the data.</p>"
   ]
  },
  {
   "cell_type": "markdown",
   "metadata": {},
   "source": [
    "<a id=\"saving\"></a><h2>Saving the Data [<a href=\"#tablecontent\">TOC</a>]</h2>\n",
    "<p>Now to pickle the data like in phase 1. I'll include the date incase I expand the corpus to include another day's worth of comments.</p>"
   ]
  },
  {
   "cell_type": "code",
   "execution_count": 31,
   "metadata": {},
   "outputs": [],
   "source": [
    "redditframe.to_pickle(\"../data/RedditPickle1221.pkl\")"
   ]
  },
  {
   "cell_type": "code",
   "execution_count": 32,
   "metadata": {},
   "outputs": [
    {
     "data": {
      "text/html": [
       "<div>\n",
       "<style scoped>\n",
       "    .dataframe tbody tr th:only-of-type {\n",
       "        vertical-align: middle;\n",
       "    }\n",
       "\n",
       "    .dataframe tbody tr th {\n",
       "        vertical-align: top;\n",
       "    }\n",
       "\n",
       "    .dataframe thead th {\n",
       "        text-align: right;\n",
       "    }\n",
       "</style>\n",
       "<table border=\"1\" class=\"dataframe\">\n",
       "  <thead>\n",
       "    <tr style=\"text-align: right;\">\n",
       "      <th></th>\n",
       "      <th>author</th>\n",
       "      <th>author_cakeday</th>\n",
       "      <th>author_flair_css_class</th>\n",
       "      <th>author_flair_text</th>\n",
       "      <th>body</th>\n",
       "      <th>can_gild</th>\n",
       "      <th>controversiality</th>\n",
       "      <th>distinguished</th>\n",
       "      <th>gilded</th>\n",
       "      <th>id</th>\n",
       "      <th>is_submitter</th>\n",
       "      <th>link_id</th>\n",
       "      <th>parent_id</th>\n",
       "      <th>permalink</th>\n",
       "      <th>score</th>\n",
       "      <th>stickied</th>\n",
       "      <th>subreddit</th>\n",
       "      <th>subreddit_id</th>\n",
       "      <th>subreddit_type</th>\n",
       "    </tr>\n",
       "  </thead>\n",
       "  <tbody>\n",
       "    <tr>\n",
       "      <th>0</th>\n",
       "      <td>StrayYoshi</td>\n",
       "      <td>0.0</td>\n",
       "      <td>asc-hierophant</td>\n",
       "      <td>Hierophant</td>\n",
       "      <td>Have to kill him in 1 portal is the way I do i...</td>\n",
       "      <td>True</td>\n",
       "      <td>0</td>\n",
       "      <td>none</td>\n",
       "      <td>0</td>\n",
       "      <td>drjocb3</td>\n",
       "      <td>False</td>\n",
       "      <td>t3_7l0zv1</td>\n",
       "      <td>t3_7l0zv1</td>\n",
       "      <td>/r/pathofexile/comments/7l0zv1/ggg_please_fix_...</td>\n",
       "      <td>1</td>\n",
       "      <td>False</td>\n",
       "      <td>pathofexile</td>\n",
       "      <td>t5_2sf6m</td>\n",
       "      <td>public</td>\n",
       "    </tr>\n",
       "    <tr>\n",
       "      <th>1</th>\n",
       "      <td>vgeh</td>\n",
       "      <td>0.0</td>\n",
       "      <td>none</td>\n",
       "      <td>none</td>\n",
       "      <td>3 season- Mostly thrunite ti3. \\n\\n\\n3 season ...</td>\n",
       "      <td>True</td>\n",
       "      <td>0</td>\n",
       "      <td>none</td>\n",
       "      <td>0</td>\n",
       "      <td>drjocb5</td>\n",
       "      <td>False</td>\n",
       "      <td>t3_7klrjl</td>\n",
       "      <td>t1_drjkcuz</td>\n",
       "      <td>/r/Ultralight/comments/7klrjl/rultralight_disc...</td>\n",
       "      <td>3</td>\n",
       "      <td>False</td>\n",
       "      <td>Ultralight</td>\n",
       "      <td>t5_2s7p2</td>\n",
       "      <td>public</td>\n",
       "    </tr>\n",
       "    <tr>\n",
       "      <th>2</th>\n",
       "      <td>Litbus_TJ</td>\n",
       "      <td>0.0</td>\n",
       "      <td>none</td>\n",
       "      <td>none</td>\n",
       "      <td>Beautiful, isn't it?</td>\n",
       "      <td>True</td>\n",
       "      <td>0</td>\n",
       "      <td>none</td>\n",
       "      <td>0</td>\n",
       "      <td>drjocb6</td>\n",
       "      <td>False</td>\n",
       "      <td>t3_7l3jhf</td>\n",
       "      <td>t1_drjnyvi</td>\n",
       "      <td>/r/hoi4/comments/7l3jhf/isp_face_reveal/drjocb6/</td>\n",
       "      <td>15</td>\n",
       "      <td>False</td>\n",
       "      <td>hoi4</td>\n",
       "      <td>t5_2zvvb</td>\n",
       "      <td>public</td>\n",
       "    </tr>\n",
       "    <tr>\n",
       "      <th>3</th>\n",
       "      <td>seeingeyegod</td>\n",
       "      <td>0.0</td>\n",
       "      <td></td>\n",
       "      <td>'91 VW mk2 GLI 16v/'16 Mk7 GTI s</td>\n",
       "      <td>i want that anecdote to be true for me if I ev...</td>\n",
       "      <td>True</td>\n",
       "      <td>0</td>\n",
       "      <td>none</td>\n",
       "      <td>0</td>\n",
       "      <td>drjocb8</td>\n",
       "      <td>False</td>\n",
       "      <td>t3_7ksyd5</td>\n",
       "      <td>t1_drhlphx</td>\n",
       "      <td>/r/cars/comments/7ksyd5/470_whp_20l_apr_gonzo_...</td>\n",
       "      <td>2</td>\n",
       "      <td>False</td>\n",
       "      <td>cars</td>\n",
       "      <td>t5_2qhl2</td>\n",
       "      <td>public</td>\n",
       "    </tr>\n",
       "    <tr>\n",
       "      <th>4</th>\n",
       "      <td>Daemon111</td>\n",
       "      <td>0.0</td>\n",
       "      <td>none</td>\n",
       "      <td>none</td>\n",
       "      <td>...Yikes\\n\\nI don't wanna be the guy who write...</td>\n",
       "      <td>True</td>\n",
       "      <td>0</td>\n",
       "      <td>none</td>\n",
       "      <td>0</td>\n",
       "      <td>drjocb9</td>\n",
       "      <td>False</td>\n",
       "      <td>t3_7l0hrm</td>\n",
       "      <td>t1_drjfdmz</td>\n",
       "      <td>/r/Fitness/comments/7l0hrm/rant_wednesday/drjo...</td>\n",
       "      <td>2</td>\n",
       "      <td>False</td>\n",
       "      <td>Fitness</td>\n",
       "      <td>t5_2qhx4</td>\n",
       "      <td>public</td>\n",
       "    </tr>\n",
       "  </tbody>\n",
       "</table>\n",
       "</div>"
      ],
      "text/plain": [
       "         author  author_cakeday author_flair_css_class  \\\n",
       "0    StrayYoshi             0.0         asc-hierophant   \n",
       "1          vgeh             0.0                   none   \n",
       "2     Litbus_TJ             0.0                   none   \n",
       "3  seeingeyegod             0.0                          \n",
       "4     Daemon111             0.0                   none   \n",
       "\n",
       "                  author_flair_text  \\\n",
       "0                        Hierophant   \n",
       "1                              none   \n",
       "2                              none   \n",
       "3  '91 VW mk2 GLI 16v/'16 Mk7 GTI s   \n",
       "4                              none   \n",
       "\n",
       "                                                body  can_gild  \\\n",
       "0  Have to kill him in 1 portal is the way I do i...      True   \n",
       "1  3 season- Mostly thrunite ti3. \\n\\n\\n3 season ...      True   \n",
       "2                               Beautiful, isn't it?      True   \n",
       "3  i want that anecdote to be true for me if I ev...      True   \n",
       "4  ...Yikes\\n\\nI don't wanna be the guy who write...      True   \n",
       "\n",
       "   controversiality distinguished  gilded       id  is_submitter    link_id  \\\n",
       "0                 0          none       0  drjocb3         False  t3_7l0zv1   \n",
       "1                 0          none       0  drjocb5         False  t3_7klrjl   \n",
       "2                 0          none       0  drjocb6         False  t3_7l3jhf   \n",
       "3                 0          none       0  drjocb8         False  t3_7ksyd5   \n",
       "4                 0          none       0  drjocb9         False  t3_7l0hrm   \n",
       "\n",
       "    parent_id                                          permalink  score  \\\n",
       "0   t3_7l0zv1  /r/pathofexile/comments/7l0zv1/ggg_please_fix_...      1   \n",
       "1  t1_drjkcuz  /r/Ultralight/comments/7klrjl/rultralight_disc...      3   \n",
       "2  t1_drjnyvi   /r/hoi4/comments/7l3jhf/isp_face_reveal/drjocb6/     15   \n",
       "3  t1_drhlphx  /r/cars/comments/7ksyd5/470_whp_20l_apr_gonzo_...      2   \n",
       "4  t1_drjfdmz  /r/Fitness/comments/7l0hrm/rant_wednesday/drjo...      2   \n",
       "\n",
       "   stickied    subreddit subreddit_id subreddit_type  \n",
       "0     False  pathofexile     t5_2sf6m         public  \n",
       "1     False   Ultralight     t5_2s7p2         public  \n",
       "2     False         hoi4     t5_2zvvb         public  \n",
       "3     False         cars     t5_2qhl2         public  \n",
       "4     False      Fitness     t5_2qhx4         public  "
      ]
     },
     "execution_count": 32,
     "metadata": {},
     "output_type": "execute_result"
    }
   ],
   "source": [
    "redditframe.head()"
   ]
  },
  {
   "cell_type": "code",
   "execution_count": 33,
   "metadata": {},
   "outputs": [],
   "source": [
    "redditframe = pd.read_pickle(\"../data/RedditPickle1221.pkl\")"
   ]
  },
  {
   "cell_type": "code",
   "execution_count": 34,
   "metadata": {},
   "outputs": [
    {
     "data": {
      "text/html": [
       "<div>\n",
       "<style scoped>\n",
       "    .dataframe tbody tr th:only-of-type {\n",
       "        vertical-align: middle;\n",
       "    }\n",
       "\n",
       "    .dataframe tbody tr th {\n",
       "        vertical-align: top;\n",
       "    }\n",
       "\n",
       "    .dataframe thead th {\n",
       "        text-align: right;\n",
       "    }\n",
       "</style>\n",
       "<table border=\"1\" class=\"dataframe\">\n",
       "  <thead>\n",
       "    <tr style=\"text-align: right;\">\n",
       "      <th></th>\n",
       "      <th>author</th>\n",
       "      <th>author_cakeday</th>\n",
       "      <th>author_flair_css_class</th>\n",
       "      <th>author_flair_text</th>\n",
       "      <th>body</th>\n",
       "      <th>can_gild</th>\n",
       "      <th>controversiality</th>\n",
       "      <th>distinguished</th>\n",
       "      <th>gilded</th>\n",
       "      <th>id</th>\n",
       "      <th>is_submitter</th>\n",
       "      <th>link_id</th>\n",
       "      <th>parent_id</th>\n",
       "      <th>permalink</th>\n",
       "      <th>score</th>\n",
       "      <th>stickied</th>\n",
       "      <th>subreddit</th>\n",
       "      <th>subreddit_id</th>\n",
       "      <th>subreddit_type</th>\n",
       "    </tr>\n",
       "  </thead>\n",
       "  <tbody>\n",
       "    <tr>\n",
       "      <th>0</th>\n",
       "      <td>StrayYoshi</td>\n",
       "      <td>0.0</td>\n",
       "      <td>asc-hierophant</td>\n",
       "      <td>Hierophant</td>\n",
       "      <td>Have to kill him in 1 portal is the way I do i...</td>\n",
       "      <td>True</td>\n",
       "      <td>0</td>\n",
       "      <td>none</td>\n",
       "      <td>0</td>\n",
       "      <td>drjocb3</td>\n",
       "      <td>False</td>\n",
       "      <td>t3_7l0zv1</td>\n",
       "      <td>t3_7l0zv1</td>\n",
       "      <td>/r/pathofexile/comments/7l0zv1/ggg_please_fix_...</td>\n",
       "      <td>1</td>\n",
       "      <td>False</td>\n",
       "      <td>pathofexile</td>\n",
       "      <td>t5_2sf6m</td>\n",
       "      <td>public</td>\n",
       "    </tr>\n",
       "    <tr>\n",
       "      <th>1</th>\n",
       "      <td>vgeh</td>\n",
       "      <td>0.0</td>\n",
       "      <td>none</td>\n",
       "      <td>none</td>\n",
       "      <td>3 season- Mostly thrunite ti3. \\n\\n\\n3 season ...</td>\n",
       "      <td>True</td>\n",
       "      <td>0</td>\n",
       "      <td>none</td>\n",
       "      <td>0</td>\n",
       "      <td>drjocb5</td>\n",
       "      <td>False</td>\n",
       "      <td>t3_7klrjl</td>\n",
       "      <td>t1_drjkcuz</td>\n",
       "      <td>/r/Ultralight/comments/7klrjl/rultralight_disc...</td>\n",
       "      <td>3</td>\n",
       "      <td>False</td>\n",
       "      <td>Ultralight</td>\n",
       "      <td>t5_2s7p2</td>\n",
       "      <td>public</td>\n",
       "    </tr>\n",
       "    <tr>\n",
       "      <th>2</th>\n",
       "      <td>Litbus_TJ</td>\n",
       "      <td>0.0</td>\n",
       "      <td>none</td>\n",
       "      <td>none</td>\n",
       "      <td>Beautiful, isn't it?</td>\n",
       "      <td>True</td>\n",
       "      <td>0</td>\n",
       "      <td>none</td>\n",
       "      <td>0</td>\n",
       "      <td>drjocb6</td>\n",
       "      <td>False</td>\n",
       "      <td>t3_7l3jhf</td>\n",
       "      <td>t1_drjnyvi</td>\n",
       "      <td>/r/hoi4/comments/7l3jhf/isp_face_reveal/drjocb6/</td>\n",
       "      <td>15</td>\n",
       "      <td>False</td>\n",
       "      <td>hoi4</td>\n",
       "      <td>t5_2zvvb</td>\n",
       "      <td>public</td>\n",
       "    </tr>\n",
       "    <tr>\n",
       "      <th>3</th>\n",
       "      <td>seeingeyegod</td>\n",
       "      <td>0.0</td>\n",
       "      <td></td>\n",
       "      <td>'91 VW mk2 GLI 16v/'16 Mk7 GTI s</td>\n",
       "      <td>i want that anecdote to be true for me if I ev...</td>\n",
       "      <td>True</td>\n",
       "      <td>0</td>\n",
       "      <td>none</td>\n",
       "      <td>0</td>\n",
       "      <td>drjocb8</td>\n",
       "      <td>False</td>\n",
       "      <td>t3_7ksyd5</td>\n",
       "      <td>t1_drhlphx</td>\n",
       "      <td>/r/cars/comments/7ksyd5/470_whp_20l_apr_gonzo_...</td>\n",
       "      <td>2</td>\n",
       "      <td>False</td>\n",
       "      <td>cars</td>\n",
       "      <td>t5_2qhl2</td>\n",
       "      <td>public</td>\n",
       "    </tr>\n",
       "    <tr>\n",
       "      <th>4</th>\n",
       "      <td>Daemon111</td>\n",
       "      <td>0.0</td>\n",
       "      <td>none</td>\n",
       "      <td>none</td>\n",
       "      <td>...Yikes\\n\\nI don't wanna be the guy who write...</td>\n",
       "      <td>True</td>\n",
       "      <td>0</td>\n",
       "      <td>none</td>\n",
       "      <td>0</td>\n",
       "      <td>drjocb9</td>\n",
       "      <td>False</td>\n",
       "      <td>t3_7l0hrm</td>\n",
       "      <td>t1_drjfdmz</td>\n",
       "      <td>/r/Fitness/comments/7l0hrm/rant_wednesday/drjo...</td>\n",
       "      <td>2</td>\n",
       "      <td>False</td>\n",
       "      <td>Fitness</td>\n",
       "      <td>t5_2qhx4</td>\n",
       "      <td>public</td>\n",
       "    </tr>\n",
       "  </tbody>\n",
       "</table>\n",
       "</div>"
      ],
      "text/plain": [
       "         author  author_cakeday author_flair_css_class  \\\n",
       "0    StrayYoshi             0.0         asc-hierophant   \n",
       "1          vgeh             0.0                   none   \n",
       "2     Litbus_TJ             0.0                   none   \n",
       "3  seeingeyegod             0.0                          \n",
       "4     Daemon111             0.0                   none   \n",
       "\n",
       "                  author_flair_text  \\\n",
       "0                        Hierophant   \n",
       "1                              none   \n",
       "2                              none   \n",
       "3  '91 VW mk2 GLI 16v/'16 Mk7 GTI s   \n",
       "4                              none   \n",
       "\n",
       "                                                body  can_gild  \\\n",
       "0  Have to kill him in 1 portal is the way I do i...      True   \n",
       "1  3 season- Mostly thrunite ti3. \\n\\n\\n3 season ...      True   \n",
       "2                               Beautiful, isn't it?      True   \n",
       "3  i want that anecdote to be true for me if I ev...      True   \n",
       "4  ...Yikes\\n\\nI don't wanna be the guy who write...      True   \n",
       "\n",
       "   controversiality distinguished  gilded       id  is_submitter    link_id  \\\n",
       "0                 0          none       0  drjocb3         False  t3_7l0zv1   \n",
       "1                 0          none       0  drjocb5         False  t3_7klrjl   \n",
       "2                 0          none       0  drjocb6         False  t3_7l3jhf   \n",
       "3                 0          none       0  drjocb8         False  t3_7ksyd5   \n",
       "4                 0          none       0  drjocb9         False  t3_7l0hrm   \n",
       "\n",
       "    parent_id                                          permalink  score  \\\n",
       "0   t3_7l0zv1  /r/pathofexile/comments/7l0zv1/ggg_please_fix_...      1   \n",
       "1  t1_drjkcuz  /r/Ultralight/comments/7klrjl/rultralight_disc...      3   \n",
       "2  t1_drjnyvi   /r/hoi4/comments/7l3jhf/isp_face_reveal/drjocb6/     15   \n",
       "3  t1_drhlphx  /r/cars/comments/7ksyd5/470_whp_20l_apr_gonzo_...      2   \n",
       "4  t1_drjfdmz  /r/Fitness/comments/7l0hrm/rant_wednesday/drjo...      2   \n",
       "\n",
       "   stickied    subreddit subreddit_id subreddit_type  \n",
       "0     False  pathofexile     t5_2sf6m         public  \n",
       "1     False   Ultralight     t5_2s7p2         public  \n",
       "2     False         hoi4     t5_2zvvb         public  \n",
       "3     False         cars     t5_2qhl2         public  \n",
       "4     False      Fitness     t5_2qhx4         public  "
      ]
     },
     "execution_count": 34,
     "metadata": {},
     "output_type": "execute_result"
    }
   ],
   "source": [
    "redditframe.head()"
   ]
  },
  {
   "cell_type": "markdown",
   "metadata": {},
   "source": [
    "<p>The dataframe looks good to go! Onto stats and analysis.</p>"
   ]
  },
  {
   "cell_type": "markdown",
   "metadata": {},
   "source": [
    "<a id=\"stats\"></a><h2>Basic Stats [<a href=\"#tablecontent\">TOC</a>]</h2>\n",
    "<p>Since in the previous project phase we only did basic stats about AskReddit, not the Corpus, we'll have to do this section as well.</p>"
   ]
  },
  {
   "cell_type": "code",
   "execution_count": 35,
   "metadata": {},
   "outputs": [
    {
     "data": {
      "text/plain": [
       "count    2.738288e+06\n",
       "mean     9.332544e+00\n",
       "std      1.218704e+02\n",
       "min     -9.040000e+02\n",
       "25%      1.000000e+00\n",
       "50%      2.000000e+00\n",
       "75%      4.000000e+00\n",
       "max      3.592000e+04\n",
       "Name: score, dtype: float64"
      ]
     },
     "execution_count": 35,
     "metadata": {},
     "output_type": "execute_result"
    }
   ],
   "source": [
    "redditframe.score.describe()"
   ]
  },
  {
   "cell_type": "markdown",
   "metadata": {},
   "source": [
    "<p>The mean and std have certainly lowered a bit. But the 25% and 50% markers have not changed, which is not surprising.</p>"
   ]
  },
  {
   "cell_type": "code",
   "execution_count": 36,
   "metadata": {},
   "outputs": [
    {
     "data": {
      "text/plain": [
       "t3_7l5vig     7109\n",
       "t3_7l85q1     4118\n",
       "t3_7l9nkm     3861\n",
       "t3_7lamf6     2335\n",
       "t3_7l4s0r     2068\n",
       "t3_7l5smj     2054\n",
       "t3_7l5knn     2034\n",
       "t3_7l4w93     1746\n",
       "t3_7l5s31     1620\n",
       "t3_7l5emm     1478\n",
       "t3_7l7zq1     1478\n",
       "t3_7l3d93     1475\n",
       "t3_7l11sk     1467\n",
       "t3_7l5929     1060\n",
       "t3_7l5tts     1046\n",
       "t3_7l80bq     1042\n",
       "t3_7lav0j      962\n",
       "t3_7l9hv9      917\n",
       "t3_7l3bwl      915\n",
       "t3_7l9w6j      860\n",
       "t3_7l6ppl      809\n",
       "t3_7l4cza      805\n",
       "t3_7l7l4u      723\n",
       "t3_7lbf0x      719\n",
       "t3_7l8uf3      715\n",
       "t3_7l7x1m      710\n",
       "t3_7l1zsm      692\n",
       "t3_7l5no9      690\n",
       "t3_7l6n83      689\n",
       "t3_7l4x9w      671\n",
       "              ... \n",
       "t1_drjqmc6       1\n",
       "t1_drl9w90       1\n",
       "t1_drk5shu       1\n",
       "t1_drk6dt1       1\n",
       "t3_7l7dfe        1\n",
       "t3_7kzfh3        1\n",
       "t1_drkv16i       1\n",
       "t1_drjm7qv       1\n",
       "t3_7l91zv        1\n",
       "t1_drkp5iy       1\n",
       "t1_drl61ia       1\n",
       "t1_drjx854       1\n",
       "t3_7l9vi1        1\n",
       "t1_drk7h7y       1\n",
       "t1_drkgptn       1\n",
       "t1_drk4rlf       1\n",
       "t1_drk8vqe       1\n",
       "t1_drl4akr       1\n",
       "t1_drkrweh       1\n",
       "t1_drkzi1l       1\n",
       "t1_drjzyv0       1\n",
       "t1_drkjt31       1\n",
       "t1_drlcn80       1\n",
       "t1_drk9vxv       1\n",
       "t1_drk3xoi       1\n",
       "t3_7kjyhy        1\n",
       "t1_drhmlgr       1\n",
       "t1_dqlwhtn       1\n",
       "t1_drjisjl       1\n",
       "t1_drkklfe       1\n",
       "Name: parent_id, Length: 1546937, dtype: int64"
      ]
     },
     "execution_count": 36,
     "metadata": {},
     "output_type": "execute_result"
    }
   ],
   "source": [
    "redditframe.parent_id.value_counts()"
   ]
  },
  {
   "cell_type": "code",
   "execution_count": 37,
   "metadata": {},
   "outputs": [
    {
     "data": {
      "text/plain": [
       "1.7701354353797214"
      ]
     },
     "execution_count": 37,
     "metadata": {},
     "output_type": "execute_result"
    }
   ],
   "source": [
    "redditframe.parent_id.value_counts().mean()"
   ]
  },
  {
   "cell_type": "markdown",
   "metadata": {},
   "source": [
    "<p>If I'm interpreting this correctly, there is about 2 comments on average for every submission. Kinda balances out the high concentration at the top.</p>"
   ]
  },
  {
   "cell_type": "code",
   "execution_count": 38,
   "metadata": {},
   "outputs": [
    {
     "data": {
      "text/plain": [
       "63362"
      ]
     },
     "execution_count": 38,
     "metadata": {},
     "output_type": "execute_result"
    }
   ],
   "source": [
    "len(redditframe[redditframe.score >= 50])"
   ]
  },
  {
   "cell_type": "code",
   "execution_count": 39,
   "metadata": {},
   "outputs": [
    {
     "data": {
      "text/plain": [
       "29264"
      ]
     },
     "execution_count": 39,
     "metadata": {},
     "output_type": "execute_result"
    }
   ],
   "source": [
    "len(redditframe[redditframe.score >= 100])"
   ]
  },
  {
   "cell_type": "code",
   "execution_count": 40,
   "metadata": {},
   "outputs": [
    {
     "data": {
      "text/plain": [
       "AskReddit             3981\n",
       "nba                    929\n",
       "politics               904\n",
       "The_Donald             593\n",
       "worldnews              586\n",
       "nfl                    461\n",
       "videos                 438\n",
       "gaming                 393\n",
       "StarWars               378\n",
       "movies                 375\n",
       "news                   365\n",
       "todayilearned          361\n",
       "CFB                    343\n",
       "soccer                 343\n",
       "funny                  333\n",
       "leagueoflegends        326\n",
       "pics                   315\n",
       "relationships          297\n",
       "Showerthoughts         294\n",
       "survivor               252\n",
       "SquaredCircle          228\n",
       "hiphopheads            226\n",
       "BlackPeopleTwitter     205\n",
       "aww                    201\n",
       "WTF                    200\n",
       "gifs                   195\n",
       "DestinyTheGame         168\n",
       "Overwatch              164\n",
       "europe                 157\n",
       "baseball               153\n",
       "                      ... \n",
       "keming                   1\n",
       "MilitaryGfys             1\n",
       "SovietWomble             1\n",
       "Meditation               1\n",
       "classicwow               1\n",
       "NASCAR                   1\n",
       "quotes                   1\n",
       "northernireland          1\n",
       "dancegavindance          1\n",
       "curledfeetsies           1\n",
       "nursing                  1\n",
       "electronicmusic          1\n",
       "Warhammer                1\n",
       "wholesomebpt             1\n",
       "fixingmovies             1\n",
       "germany                  1\n",
       "Fantasy                  1\n",
       "Blowjobs                 1\n",
       "UFOs                     1\n",
       "Fishing                  1\n",
       "dank_meme                1\n",
       "nrl                      1\n",
       "AskWomenOver30           1\n",
       "DarkNetMarkets           1\n",
       "UrbanHell                1\n",
       "unexpectedhogwarts       1\n",
       "discordapp               1\n",
       "shittykickstarters       1\n",
       "Dollywinks               1\n",
       "fountainpens             1\n",
       "Name: subreddit, Length: 1236, dtype: int64"
      ]
     },
     "execution_count": 40,
     "metadata": {},
     "output_type": "execute_result"
    }
   ],
   "source": [
    "redditframe[redditframe.score >= 100].subreddit.value_counts()"
   ]
  },
  {
   "cell_type": "markdown",
   "metadata": {},
   "source": [
    "<p>Hmmmm, we're really limiting our corpus if we set a score filter to be above 100. Also, AskReddit would have a huge advantage over the other subreddits...</p>"
   ]
  },
  {
   "cell_type": "code",
   "execution_count": 41,
   "metadata": {},
   "outputs": [
    {
     "data": {
      "text/plain": [
       "AskReddit                6735\n",
       "nba                      1813\n",
       "politics                 1786\n",
       "The_Donald               1435\n",
       "nfl                      1019\n",
       "worldnews                 995\n",
       "StarWars                  851\n",
       "videos                    766\n",
       "movies                    760\n",
       "soccer                    698\n",
       "gaming                    691\n",
       "news                      689\n",
       "survivor                  664\n",
       "todayilearned             653\n",
       "relationships             631\n",
       "CFB                       621\n",
       "leagueoflegends           596\n",
       "funny                     580\n",
       "pics                      553\n",
       "SquaredCircle             536\n",
       "Showerthoughts            479\n",
       "hiphopheads               441\n",
       "BlackPeopleTwitter        404\n",
       "aww                       362\n",
       "baseball                  332\n",
       "gifs                      324\n",
       "europe                    323\n",
       "WTF                       321\n",
       "DestinyTheGame            321\n",
       "Overwatch                 302\n",
       "                         ... \n",
       "CompetitiveForHonor         1\n",
       "streetwearstartup           1\n",
       "smashgifs                   1\n",
       "howtonotgiveafuck           1\n",
       "AskAShittyMechanic          1\n",
       "finance                     1\n",
       "WikiLeaks                   1\n",
       "AppHookup                   1\n",
       "stephenking                 1\n",
       "Glitch_in_the_Matrix        1\n",
       "ecchi                       1\n",
       "lingerie                    1\n",
       "EternalCardGame             1\n",
       "FuturamaWOTgame             1\n",
       "deepweb                     1\n",
       "unexpectedhogwarts          1\n",
       "CombatFootage               1\n",
       "ElectricForest              1\n",
       "leanfire                    1\n",
       "TryingForABaby              1\n",
       "CuteLittleButts             1\n",
       "Health                      1\n",
       "CrossStitch                 1\n",
       "steamdeals                  1\n",
       "ConjureRootworkHoodoo       1\n",
       "VictoriaBC                  1\n",
       "raleigh                     1\n",
       "depression                  1\n",
       "NobodyAsked                 1\n",
       "zuckmemes                   1\n",
       "Name: subreddit, Length: 1986, dtype: int64"
      ]
     },
     "execution_count": 41,
     "metadata": {},
     "output_type": "execute_result"
    }
   ],
   "source": [
    "redditframe[redditframe.score >= 50].subreddit.value_counts()"
   ]
  },
  {
   "cell_type": "markdown",
   "metadata": {},
   "source": [
    "<p>AskReddit still has a large bias, but I have more data to work with in the other subreddits. This I can work with!</p>"
   ]
  },
  {
   "cell_type": "markdown",
   "metadata": {},
   "source": [
    "<a id=\"machinelearn\"></a><h2>Preliminary Machine Learning [<a href=\"#tablecontent\">TOC</a>]</h2>\n",
    "<p>Let's try some basic machine learning that I've learned from class. This is preliminary because I'lll only be trying basic things. The more fine tuned approaches will be for the final phase. Let's do something probably wrong and just feed it ALL the subreddits. This will serve as the initial idea.</p>"
   ]
  },
  {
   "cell_type": "code",
   "execution_count": 42,
   "metadata": {},
   "outputs": [],
   "source": [
    "above50 = redditframe[redditframe.score >= 50]"
   ]
  },
  {
   "cell_type": "markdown",
   "metadata": {},
   "source": [
    "<p>First, split the data accordingly.</p> "
   ]
  },
  {
   "cell_type": "code",
   "execution_count": 43,
   "metadata": {},
   "outputs": [],
   "source": [
    "trainingdata, testingdata, y_train, y_test = train_test_split(above50[\"body\"], above50[\"subreddit\"], test_size = 1/5, random_state = 0)"
   ]
  },
  {
   "cell_type": "code",
   "execution_count": 44,
   "metadata": {},
   "outputs": [
    {
     "data": {
      "text/plain": [
       "50689"
      ]
     },
     "execution_count": 44,
     "metadata": {},
     "output_type": "execute_result"
    }
   ],
   "source": [
    "len(trainingdata)"
   ]
  },
  {
   "cell_type": "code",
   "execution_count": 45,
   "metadata": {},
   "outputs": [
    {
     "data": {
      "text/plain": [
       "12673"
      ]
     },
     "execution_count": 45,
     "metadata": {},
     "output_type": "execute_result"
    }
   ],
   "source": [
    "len(testingdata)"
   ]
  },
  {
   "cell_type": "code",
   "execution_count": 46,
   "metadata": {},
   "outputs": [],
   "source": [
    "vectorizer = TfidfVectorizer(min_df=2)\n",
    "trainingfit = vectorizer.fit_transform(trainingdata)\n",
    "testingfit = vectorizer.transform(testingdata)"
   ]
  },
  {
   "cell_type": "markdown",
   "metadata": {},
   "source": [
    "<p>Now vectorize the data since we are dealing with text, and then train a Bayes' classifier.</p>"
   ]
  },
  {
   "cell_type": "code",
   "execution_count": 47,
   "metadata": {},
   "outputs": [
    {
     "data": {
      "text/plain": [
       "MultinomialNB(alpha=1.0, class_prior=None, fit_prior=True)"
      ]
     },
     "execution_count": 47,
     "metadata": {},
     "output_type": "execute_result"
    }
   ],
   "source": [
    "clf = MultinomialNB()\n",
    "clf.fit(trainingfit, y_train)"
   ]
  },
  {
   "cell_type": "code",
   "execution_count": 48,
   "metadata": {},
   "outputs": [],
   "source": [
    "y_pred = clf.predict(testingfit)\n",
    "cm = pd.crosstab(y_test, y_pred)"
   ]
  },
  {
   "cell_type": "code",
   "execution_count": 49,
   "metadata": {},
   "outputs": [
    {
     "data": {
      "image/png": "[encoded data removed]",
      "text/plain": [
       "<Figure size 432x288 with 2 Axes>"
      ]
     },
     "metadata": {
      "needs_background": "light"
     },
     "output_type": "display_data"
    }
   ],
   "source": [
    "sns.heatmap(cm, annot=True, fmt='d', square=True)\n",
    "plt.xlabel('Predicted')\n",
    "plt.ylabel('Actual Value')\n",
    "plt.show()"
   ]
  },
  {
   "cell_type": "code",
   "execution_count": 50,
   "metadata": {},
   "outputs": [
    {
     "data": {
      "text/plain": [
       "1236"
      ]
     },
     "execution_count": 50,
     "metadata": {},
     "output_type": "execute_result"
    }
   ],
   "source": [
    "len(cm)"
   ]
  },
  {
   "cell_type": "markdown",
   "metadata": {},
   "source": [
    "<p>I half expected this, a huge confusion matrix and everything, but oh boy! I did glance at the actual confusion matrix, but the thing is huge so I reduced it down to displaying the length for presentation purposes. I'm afraid to look, but let's see the accuracy!</p>"
   ]
  },
  {
   "cell_type": "code",
   "execution_count": 51,
   "metadata": {},
   "outputs": [
    {
     "data": {
      "text/plain": [
       "0.11520555511717825"
      ]
     },
     "execution_count": 51,
     "metadata": {},
     "output_type": "execute_result"
    }
   ],
   "source": [
    "sklearn.metrics.accuracy_score(y_test, y_pred)"
   ]
  },
  {
   "cell_type": "markdown",
   "metadata": {},
   "source": [
    "<p>11% Accuracy! That's an astronomical failure! We can do better than that. First, let's make our first variable change to be limited to a few subreddits.</p>"
   ]
  },
  {
   "cell_type": "code",
   "execution_count": 52,
   "metadata": {},
   "outputs": [],
   "source": [
    "targetsubreddits = [\"relationships\", \"todayilearned\", \"nba\", \"nfl\"]"
   ]
  },
  {
   "cell_type": "code",
   "execution_count": 53,
   "metadata": {},
   "outputs": [],
   "source": [
    "above50t = above50[above50.subreddit.isin(targetsubreddits)]"
   ]
  },
  {
   "cell_type": "code",
   "execution_count": 54,
   "metadata": {},
   "outputs": [],
   "source": [
    "trainingdata, testingdata, y_train, y_test = train_test_split(above50t[\"body\"], above50t[\"subreddit\"], test_size = 1/5, random_state = 0)"
   ]
  },
  {
   "cell_type": "code",
   "execution_count": 55,
   "metadata": {},
   "outputs": [
    {
     "data": {
      "text/plain": [
       "MultinomialNB(alpha=1.0, class_prior=None, fit_prior=True)"
      ]
     },
     "execution_count": 55,
     "metadata": {},
     "output_type": "execute_result"
    }
   ],
   "source": [
    "trainingfit = vectorizer.fit_transform(trainingdata)\n",
    "testingfit = vectorizer.transform(testingdata)\n",
    "clf = MultinomialNB()\n",
    "clf.fit(trainingfit, y_train)"
   ]
  },
  {
   "cell_type": "code",
   "execution_count": 56,
   "metadata": {},
   "outputs": [],
   "source": [
    "y_pred = clf.predict(testingfit)\n",
    "cm = pd.crosstab(y_test, y_pred)"
   ]
  },
  {
   "cell_type": "code",
   "execution_count": 57,
   "metadata": {},
   "outputs": [
    {
     "data": {
      "image/png": "[encoded data removed]",
      "text/plain": [
       "<Figure size 432x288 with 2 Axes>"
      ]
     },
     "metadata": {
      "needs_background": "light"
     },
     "output_type": "display_data"
    }
   ],
   "source": [
    "sns.heatmap(cm, annot=True, fmt='d', square=True)\n",
    "plt.xlabel('Predicted')\n",
    "plt.ylabel('Actual Value')\n",
    "plt.show()"
   ]
  },
  {
   "cell_type": "code",
   "execution_count": 58,
   "metadata": {},
   "outputs": [
    {
     "data": {
      "text/plain": [
       "0.6274271844660194"
      ]
     },
     "execution_count": 58,
     "metadata": {},
     "output_type": "execute_result"
    }
   ],
   "source": [
    "sklearn.metrics.accuracy_score(y_test, y_pred)"
   ]
  },
  {
   "cell_type": "code",
   "execution_count": 59,
   "metadata": {},
   "outputs": [
    {
     "data": {
      "text/plain": [
       "nba              1453\n",
       "nfl               819\n",
       "todayilearned     524\n",
       "relationships     496\n",
       "Name: subreddit, dtype: int64"
      ]
     },
     "execution_count": 59,
     "metadata": {},
     "output_type": "execute_result"
    }
   ],
   "source": [
    "y_train.value_counts()"
   ]
  },
  {
   "cell_type": "markdown",
   "metadata": {},
   "source": [
    "<p>Hmmm, Number of values seem to be creating a huge disparity in the results. I expected there to be confusion to be between NBA and nfl, but the fact that it is taking values from today I learned means something else is afoot. We did manage to reach 60% accuracy though. What happens if I cut out NBA though?</p>"
   ]
  },
  {
   "cell_type": "code",
   "execution_count": 60,
   "metadata": {},
   "outputs": [],
   "source": [
    "targetsubreddits = [\"relationships\", \"todayilearned\", \"nfl\"]\n",
    "above50t = above50[above50.subreddit.isin(targetsubreddits)]\n",
    "trainingdata, testingdata, y_train, y_test = train_test_split(above50t[\"body\"], above50t[\"subreddit\"], test_size = 1/5, random_state = 0)\n",
    "vectorizer = TfidfVectorizer(min_df=2)\n",
    "trainingfit = vectorizer.fit_transform(trainingdata)\n",
    "testingfit = vectorizer.transform(testingdata)"
   ]
  },
  {
   "cell_type": "code",
   "execution_count": 61,
   "metadata": {},
   "outputs": [
    {
     "name": "stdout",
     "output_type": "stream",
     "text": [
      "1842\n",
      "461\n"
     ]
    }
   ],
   "source": [
    "print(len(trainingdata))\n",
    "print(len(testingdata))"
   ]
  },
  {
   "cell_type": "code",
   "execution_count": 62,
   "metadata": {},
   "outputs": [
    {
     "data": {
      "text/plain": [
       "MultinomialNB(alpha=1.0, class_prior=None, fit_prior=True)"
      ]
     },
     "execution_count": 62,
     "metadata": {},
     "output_type": "execute_result"
    }
   ],
   "source": [
    "clf = MultinomialNB()\n",
    "clf.fit(trainingfit, y_train)"
   ]
  },
  {
   "cell_type": "code",
   "execution_count": 63,
   "metadata": {},
   "outputs": [],
   "source": [
    "y_pred = clf.predict(testingfit)\n",
    "cm = pd.crosstab(y_test, y_pred)"
   ]
  },
  {
   "cell_type": "code",
   "execution_count": 64,
   "metadata": {},
   "outputs": [
    {
     "data": {
      "image/png": "[encoded data removed]",
      "text/plain": [
       "<Figure size 432x288 with 2 Axes>"
      ]
     },
     "metadata": {
      "needs_background": "light"
     },
     "output_type": "display_data"
    }
   ],
   "source": [
    "sns.heatmap(cm, annot=True, fmt='d', square=True)\n",
    "plt.xlabel('Predicted')\n",
    "plt.ylabel('Actual Value')\n",
    "plt.show()"
   ]
  },
  {
   "cell_type": "code",
   "execution_count": 65,
   "metadata": {},
   "outputs": [
    {
     "data": {
      "text/plain": [
       "0.7635574837310195"
      ]
     },
     "execution_count": 65,
     "metadata": {},
     "output_type": "execute_result"
    }
   ],
   "source": [
    "sklearn.metrics.accuracy_score(y_test, y_pred)"
   ]
  },
  {
   "cell_type": "markdown",
   "metadata": {},
   "source": [
    "<p>It seems like Today I learned uses a lot of language found in other subreddits. Not too surprising given the nature of that subreddit, but this may complicate things for the future. I will probably not use that one in my final classification challenge unless I figure out why it's happening this way. Accuracy went up about 14% when I removed NBA though. That's pretty good.</p>"
   ]
  },
  {
   "cell_type": "code",
   "execution_count": 66,
   "metadata": {},
   "outputs": [],
   "source": [
    "targetsubreddits = [\"relationships\", \"aww\", \"nfl\", \"nba\", \"PrequelMemes\"]\n",
    "above50t = above50[above50.subreddit.isin(targetsubreddits)]\n",
    "trainingdata, testingdata, y_train, y_test = train_test_split(above50t[\"body\"], above50t[\"subreddit\"], test_size = 1/5)\n",
    "vectorizer = TfidfVectorizer(min_df=2)\n",
    "trainingfit = vectorizer.fit_transform(trainingdata)\n",
    "testingfit = vectorizer.transform(testingdata)"
   ]
  },
  {
   "cell_type": "code",
   "execution_count": 67,
   "metadata": {},
   "outputs": [
    {
     "name": "stdout",
     "output_type": "stream",
     "text": [
      "3164\n",
      "791\n"
     ]
    }
   ],
   "source": [
    "print(len(trainingdata))\n",
    "print(len(testingdata))"
   ]
  },
  {
   "cell_type": "code",
   "execution_count": 68,
   "metadata": {},
   "outputs": [
    {
     "data": {
      "text/plain": [
       "MultinomialNB(alpha=1.0, class_prior=None, fit_prior=True)"
      ]
     },
     "execution_count": 68,
     "metadata": {},
     "output_type": "execute_result"
    }
   ],
   "source": [
    "clf = MultinomialNB()\n",
    "clf.fit(trainingfit, y_train)"
   ]
  },
  {
   "cell_type": "code",
   "execution_count": 69,
   "metadata": {},
   "outputs": [],
   "source": [
    "y_pred = clf.predict(testingfit)\n",
    "cm = pd.crosstab(y_test, y_pred)"
   ]
  },
  {
   "cell_type": "code",
   "execution_count": 70,
   "metadata": {},
   "outputs": [
    {
     "data": {
      "image/png": "[encoded data removed]",
      "text/plain": [
       "<Figure size 432x288 with 2 Axes>"
      ]
     },
     "metadata": {
      "needs_background": "light"
     },
     "output_type": "display_data"
    }
   ],
   "source": [
    "sns.heatmap(cm, annot=True, fmt='d', square=True)\n",
    "plt.xlabel('Predicted')\n",
    "plt.ylabel('Actual Value')\n",
    "plt.show()"
   ]
  },
  {
   "cell_type": "markdown",
   "metadata": {},
   "source": [
    "<p>Here, it seems the classifier cannot even predict r/PrequelMemes, and only identified one post from r/aww. I'm having trouble deciding what subreddits to pick because of this.</p>"
   ]
  },
  {
   "cell_type": "code",
   "execution_count": 71,
   "metadata": {},
   "outputs": [
    {
     "data": {
      "text/plain": [
       "0.6359039190897599"
      ]
     },
     "execution_count": 71,
     "metadata": {},
     "output_type": "execute_result"
    }
   ],
   "source": [
    "sklearn.metrics.accuracy_score(y_test, y_pred)"
   ]
  },
  {
   "cell_type": "code",
   "execution_count": 72,
   "metadata": {},
   "outputs": [
    {
     "data": {
      "text/plain": [
       "0.4584070796460177"
      ]
     },
     "execution_count": 72,
     "metadata": {},
     "output_type": "execute_result"
    }
   ],
   "source": [
    "len(above50t[above50t.subreddit == \"nba\"]) / len(above50t)"
   ]
  },
  {
   "cell_type": "markdown",
   "metadata": {},
   "source": [
    "<p>62% accuracy despite misclassifying two whole categories. Given that this is greater than the percentage of nba posts in general, this isn't bad. I'll try Support Vectors since that seemed to be the best one on homework 3. We already have the data so we can just restart the machine learning part.</p>"
   ]
  },
  {
   "cell_type": "code",
   "execution_count": 73,
   "metadata": {},
   "outputs": [],
   "source": [
    "vectorizer = TfidfVectorizer(min_df=2)\n",
    "trainingfit = vectorizer.fit_transform(trainingdata)\n",
    "testingfit = vectorizer.transform(testingdata)"
   ]
  },
  {
   "cell_type": "code",
   "execution_count": 74,
   "metadata": {},
   "outputs": [
    {
     "data": {
      "text/plain": [
       "SVC(C=100000.0, cache_size=200, class_weight=None, coef0=0.0,\n",
       "  decision_function_shape='ovr', degree=3, gamma='auto_deprecated',\n",
       "  kernel='linear', max_iter=-1, probability=False, random_state=None,\n",
       "  shrinking=True, tol=0.001, verbose=False)"
      ]
     },
     "execution_count": 74,
     "metadata": {},
     "output_type": "execute_result"
    }
   ],
   "source": [
    "svd = SVC(kernel='linear', C=1E5)\n",
    "svd.fit(trainingfit, y_train)"
   ]
  },
  {
   "cell_type": "code",
   "execution_count": 75,
   "metadata": {},
   "outputs": [
    {
     "data": {
      "text/html": [
       "<div>\n",
       "<style scoped>\n",
       "    .dataframe tbody tr th:only-of-type {\n",
       "        vertical-align: middle;\n",
       "    }\n",
       "\n",
       "    .dataframe tbody tr th {\n",
       "        vertical-align: top;\n",
       "    }\n",
       "\n",
       "    .dataframe thead th {\n",
       "        text-align: right;\n",
       "    }\n",
       "</style>\n",
       "<table border=\"1\" class=\"dataframe\">\n",
       "  <thead>\n",
       "    <tr style=\"text-align: right;\">\n",
       "      <th>col_0</th>\n",
       "      <th>PrequelMemes</th>\n",
       "      <th>aww</th>\n",
       "      <th>nba</th>\n",
       "      <th>nfl</th>\n",
       "      <th>relationships</th>\n",
       "    </tr>\n",
       "    <tr>\n",
       "      <th>subreddit</th>\n",
       "      <th></th>\n",
       "      <th></th>\n",
       "      <th></th>\n",
       "      <th></th>\n",
       "      <th></th>\n",
       "    </tr>\n",
       "  </thead>\n",
       "  <tbody>\n",
       "    <tr>\n",
       "      <th>PrequelMemes</th>\n",
       "      <td>8</td>\n",
       "      <td>2</td>\n",
       "      <td>7</td>\n",
       "      <td>5</td>\n",
       "      <td>3</td>\n",
       "    </tr>\n",
       "    <tr>\n",
       "      <th>aww</th>\n",
       "      <td>7</td>\n",
       "      <td>31</td>\n",
       "      <td>27</td>\n",
       "      <td>9</td>\n",
       "      <td>9</td>\n",
       "    </tr>\n",
       "    <tr>\n",
       "      <th>nba</th>\n",
       "      <td>3</td>\n",
       "      <td>30</td>\n",
       "      <td>261</td>\n",
       "      <td>39</td>\n",
       "      <td>9</td>\n",
       "    </tr>\n",
       "    <tr>\n",
       "      <th>nfl</th>\n",
       "      <td>1</td>\n",
       "      <td>14</td>\n",
       "      <td>70</td>\n",
       "      <td>117</td>\n",
       "      <td>2</td>\n",
       "    </tr>\n",
       "    <tr>\n",
       "      <th>relationships</th>\n",
       "      <td>1</td>\n",
       "      <td>7</td>\n",
       "      <td>10</td>\n",
       "      <td>7</td>\n",
       "      <td>112</td>\n",
       "    </tr>\n",
       "  </tbody>\n",
       "</table>\n",
       "</div>"
      ],
      "text/plain": [
       "col_0          PrequelMemes  aww  nba  nfl  relationships\n",
       "subreddit                                                \n",
       "PrequelMemes              8    2    7    5              3\n",
       "aww                       7   31   27    9              9\n",
       "nba                       3   30  261   39              9\n",
       "nfl                       1   14   70  117              2\n",
       "relationships             1    7   10    7            112"
      ]
     },
     "execution_count": 75,
     "metadata": {},
     "output_type": "execute_result"
    }
   ],
   "source": [
    "y_pred = svd.predict(testingfit)\n",
    "cm = pd.crosstab(y_test, y_pred)\n",
    "cm"
   ]
  },
  {
   "cell_type": "code",
   "execution_count": 76,
   "metadata": {},
   "outputs": [
    {
     "data": {
      "image/png": "[encoded data removed]",
      "text/plain": [
       "<Figure size 432x288 with 2 Axes>"
      ]
     },
     "metadata": {
      "needs_background": "light"
     },
     "output_type": "display_data"
    }
   ],
   "source": [
    "sns.heatmap(cm, annot=True, fmt='d', square=True)\n",
    "plt.xlabel('Predicted')\n",
    "plt.ylabel('Actual Value')\n",
    "plt.show()"
   ]
  },
  {
   "cell_type": "markdown",
   "metadata": {},
   "source": [
    "<p>Wow! That Worked So much better! r/Aww and r/PrequelMemes are still shafted a little, but we're definitely making progress! Also, I could probably have made the repeats above into a function, but I only realized that after writing the above. Accuracy please!</p>"
   ]
  },
  {
   "cell_type": "code",
   "execution_count": 77,
   "metadata": {},
   "outputs": [
    {
     "data": {
      "text/plain": [
       "0.6687737041719343"
      ]
     },
     "execution_count": 77,
     "metadata": {},
     "output_type": "execute_result"
    }
   ],
   "source": [
    "sklearn.metrics.accuracy_score(y_test, y_pred)"
   ]
  },
  {
   "cell_type": "markdown",
   "metadata": {},
   "source": [
    "<p>5% Increase! Not bad, as it means I'm getting somewhere. I'll have to figure out what other features I can use to help identify the subreddit. Flair text might help slightly, since flairs are styled by subreddit if I remember correctly, but not every commentor has a flair. I honestly don't know if score would help, I'll learn how to combine different features with the textual ones for progress report 3.</p>"
   ]
  },
  {
   "cell_type": "markdown",
   "metadata": {},
   "source": [
    "<a id=\"conc\"></a><h2>Conclusion and Publishing Samples[<a href=\"#tablecontent\">TOC</a>]</h2>\n",
    "<p>I've still got quite a ways to go on this project. I don't have a solid list just yet, but I will more than likely try to include most of the subreddits used in the machine learning section. What I do know:\n",
    "    <ul>\n",
    "        <li>One sports-related subreddit will be definitely used, since sports are a major topic.</li>\n",
    "        <li>relationships will stay since it seems to be easy to work with.</li>\n",
    "        <li>I will try to use PrequelMemes since I like that subreddit.</li>\n",
    "        <li>I might not use AskReddit, it has a disporportiante amount of data, and that subreddit can be used to discuss almost anything, so it might prove to be one of the most difficult subreddits to classify correctly.</li>\n",
    "        <li>I'll try to keep aww since it does present some challenge, but if I remove it, I'll try another animal related subreddit.</li>\n",
    "        <li>I will use subreddits with similar comment counts to the ones above to keep the data counts as similar as possible.</li>\n",
    "    </ul>\n",
    "<p>I suppose I'll publish some samples. I'll publish them in both json andp csv format. The json to keep it in the original format for programming purposes, and the csv for those who just want to look through it using excel or viewing on github. Since I haven't solidified the list, I'll keep to just the above50 frame for now. In Phase 3, I'll have a solidified list for sure.</p>\n",
    "<p>As for machine learning, I'll have to figure out a better feature approach to identifying the subreddits. Just the text by itself is not enough in a sizable amount of cases. As I suspected, the comments between some subreddits share some common vocabulary choices. If I could somehow reach 90% accuracy, that would be nice.</p>"
   ]
  },
  {
   "cell_type": "code",
   "execution_count": 80,
   "metadata": {},
   "outputs": [],
   "source": [
    "sampleframe = above50.sample(30000)"
   ]
  },
  {
   "cell_type": "code",
   "execution_count": 100,
   "metadata": {},
   "outputs": [],
   "source": [
    "sampleframe.to_json(\"../data_samples/30000Above50Samples.json\", orient=\"records\")"
   ]
  },
  {
   "cell_type": "code",
   "execution_count": 96,
   "metadata": {},
   "outputs": [
    {
     "data": {
      "text/html": [
       "<div>\n",
       "<style scoped>\n",
       "    .dataframe tbody tr th:only-of-type {\n",
       "        vertical-align: middle;\n",
       "    }\n",
       "\n",
       "    .dataframe tbody tr th {\n",
       "        vertical-align: top;\n",
       "    }\n",
       "\n",
       "    .dataframe thead th {\n",
       "        text-align: right;\n",
       "    }\n",
       "</style>\n",
       "<table border=\"1\" class=\"dataframe\">\n",
       "  <thead>\n",
       "    <tr style=\"text-align: right;\">\n",
       "      <th></th>\n",
       "      <th>author</th>\n",
       "      <th>author_cakeday</th>\n",
       "      <th>author_flair_css_class</th>\n",
       "      <th>author_flair_text</th>\n",
       "      <th>body</th>\n",
       "      <th>can_gild</th>\n",
       "      <th>controversiality</th>\n",
       "      <th>distinguished</th>\n",
       "      <th>gilded</th>\n",
       "      <th>id</th>\n",
       "      <th>is_submitter</th>\n",
       "      <th>link_id</th>\n",
       "      <th>parent_id</th>\n",
       "      <th>permalink</th>\n",
       "      <th>score</th>\n",
       "      <th>stickied</th>\n",
       "      <th>subreddit</th>\n",
       "      <th>subreddit_id</th>\n",
       "      <th>subreddit_type</th>\n",
       "    </tr>\n",
       "  </thead>\n",
       "  <tbody>\n",
       "    <tr>\n",
       "      <th>465176</th>\n",
       "      <td>lhubbard0</td>\n",
       "      <td>0.0</td>\n",
       "      <td>Pacers2</td>\n",
       "      <td>[IND] Victor Oladipo</td>\n",
       "      <td>ASS+</td>\n",
       "      <td>True</td>\n",
       "      <td>0</td>\n",
       "      <td>none</td>\n",
       "      <td>0</td>\n",
       "      <td>drjz5t6</td>\n",
       "      <td>False</td>\n",
       "      <td>t3_7l6hb4</td>\n",
       "      <td>t1_drjy46g</td>\n",
       "      <td>/r/nba/comments/7l6hb4/clippers_danilo_gallina...</td>\n",
       "      <td>105</td>\n",
       "      <td>False</td>\n",
       "      <td>nba</td>\n",
       "      <td>t5_2qo4s</td>\n",
       "      <td>public</td>\n",
       "    </tr>\n",
       "    <tr>\n",
       "      <th>2125807</th>\n",
       "      <td>JiveTurkey1000</td>\n",
       "      <td>0.0</td>\n",
       "      <td>none</td>\n",
       "      <td>none</td>\n",
       "      <td>Somehow the McPoyles are worse off after the g...</td>\n",
       "      <td>True</td>\n",
       "      <td>0</td>\n",
       "      <td>none</td>\n",
       "      <td>0</td>\n",
       "      <td>drl1h08</td>\n",
       "      <td>False</td>\n",
       "      <td>t3_7l9nkm</td>\n",
       "      <td>t1_drl13ja</td>\n",
       "      <td>/r/AskReddit/comments/7l9nkm/what_tv_series_in...</td>\n",
       "      <td>81</td>\n",
       "      <td>False</td>\n",
       "      <td>AskReddit</td>\n",
       "      <td>t5_2qh1i</td>\n",
       "      <td>public</td>\n",
       "    </tr>\n",
       "    <tr>\n",
       "      <th>2628295</th>\n",
       "      <td>imnotarobot1010</td>\n",
       "      <td>0.0</td>\n",
       "      <td>none</td>\n",
       "      <td>none</td>\n",
       "      <td>There's a book called \"Far from the Tree\" (I t...</td>\n",
       "      <td>True</td>\n",
       "      <td>0</td>\n",
       "      <td>none</td>\n",
       "      <td>0</td>\n",
       "      <td>drld36k</td>\n",
       "      <td>False</td>\n",
       "      <td>t3_7lbbku</td>\n",
       "      <td>t3_7lbbku</td>\n",
       "      <td>/r/relationships/comments/7lbbku/my_17m_sister...</td>\n",
       "      <td>140</td>\n",
       "      <td>False</td>\n",
       "      <td>relationships</td>\n",
       "      <td>t5_2qjvn</td>\n",
       "      <td>public</td>\n",
       "    </tr>\n",
       "    <tr>\n",
       "      <th>662751</th>\n",
       "      <td>Granny__Danger</td>\n",
       "      <td>0.0</td>\n",
       "      <td>Timberwolves5</td>\n",
       "      <td>Timberwolves</td>\n",
       "      <td>Do you think their net rating would be better ...</td>\n",
       "      <td>True</td>\n",
       "      <td>0</td>\n",
       "      <td>none</td>\n",
       "      <td>0</td>\n",
       "      <td>drk3qja</td>\n",
       "      <td>False</td>\n",
       "      <td>t3_7l5pzm</td>\n",
       "      <td>t1_drjqtsy</td>\n",
       "      <td>/r/nba/comments/7l5pzm/anthony_forgotten_davis...</td>\n",
       "      <td>52</td>\n",
       "      <td>False</td>\n",
       "      <td>nba</td>\n",
       "      <td>t5_2qo4s</td>\n",
       "      <td>public</td>\n",
       "    </tr>\n",
       "    <tr>\n",
       "      <th>1589501</th>\n",
       "      <td>_RarkGrames_</td>\n",
       "      <td>0.0</td>\n",
       "      <td>none</td>\n",
       "      <td>none</td>\n",
       "      <td>Maisie Williams.</td>\n",
       "      <td>True</td>\n",
       "      <td>0</td>\n",
       "      <td>none</td>\n",
       "      <td>0</td>\n",
       "      <td>drkp52r</td>\n",
       "      <td>False</td>\n",
       "      <td>t3_7l9ycr</td>\n",
       "      <td>t3_7l9ycr</td>\n",
       "      <td>/r/AskReddit/comments/7l9ycr/what_hot_celebrit...</td>\n",
       "      <td>62</td>\n",
       "      <td>False</td>\n",
       "      <td>AskReddit</td>\n",
       "      <td>t5_2qh1i</td>\n",
       "      <td>public</td>\n",
       "    </tr>\n",
       "  </tbody>\n",
       "</table>\n",
       "</div>"
      ],
      "text/plain": [
       "                  author  author_cakeday author_flair_css_class  \\\n",
       "465176         lhubbard0             0.0                Pacers2   \n",
       "2125807   JiveTurkey1000             0.0                   none   \n",
       "2628295  imnotarobot1010             0.0                   none   \n",
       "662751    Granny__Danger             0.0          Timberwolves5   \n",
       "1589501     _RarkGrames_             0.0                   none   \n",
       "\n",
       "            author_flair_text  \\\n",
       "465176   [IND] Victor Oladipo   \n",
       "2125807                  none   \n",
       "2628295                  none   \n",
       "662751           Timberwolves   \n",
       "1589501                  none   \n",
       "\n",
       "                                                      body  can_gild  \\\n",
       "465176                                                ASS+      True   \n",
       "2125807  Somehow the McPoyles are worse off after the g...      True   \n",
       "2628295  There's a book called \"Far from the Tree\" (I t...      True   \n",
       "662751   Do you think their net rating would be better ...      True   \n",
       "1589501                                   Maisie Williams.      True   \n",
       "\n",
       "         controversiality distinguished  gilded       id  is_submitter  \\\n",
       "465176                  0          none       0  drjz5t6         False   \n",
       "2125807                 0          none       0  drl1h08         False   \n",
       "2628295                 0          none       0  drld36k         False   \n",
       "662751                  0          none       0  drk3qja         False   \n",
       "1589501                 0          none       0  drkp52r         False   \n",
       "\n",
       "           link_id   parent_id  \\\n",
       "465176   t3_7l6hb4  t1_drjy46g   \n",
       "2125807  t3_7l9nkm  t1_drl13ja   \n",
       "2628295  t3_7lbbku   t3_7lbbku   \n",
       "662751   t3_7l5pzm  t1_drjqtsy   \n",
       "1589501  t3_7l9ycr   t3_7l9ycr   \n",
       "\n",
       "                                                 permalink  score  stickied  \\\n",
       "465176   /r/nba/comments/7l6hb4/clippers_danilo_gallina...    105     False   \n",
       "2125807  /r/AskReddit/comments/7l9nkm/what_tv_series_in...     81     False   \n",
       "2628295  /r/relationships/comments/7lbbku/my_17m_sister...    140     False   \n",
       "662751   /r/nba/comments/7l5pzm/anthony_forgotten_davis...     52     False   \n",
       "1589501  /r/AskReddit/comments/7l9ycr/what_hot_celebrit...     62     False   \n",
       "\n",
       "             subreddit subreddit_id subreddit_type  \n",
       "465176             nba     t5_2qo4s         public  \n",
       "2125807      AskReddit     t5_2qh1i         public  \n",
       "2628295  relationships     t5_2qjvn         public  \n",
       "662751             nba     t5_2qo4s         public  \n",
       "1589501      AskReddit     t5_2qh1i         public  "
      ]
     },
     "execution_count": 96,
     "metadata": {},
     "output_type": "execute_result"
    }
   ],
   "source": [
    "sampleframe.head()"
   ]
  },
  {
   "cell_type": "code",
   "execution_count": 97,
   "metadata": {},
   "outputs": [],
   "source": [
    "jsonframe = pd.read_json(\"../data_samples/30000Above50Samples.json\")"
   ]
  },
  {
   "cell_type": "code",
   "execution_count": 98,
   "metadata": {},
   "outputs": [
    {
     "data": {
      "text/html": [
       "<div>\n",
       "<style scoped>\n",
       "    .dataframe tbody tr th:only-of-type {\n",
       "        vertical-align: middle;\n",
       "    }\n",
       "\n",
       "    .dataframe tbody tr th {\n",
       "        vertical-align: top;\n",
       "    }\n",
       "\n",
       "    .dataframe thead th {\n",
       "        text-align: right;\n",
       "    }\n",
       "</style>\n",
       "<table border=\"1\" class=\"dataframe\">\n",
       "  <thead>\n",
       "    <tr style=\"text-align: right;\">\n",
       "      <th></th>\n",
       "      <th>author</th>\n",
       "      <th>author_cakeday</th>\n",
       "      <th>author_flair_css_class</th>\n",
       "      <th>author_flair_text</th>\n",
       "      <th>body</th>\n",
       "      <th>can_gild</th>\n",
       "      <th>controversiality</th>\n",
       "      <th>distinguished</th>\n",
       "      <th>gilded</th>\n",
       "      <th>id</th>\n",
       "      <th>is_submitter</th>\n",
       "      <th>link_id</th>\n",
       "      <th>parent_id</th>\n",
       "      <th>permalink</th>\n",
       "      <th>score</th>\n",
       "      <th>stickied</th>\n",
       "      <th>subreddit</th>\n",
       "      <th>subreddit_id</th>\n",
       "      <th>subreddit_type</th>\n",
       "    </tr>\n",
       "  </thead>\n",
       "  <tbody>\n",
       "    <tr>\n",
       "      <th>0</th>\n",
       "      <td>lhubbard0</td>\n",
       "      <td>0</td>\n",
       "      <td>Pacers2</td>\n",
       "      <td>[IND] Victor Oladipo</td>\n",
       "      <td>ASS+</td>\n",
       "      <td>True</td>\n",
       "      <td>0</td>\n",
       "      <td>none</td>\n",
       "      <td>0</td>\n",
       "      <td>drjz5t6</td>\n",
       "      <td>False</td>\n",
       "      <td>t3_7l6hb4</td>\n",
       "      <td>t1_drjy46g</td>\n",
       "      <td>/r/nba/comments/7l6hb4/clippers_danilo_gallina...</td>\n",
       "      <td>105</td>\n",
       "      <td>False</td>\n",
       "      <td>nba</td>\n",
       "      <td>t5_2qo4s</td>\n",
       "      <td>public</td>\n",
       "    </tr>\n",
       "    <tr>\n",
       "      <th>1</th>\n",
       "      <td>JiveTurkey1000</td>\n",
       "      <td>0</td>\n",
       "      <td>none</td>\n",
       "      <td>none</td>\n",
       "      <td>Somehow the McPoyles are worse off after the g...</td>\n",
       "      <td>True</td>\n",
       "      <td>0</td>\n",
       "      <td>none</td>\n",
       "      <td>0</td>\n",
       "      <td>drl1h08</td>\n",
       "      <td>False</td>\n",
       "      <td>t3_7l9nkm</td>\n",
       "      <td>t1_drl13ja</td>\n",
       "      <td>/r/AskReddit/comments/7l9nkm/what_tv_series_in...</td>\n",
       "      <td>81</td>\n",
       "      <td>False</td>\n",
       "      <td>AskReddit</td>\n",
       "      <td>t5_2qh1i</td>\n",
       "      <td>public</td>\n",
       "    </tr>\n",
       "    <tr>\n",
       "      <th>2</th>\n",
       "      <td>imnotarobot1010</td>\n",
       "      <td>0</td>\n",
       "      <td>none</td>\n",
       "      <td>none</td>\n",
       "      <td>There's a book called \"Far from the Tree\" (I t...</td>\n",
       "      <td>True</td>\n",
       "      <td>0</td>\n",
       "      <td>none</td>\n",
       "      <td>0</td>\n",
       "      <td>drld36k</td>\n",
       "      <td>False</td>\n",
       "      <td>t3_7lbbku</td>\n",
       "      <td>t3_7lbbku</td>\n",
       "      <td>/r/relationships/comments/7lbbku/my_17m_sister...</td>\n",
       "      <td>140</td>\n",
       "      <td>False</td>\n",
       "      <td>relationships</td>\n",
       "      <td>t5_2qjvn</td>\n",
       "      <td>public</td>\n",
       "    </tr>\n",
       "    <tr>\n",
       "      <th>3</th>\n",
       "      <td>Granny__Danger</td>\n",
       "      <td>0</td>\n",
       "      <td>Timberwolves5</td>\n",
       "      <td>Timberwolves</td>\n",
       "      <td>Do you think their net rating would be better ...</td>\n",
       "      <td>True</td>\n",
       "      <td>0</td>\n",
       "      <td>none</td>\n",
       "      <td>0</td>\n",
       "      <td>drk3qja</td>\n",
       "      <td>False</td>\n",
       "      <td>t3_7l5pzm</td>\n",
       "      <td>t1_drjqtsy</td>\n",
       "      <td>/r/nba/comments/7l5pzm/anthony_forgotten_davis...</td>\n",
       "      <td>52</td>\n",
       "      <td>False</td>\n",
       "      <td>nba</td>\n",
       "      <td>t5_2qo4s</td>\n",
       "      <td>public</td>\n",
       "    </tr>\n",
       "    <tr>\n",
       "      <th>4</th>\n",
       "      <td>_RarkGrames_</td>\n",
       "      <td>0</td>\n",
       "      <td>none</td>\n",
       "      <td>none</td>\n",
       "      <td>Maisie Williams.</td>\n",
       "      <td>True</td>\n",
       "      <td>0</td>\n",
       "      <td>none</td>\n",
       "      <td>0</td>\n",
       "      <td>drkp52r</td>\n",
       "      <td>False</td>\n",
       "      <td>t3_7l9ycr</td>\n",
       "      <td>t3_7l9ycr</td>\n",
       "      <td>/r/AskReddit/comments/7l9ycr/what_hot_celebrit...</td>\n",
       "      <td>62</td>\n",
       "      <td>False</td>\n",
       "      <td>AskReddit</td>\n",
       "      <td>t5_2qh1i</td>\n",
       "      <td>public</td>\n",
       "    </tr>\n",
       "  </tbody>\n",
       "</table>\n",
       "</div>"
      ],
      "text/plain": [
       "            author  author_cakeday author_flair_css_class  \\\n",
       "0        lhubbard0               0                Pacers2   \n",
       "1   JiveTurkey1000               0                   none   \n",
       "2  imnotarobot1010               0                   none   \n",
       "3   Granny__Danger               0          Timberwolves5   \n",
       "4     _RarkGrames_               0                   none   \n",
       "\n",
       "      author_flair_text                                               body  \\\n",
       "0  [IND] Victor Oladipo                                               ASS+   \n",
       "1                  none  Somehow the McPoyles are worse off after the g...   \n",
       "2                  none  There's a book called \"Far from the Tree\" (I t...   \n",
       "3          Timberwolves  Do you think their net rating would be better ...   \n",
       "4                  none                                   Maisie Williams.   \n",
       "\n",
       "   can_gild  controversiality distinguished  gilded       id  is_submitter  \\\n",
       "0      True                 0          none       0  drjz5t6         False   \n",
       "1      True                 0          none       0  drl1h08         False   \n",
       "2      True                 0          none       0  drld36k         False   \n",
       "3      True                 0          none       0  drk3qja         False   \n",
       "4      True                 0          none       0  drkp52r         False   \n",
       "\n",
       "     link_id   parent_id                                          permalink  \\\n",
       "0  t3_7l6hb4  t1_drjy46g  /r/nba/comments/7l6hb4/clippers_danilo_gallina...   \n",
       "1  t3_7l9nkm  t1_drl13ja  /r/AskReddit/comments/7l9nkm/what_tv_series_in...   \n",
       "2  t3_7lbbku   t3_7lbbku  /r/relationships/comments/7lbbku/my_17m_sister...   \n",
       "3  t3_7l5pzm  t1_drjqtsy  /r/nba/comments/7l5pzm/anthony_forgotten_davis...   \n",
       "4  t3_7l9ycr   t3_7l9ycr  /r/AskReddit/comments/7l9ycr/what_hot_celebrit...   \n",
       "\n",
       "   score  stickied      subreddit subreddit_id subreddit_type  \n",
       "0    105     False            nba     t5_2qo4s         public  \n",
       "1     81     False      AskReddit     t5_2qh1i         public  \n",
       "2    140     False  relationships     t5_2qjvn         public  \n",
       "3     52     False            nba     t5_2qo4s         public  \n",
       "4     62     False      AskReddit     t5_2qh1i         public  "
      ]
     },
     "execution_count": 98,
     "metadata": {},
     "output_type": "execute_result"
    }
   ],
   "source": [
    "jsonframe.head()"
   ]
  },
  {
   "cell_type": "markdown",
   "metadata": {},
   "source": [
    "<p>The index is not preserved (not that it really matters, it's probably better this way), but otherwise, our data is saved as a json object. I will also publish a csv for those who just to peruse the data with a spreadsheet viewer. I'll also reuse the throwaway frame to save memory.</p>"
   ]
  },
  {
   "cell_type": "code",
   "execution_count": 105,
   "metadata": {},
   "outputs": [],
   "source": [
    "sampleframe.to_csv(\"../data_samples/30000Above50Samples.csv\", index=False)"
   ]
  },
  {
   "cell_type": "code",
   "execution_count": 106,
   "metadata": {},
   "outputs": [],
   "source": [
    "jsonframe = pd.read_csv(\"../data_samples/30000Above50Samples.csv\")"
   ]
  },
  {
   "cell_type": "code",
   "execution_count": 107,
   "metadata": {},
   "outputs": [
    {
     "data": {
      "text/html": [
       "<div>\n",
       "<style scoped>\n",
       "    .dataframe tbody tr th:only-of-type {\n",
       "        vertical-align: middle;\n",
       "    }\n",
       "\n",
       "    .dataframe tbody tr th {\n",
       "        vertical-align: top;\n",
       "    }\n",
       "\n",
       "    .dataframe thead th {\n",
       "        text-align: right;\n",
       "    }\n",
       "</style>\n",
       "<table border=\"1\" class=\"dataframe\">\n",
       "  <thead>\n",
       "    <tr style=\"text-align: right;\">\n",
       "      <th></th>\n",
       "      <th>author</th>\n",
       "      <th>author_cakeday</th>\n",
       "      <th>author_flair_css_class</th>\n",
       "      <th>author_flair_text</th>\n",
       "      <th>body</th>\n",
       "      <th>can_gild</th>\n",
       "      <th>controversiality</th>\n",
       "      <th>distinguished</th>\n",
       "      <th>gilded</th>\n",
       "      <th>id</th>\n",
       "      <th>is_submitter</th>\n",
       "      <th>link_id</th>\n",
       "      <th>parent_id</th>\n",
       "      <th>permalink</th>\n",
       "      <th>score</th>\n",
       "      <th>stickied</th>\n",
       "      <th>subreddit</th>\n",
       "      <th>subreddit_id</th>\n",
       "      <th>subreddit_type</th>\n",
       "    </tr>\n",
       "  </thead>\n",
       "  <tbody>\n",
       "    <tr>\n",
       "      <th>0</th>\n",
       "      <td>lhubbard0</td>\n",
       "      <td>0.0</td>\n",
       "      <td>Pacers2</td>\n",
       "      <td>[IND] Victor Oladipo</td>\n",
       "      <td>ASS+</td>\n",
       "      <td>True</td>\n",
       "      <td>0</td>\n",
       "      <td>none</td>\n",
       "      <td>0</td>\n",
       "      <td>drjz5t6</td>\n",
       "      <td>False</td>\n",
       "      <td>t3_7l6hb4</td>\n",
       "      <td>t1_drjy46g</td>\n",
       "      <td>/r/nba/comments/7l6hb4/clippers_danilo_gallina...</td>\n",
       "      <td>105</td>\n",
       "      <td>False</td>\n",
       "      <td>nba</td>\n",
       "      <td>t5_2qo4s</td>\n",
       "      <td>public</td>\n",
       "    </tr>\n",
       "    <tr>\n",
       "      <th>1</th>\n",
       "      <td>JiveTurkey1000</td>\n",
       "      <td>0.0</td>\n",
       "      <td>none</td>\n",
       "      <td>none</td>\n",
       "      <td>Somehow the McPoyles are worse off after the g...</td>\n",
       "      <td>True</td>\n",
       "      <td>0</td>\n",
       "      <td>none</td>\n",
       "      <td>0</td>\n",
       "      <td>drl1h08</td>\n",
       "      <td>False</td>\n",
       "      <td>t3_7l9nkm</td>\n",
       "      <td>t1_drl13ja</td>\n",
       "      <td>/r/AskReddit/comments/7l9nkm/what_tv_series_in...</td>\n",
       "      <td>81</td>\n",
       "      <td>False</td>\n",
       "      <td>AskReddit</td>\n",
       "      <td>t5_2qh1i</td>\n",
       "      <td>public</td>\n",
       "    </tr>\n",
       "    <tr>\n",
       "      <th>2</th>\n",
       "      <td>imnotarobot1010</td>\n",
       "      <td>0.0</td>\n",
       "      <td>none</td>\n",
       "      <td>none</td>\n",
       "      <td>There's a book called \"Far from the Tree\" (I t...</td>\n",
       "      <td>True</td>\n",
       "      <td>0</td>\n",
       "      <td>none</td>\n",
       "      <td>0</td>\n",
       "      <td>drld36k</td>\n",
       "      <td>False</td>\n",
       "      <td>t3_7lbbku</td>\n",
       "      <td>t3_7lbbku</td>\n",
       "      <td>/r/relationships/comments/7lbbku/my_17m_sister...</td>\n",
       "      <td>140</td>\n",
       "      <td>False</td>\n",
       "      <td>relationships</td>\n",
       "      <td>t5_2qjvn</td>\n",
       "      <td>public</td>\n",
       "    </tr>\n",
       "    <tr>\n",
       "      <th>3</th>\n",
       "      <td>Granny__Danger</td>\n",
       "      <td>0.0</td>\n",
       "      <td>Timberwolves5</td>\n",
       "      <td>Timberwolves</td>\n",
       "      <td>Do you think their net rating would be better ...</td>\n",
       "      <td>True</td>\n",
       "      <td>0</td>\n",
       "      <td>none</td>\n",
       "      <td>0</td>\n",
       "      <td>drk3qja</td>\n",
       "      <td>False</td>\n",
       "      <td>t3_7l5pzm</td>\n",
       "      <td>t1_drjqtsy</td>\n",
       "      <td>/r/nba/comments/7l5pzm/anthony_forgotten_davis...</td>\n",
       "      <td>52</td>\n",
       "      <td>False</td>\n",
       "      <td>nba</td>\n",
       "      <td>t5_2qo4s</td>\n",
       "      <td>public</td>\n",
       "    </tr>\n",
       "    <tr>\n",
       "      <th>4</th>\n",
       "      <td>_RarkGrames_</td>\n",
       "      <td>0.0</td>\n",
       "      <td>none</td>\n",
       "      <td>none</td>\n",
       "      <td>Maisie Williams.</td>\n",
       "      <td>True</td>\n",
       "      <td>0</td>\n",
       "      <td>none</td>\n",
       "      <td>0</td>\n",
       "      <td>drkp52r</td>\n",
       "      <td>False</td>\n",
       "      <td>t3_7l9ycr</td>\n",
       "      <td>t3_7l9ycr</td>\n",
       "      <td>/r/AskReddit/comments/7l9ycr/what_hot_celebrit...</td>\n",
       "      <td>62</td>\n",
       "      <td>False</td>\n",
       "      <td>AskReddit</td>\n",
       "      <td>t5_2qh1i</td>\n",
       "      <td>public</td>\n",
       "    </tr>\n",
       "  </tbody>\n",
       "</table>\n",
       "</div>"
      ],
      "text/plain": [
       "            author author_cakeday author_flair_css_class  \\\n",
       "0        lhubbard0            0.0                Pacers2   \n",
       "1   JiveTurkey1000            0.0                   none   \n",
       "2  imnotarobot1010            0.0                   none   \n",
       "3   Granny__Danger            0.0          Timberwolves5   \n",
       "4     _RarkGrames_            0.0                   none   \n",
       "\n",
       "      author_flair_text                                               body  \\\n",
       "0  [IND] Victor Oladipo                                               ASS+   \n",
       "1                  none  Somehow the McPoyles are worse off after the g...   \n",
       "2                  none  There's a book called \"Far from the Tree\" (I t...   \n",
       "3          Timberwolves  Do you think their net rating would be better ...   \n",
       "4                  none                                   Maisie Williams.   \n",
       "\n",
       "  can_gild controversiality distinguished gilded       id is_submitter  \\\n",
       "0     True                0          none      0  drjz5t6        False   \n",
       "1     True                0          none      0  drl1h08        False   \n",
       "2     True                0          none      0  drld36k        False   \n",
       "3     True                0          none      0  drk3qja        False   \n",
       "4     True                0          none      0  drkp52r        False   \n",
       "\n",
       "     link_id   parent_id                                          permalink  \\\n",
       "0  t3_7l6hb4  t1_drjy46g  /r/nba/comments/7l6hb4/clippers_danilo_gallina...   \n",
       "1  t3_7l9nkm  t1_drl13ja  /r/AskReddit/comments/7l9nkm/what_tv_series_in...   \n",
       "2  t3_7lbbku   t3_7lbbku  /r/relationships/comments/7lbbku/my_17m_sister...   \n",
       "3  t3_7l5pzm  t1_drjqtsy  /r/nba/comments/7l5pzm/anthony_forgotten_davis...   \n",
       "4  t3_7l9ycr   t3_7l9ycr  /r/AskReddit/comments/7l9ycr/what_hot_celebrit...   \n",
       "\n",
       "  score stickied      subreddit subreddit_id subreddit_type  \n",
       "0   105    False            nba     t5_2qo4s         public  \n",
       "1    81    False      AskReddit     t5_2qh1i         public  \n",
       "2   140    False  relationships     t5_2qjvn         public  \n",
       "3    52    False            nba     t5_2qo4s         public  \n",
       "4    62    False      AskReddit     t5_2qh1i         public  "
      ]
     },
     "execution_count": 107,
     "metadata": {},
     "output_type": "execute_result"
    }
   ],
   "source": [
    "jsonframe.head()"
   ]
  },
  {
   "cell_type": "markdown",
   "metadata": {},
   "source": [
    "<p>I'm not publishing it to be read by csv, but loading it back in was the best way to quickly tell if it was done properly. Well, that concludes the publishing section, and the phase notebook in general. Hope the progress I've made is to your liking!</p>"
   ]
  },
  {
   "cell_type": "code",
   "execution_count": null,
   "metadata": {},
   "outputs": [],
   "source": []
  }
 ],
 "metadata": {
  "kernelspec": {
   "display_name": "Python 3",
   "language": "python",
   "name": "python3"
  },
  "language_info": {
   "codemirror_mode": {
    "name": "ipython",
    "version": 3
   },
   "file_extension": ".py",
   "mimetype": "text/x-python",
   "name": "python",
   "nbconvert_exporter": "python",
   "pygments_lexer": "ipython3",
   "version": "3.7.1"
  }
 },
 "nbformat": 4,
 "nbformat_minor": 2
}
