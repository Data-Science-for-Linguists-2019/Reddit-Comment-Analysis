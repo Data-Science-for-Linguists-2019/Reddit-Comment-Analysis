{
 "cells": [
  {
   "cell_type": "code",
   "execution_count": 1,
   "metadata": {},
   "outputs": [],
   "source": [
    "import numpy as np\n",
    "import pandas as pd\n",
    "import seaborn as sns\n",
    "import matplotlib.pyplot as plt\n",
    "import json\n",
    "import sklearn\n",
    "import lzma\n",
    "import nltk\n",
    "\n",
    "from pandas.io.json import json_normalize\n",
    "from sklearn.model_selection import train_test_split\n",
    "from sklearn.naive_bayes import MultinomialNB\n",
    "from sklearn.feature_extraction.text import TfidfVectorizer\n",
    "from sklearn.svm import SVC"
   ]
  },
  {
   "cell_type": "markdown",
   "metadata": {},
   "source": [
    "<h1>Presentation Data</h1>\n",
    "<p>Hello there! For those of you bothering to look at this, I'm just generating some data/graphs for my presentation, so not much markdown like I normally do, though I will state what they are for.</p>"
   ]
  },
  {
   "cell_type": "code",
   "execution_count": 2,
   "metadata": {},
   "outputs": [],
   "source": [
    "redditframe = pd.read_pickle(\"../data/TokenizedRedditframe.pkl\")"
   ]
  },
  {
   "cell_type": "markdown",
   "metadata": {},
   "source": [
    "<p>The subreddits with the most negative comments.</p>"
   ]
  },
  {
   "cell_type": "code",
   "execution_count": 5,
   "metadata": {},
   "outputs": [
    {
     "data": {
      "text/plain": [
       "politics               4723\n",
       "AskReddit              4509\n",
       "worldnews              3250\n",
       "news                   2709\n",
       "nba                    2238\n",
       "StarWars               1365\n",
       "videos                 1180\n",
       "nfl                    1130\n",
       "movies                 1110\n",
       "leagueoflegends        1045\n",
       "PUBATTLEGROUNDS        1015\n",
       "soccer                 1014\n",
       "DestinyTheGame          993\n",
       "europe                  973\n",
       "pics                    795\n",
       "gaming                  794\n",
       "Bitcoin                 774\n",
       "conspiracy              761\n",
       "survivor                757\n",
       "todayilearned           735\n",
       "SquaredCircle           706\n",
       "funny                   660\n",
       "PoliticalHumor          651\n",
       "DotA2                   629\n",
       "Showerthoughts          613\n",
       "canada                  554\n",
       "CryptoCurrency          553\n",
       "technology              498\n",
       "Games                   469\n",
       "australia               429\n",
       "                       ... \n",
       "glassheads                1\n",
       "CampingandHiking          1\n",
       "Oxygennotincluded         1\n",
       "shmups                    1\n",
       "Porsche                   1\n",
       "TheoryOfReddit            1\n",
       "funkoswap                 1\n",
       "LipsThatGrip              1\n",
       "jailbreakdevelopers       1\n",
       "Digibyte                  1\n",
       "MostBeautiful             1\n",
       "porterrobinson            1\n",
       "TrueFilm                  1\n",
       "SFr4r                     1\n",
       "TianeptineVendors         1\n",
       "gloria_sol                1\n",
       "technews                  1\n",
       "Jaxmains                  1\n",
       "BarbaraDunkelman          1\n",
       "cumcoveredfucking         1\n",
       "TheWaterLew               1\n",
       "RileyReid                 1\n",
       "JamesFerraro              1\n",
       "coolguides                1\n",
       "ColoradoSprings           1\n",
       "djimavic                  1\n",
       "WindowsMR                 1\n",
       "Totaldrama                1\n",
       "redditsync                1\n",
       "jazzcirclejerk            1\n",
       "Name: subreddit, Length: 4139, dtype: int64"
      ]
     },
     "execution_count": 5,
     "metadata": {},
     "output_type": "execute_result"
    }
   ],
   "source": [
    "redditframe[redditframe.score < 0].subreddit.value_counts()"
   ]
  },
  {
   "cell_type": "markdown",
   "metadata": {},
   "source": [
    "<p>Subreddits with the most positive comments</p>"
   ]
  },
  {
   "cell_type": "code",
   "execution_count": 9,
   "metadata": {},
   "outputs": [
    {
     "data": {
      "text/plain": [
       "AskReddit                176476\n",
       "politics                  49591\n",
       "The_Donald                33080\n",
       "nba                       30907\n",
       "news                      26479\n",
       "worldnews                 24598\n",
       "StarWars                  22675\n",
       "survivor                  20599\n",
       "Bitcoin                   19473\n",
       "nfl                       17656\n",
       "movies                    15498\n",
       "DestinyTheGame            15290\n",
       "gaming                    14506\n",
       "PUBATTLEGROUNDS           14499\n",
       "pics                      14410\n",
       "videos                    14051\n",
       "funny                     13947\n",
       "Showerthoughts            13369\n",
       "leagueoflegends           13241\n",
       "CryptoCurrency            13061\n",
       "todayilearned             12078\n",
       "CFB                       11539\n",
       "fantasyfootball           11252\n",
       "teenagers                 10987\n",
       "RocketLeagueExchange      10095\n",
       "soccer                    10034\n",
       "SquaredCircle              9863\n",
       "btc                        9436\n",
       "DBZDokkanBattle            9004\n",
       "FIFA                       8824\n",
       "                          ...  \n",
       "MEMEVAULT                     1\n",
       "AutumnPorn                    1\n",
       "ShittyBuildaPC                1\n",
       "MedicalQuestions              1\n",
       "Dashaina                      1\n",
       "legsup                        1\n",
       "InsaneCameramen               1\n",
       "lostandfoundTO                1\n",
       "DDWRT                         1\n",
       "EngineBuilding                1\n",
       "FAU                           1\n",
       "BlacklistedRedditors          1\n",
       "mystory                       1\n",
       "SCBuildIt_Classifieds         1\n",
       "EliteDangerousPS4             1\n",
       "Dentists                      1\n",
       "AzumiNakama                   1\n",
       "op1                           1\n",
       "republicanism                 1\n",
       "MoleIsMoney                   1\n",
       "RadicalAgenda                 1\n",
       "Football_Highlights           1\n",
       "race                          1\n",
       "SwitchHacks                   1\n",
       "MissouriGreenParty            1\n",
       "overwatch_fanart              1\n",
       "u_ShizzleNizzle4              1\n",
       "NetworkSecurity               1\n",
       "COROLLA                       1\n",
       "HQGStudios                    1\n",
       "Name: subreddit, Length: 24110, dtype: int64"
      ]
     },
     "execution_count": 9,
     "metadata": {},
     "output_type": "execute_result"
    }
   ],
   "source": [
    "redditframe[redditframe.score > 0].subreddit.value_counts()"
   ]
  },
  {
   "cell_type": "markdown",
   "metadata": {},
   "source": [
    "<p>Most neutral comments</p>"
   ]
  },
  {
   "cell_type": "code",
   "execution_count": 10,
   "metadata": {},
   "outputs": [
    {
     "data": {
      "text/plain": [
       "AskReddit                5342\n",
       "politics                 2800\n",
       "worldnews                2251\n",
       "news                     2176\n",
       "StarWars                 1282\n",
       "nba                      1214\n",
       "Bitcoin                  1180\n",
       "leagueoflegends          1091\n",
       "DestinyTheGame           1091\n",
       "PUBATTLEGROUNDS           997\n",
       "movies                    893\n",
       "videos                    870\n",
       "Showerthoughts            806\n",
       "survivor                  746\n",
       "nfl                       735\n",
       "todayilearned             661\n",
       "gaming                    640\n",
       "pics                      633\n",
       "funny                     609\n",
       "conspiracy                606\n",
       "CryptoCurrency            603\n",
       "btc                       504\n",
       "technology                498\n",
       "DotA2                     486\n",
       "europe                    476\n",
       "soccer                    466\n",
       "SquaredCircle             459\n",
       "The_Donald                454\n",
       "CringeAnarchy             433\n",
       "gifs                      418\n",
       "                         ... \n",
       "FullMoviesOnline            1\n",
       "dogswearinghats             1\n",
       "GirlGamers                  1\n",
       "ambientmusic                1\n",
       "FoundPaper                  1\n",
       "dalmatians                  1\n",
       "simpleradar                 1\n",
       "usenet                      1\n",
       "Disneyland                  1\n",
       "JustBootThings              1\n",
       "Techno                      1\n",
       "DragonProjectGlobal         1\n",
       "TalesFromYourBarista        1\n",
       "cumcoveredfucking           1\n",
       "HeadphoneAdvice             1\n",
       "beberexha                   1\n",
       "portalknights               1\n",
       "quilling                    1\n",
       "WildernessBackpacking       1\n",
       "clothdiaps                  1\n",
       "onoffceleb                  1\n",
       "edX                         1\n",
       "gravityfalls                1\n",
       "OriannaMains                1\n",
       "learn_arabic                1\n",
       "AllisonParker               1\n",
       "LipsThatGrip                1\n",
       "cryptotwenty                1\n",
       "SQL                         1\n",
       "tooktoomuch                 1\n",
       "Name: subreddit, Length: 5054, dtype: int64"
      ]
     },
     "execution_count": 10,
     "metadata": {},
     "output_type": "execute_result"
    }
   ],
   "source": [
    "redditframe[redditframe.score == 0].subreddit.value_counts()"
   ]
  },
  {
   "cell_type": "code",
   "execution_count": 6,
   "metadata": {},
   "outputs": [
    {
     "data": {
      "text/plain": [
       "subreddit\n",
       "0Wtf_amIdoingHere     1.000000\n",
       "0ad                   2.000000\n",
       "0x7B1DEA01            1.000000\n",
       "0xProject             2.676923\n",
       "1000more              1.000000\n",
       "1000words             0.500000\n",
       "1001Movies            1.000000\n",
       "100movies365days      2.235294\n",
       "100sexiest            1.500000\n",
       "100thieves            1.000000\n",
       "100yearsago           2.500000\n",
       "101Wicca              2.500000\n",
       "1022                  1.666667\n",
       "10cloverfieldlane     2.666667\n",
       "10mm                  1.000000\n",
       "10years               1.000000\n",
       "117thOSINT            1.000000\n",
       "1200isjerky          12.666667\n",
       "1200isplenty          9.996479\n",
       "125R                  1.000000\n",
       "12Monkeys             3.200000\n",
       "12in12                1.571429\n",
       "12thMan               5.750000\n",
       "1337Foundation        1.000000\n",
       "13ReasonsWhy          4.333333\n",
       "13or30               15.600000\n",
       "13thage               2.941176\n",
       "14ers                 5.000000\n",
       "1500isplenty         17.142857\n",
       "15SecondStories       1.615385\n",
       "                       ...    \n",
       "zec                   1.661290\n",
       "zedmains              2.300000\n",
       "zelda                13.187127\n",
       "zeldaconspiracies     1.000000\n",
       "zen                   1.569512\n",
       "zenfone               1.333333\n",
       "zenfone2              1.000000\n",
       "zengmTPBL             1.000000\n",
       "zenwatch              1.750000\n",
       "zero                  1.000000\n",
       "zerocarb              3.018349\n",
       "zeronet               1.750000\n",
       "zfs                   2.000000\n",
       "ziftrCOIN             1.000000\n",
       "zine                  1.000000\n",
       "zines                 1.500000\n",
       "znanie                3.666667\n",
       "zoemains              1.615385\n",
       "zoieburgher           3.000000\n",
       "zoinofficial          3.000000\n",
       "zoloft                1.800000\n",
       "zombies               1.545455\n",
       "zoology               2.500000\n",
       "zoop                  2.000000\n",
       "zootopia              2.647619\n",
       "zpool                 1.235294\n",
       "zuckmemes            17.625000\n",
       "zurich                1.000000\n",
       "zyramains             2.000000\n",
       "zyzz                  2.000000\n",
       "Name: score, Length: 24214, dtype: float64"
      ]
     },
     "execution_count": 6,
     "metadata": {},
     "output_type": "execute_result"
    }
   ],
   "source": [
    "redditframe.groupby(\"subreddit\").score.mean()"
   ]
  },
  {
   "cell_type": "markdown",
   "metadata": {},
   "source": [
    "<p>Can't believe I never did this, but subreddit distribution.</p>"
   ]
  },
  {
   "cell_type": "code",
   "execution_count": 8,
   "metadata": {},
   "outputs": [
    {
     "data": {
      "text/plain": [
       "AskReddit               186327\n",
       "politics                 57114\n",
       "nba                      34359\n",
       "The_Donald               33815\n",
       "news                     31364\n",
       "worldnews                30099\n",
       "StarWars                 25322\n",
       "survivor                 22102\n",
       "Bitcoin                  21427\n",
       "nfl                      19521\n",
       "movies                   17501\n",
       "DestinyTheGame           17374\n",
       "PUBATTLEGROUNDS          16511\n",
       "videos                   16101\n",
       "gaming                   15940\n",
       "pics                     15838\n",
       "leagueoflegends          15377\n",
       "funny                    15216\n",
       "Showerthoughts           14788\n",
       "CryptoCurrency           14217\n",
       "todayilearned            13474\n",
       "CFB                      12190\n",
       "fantasyfootball          11753\n",
       "soccer                   11514\n",
       "teenagers                11252\n",
       "SquaredCircle            11028\n",
       "RocketLeagueExchange     10505\n",
       "btc                      10340\n",
       "DBZDokkanBattle           9608\n",
       "europe                    9526\n",
       "                         ...  \n",
       "Lineage2                     1\n",
       "Erotic_Art                   1\n",
       "BFGArmada                    1\n",
       "GTA3                         1\n",
       "ROS                          1\n",
       "Witcher4                     1\n",
       "age_regression               1\n",
       "u_2inked2                    1\n",
       "ventchat                     1\n",
       "Pronsporn                    1\n",
       "Trover                       1\n",
       "shittywoodworking            1\n",
       "Future_Technology            1\n",
       "morningcupofcoding           1\n",
       "Concrete                     1\n",
       "ringoffear                   1\n",
       "moraclubx                    1\n",
       "aomthegame                   1\n",
       "NasDANQ                      1\n",
       "IIFYM                        1\n",
       "Requestable                  1\n",
       "nunavut                      1\n",
       "jobadvice                    1\n",
       "kikwifepicswap               1\n",
       "localism                     1\n",
       "ImaginaryPortals             1\n",
       "LINEwebtoon                  1\n",
       "EOD                          1\n",
       "datingpinaygirls             1\n",
       "FunFair                      1\n",
       "Name: subreddit, Length: 24214, dtype: int64"
      ]
     },
     "execution_count": 8,
     "metadata": {},
     "output_type": "execute_result"
    }
   ],
   "source": [
    "redditframe.subreddit.value_counts()"
   ]
  },
  {
   "cell_type": "code",
   "execution_count": null,
   "metadata": {},
   "outputs": [],
   "source": [
    "redditframe"
   ]
  }
 ],
 "metadata": {
  "kernelspec": {
   "display_name": "Python 3",
   "language": "python",
   "name": "python3"
  },
  "language_info": {
   "codemirror_mode": {
    "name": "ipython",
    "version": 3
   },
   "file_extension": ".py",
   "mimetype": "text/x-python",
   "name": "python",
   "nbconvert_exporter": "python",
   "pygments_lexer": "ipython3",
   "version": "3.7.1"
  }
 },
 "nbformat": 4,
 "nbformat_minor": 2
}
